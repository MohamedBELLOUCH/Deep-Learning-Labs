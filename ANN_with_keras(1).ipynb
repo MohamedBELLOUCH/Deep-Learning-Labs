{
  "cells": [
    {
      "cell_type": "markdown",
      "metadata": {
        "id": "NYlmOrYKoqbu"
      },
      "source": [
        "# Artificial Neural Networks with Keras"
      ]
    },
    {
      "cell_type": "markdown",
      "metadata": {
        "id": "SGI0ftm4oqbz"
      },
      "source": [
        "<table align=\"left\">\n",
        "  <td>\n",
        "    <a target=\"_blank\" href=\"https://colab.research.google.com/github/AbdelMahm/INPT-2020/blob/master/Notebooks_DL/ANN_with_keras.ipynb\"><img src=\"https://colab.research.google.com/img/colab_favicon_256px.png\" />Run in Google Colab</a>\n",
        "  </td>\n",
        "</table>"
      ]
    },
    {
      "cell_type": "markdown",
      "metadata": {
        "id": "VZPYHp0Uoqb3"
      },
      "source": [
        "# Setup"
      ]
    },
    {
      "cell_type": "markdown",
      "source": [
        "Firstly, let's import a few common modules, ensure MatplotLib plots figures inline and prepare a function to save the figures. We also check that Python 3.5 or later is installed (although Python 2.x may work, it is deprecated so we strongly recommend you use Python 3 instead), as well as Scikit-Learn ≥0.20 and TensorFlow ≥2.0."
      ],
      "metadata": {
        "id": "B8RKQgfUlf-B"
      }
    },
    {
      "cell_type": "code",
      "execution_count": 1,
      "metadata": {
        "id": "WFNha1GpoqcC"
      },
      "outputs": [],
      "source": [
        "# TensorFlow ≥2.0 is required\n",
        "import tensorflow as tf\n",
        "\n",
        "# Common imports\n",
        "import numpy as np\n",
        "import os\n",
        "\n",
        "# to make this notebook's output stable across runs\n",
        "np.random.seed(42)\n",
        "\n",
        "# To plot pretty figures\n",
        "%matplotlib inline\n",
        "import matplotlib as mpl\n",
        "import matplotlib.pyplot as plt\n",
        "mpl.rc('axes', labelsize=14)\n",
        "mpl.rc('xtick', labelsize=12)\n",
        "mpl.rc('ytick', labelsize=12)\n",
        "\n",
        "# Ignore useless warnings (see SciPy issue #5998)\n",
        "import warnings\n",
        "warnings.filterwarnings(action=\"ignore\", message=\"^internal gelsd\")"
      ]
    },
    {
      "cell_type": "markdown",
      "metadata": {
        "id": "9F9ooa0noqcF"
      },
      "source": [
        "# Building an Image Classifier"
      ]
    },
    {
      "cell_type": "markdown",
      "metadata": {
        "id": "HbmRw2TCoqcK"
      },
      "source": [
        "First let's import TensorFlow and Keras."
      ]
    },
    {
      "cell_type": "code",
      "execution_count": 2,
      "metadata": {
        "collapsed": true,
        "id": "4axtcZx_oqcL"
      },
      "outputs": [],
      "source": [
        "import tensorflow as tf\n",
        "from tensorflow import keras"
      ]
    },
    {
      "cell_type": "code",
      "execution_count": 3,
      "metadata": {
        "id": "9FEx7hEWoqcO",
        "colab": {
          "base_uri": "https://localhost:8080/",
          "height": 35
        },
        "outputId": "f7243a63-71ee-44bf-8093-7cd0b42d9495"
      },
      "outputs": [
        {
          "output_type": "execute_result",
          "data": {
            "text/plain": [
              "'2.8.0'"
            ],
            "application/vnd.google.colaboratory.intrinsic+json": {
              "type": "string"
            }
          },
          "metadata": {},
          "execution_count": 3
        }
      ],
      "source": [
        "tf.__version__"
      ]
    },
    {
      "cell_type": "markdown",
      "metadata": {
        "id": "3_A2BK9PoqcT"
      },
      "source": [
        "Let's start by loading the fashion MNIST dataset. Keras has a number of functions to load popular datasets in `keras.datasets`. The dataset is already split for you between a training set and a test set, but it can be useful to split the training set further to have a validation set:"
      ]
    },
    {
      "cell_type": "code",
      "execution_count": 4,
      "metadata": {
        "collapsed": true,
        "id": "x-WbfIfloqcW"
      },
      "outputs": [],
      "source": [
        "fashion_mnist = keras.datasets.fashion_mnist\n",
        "(X_train_full, y_train_full), (X_test, y_test) = fashion_mnist.load_data()"
      ]
    },
    {
      "cell_type": "markdown",
      "metadata": {
        "id": "326Nm90aoqcb"
      },
      "source": [
        "The training set contains 60,000 grayscale images, each 28x28 pixels:"
      ]
    },
    {
      "cell_type": "code",
      "execution_count": 5,
      "metadata": {
        "id": "P0JbzaNxoqcd",
        "colab": {
          "base_uri": "https://localhost:8080/"
        },
        "outputId": "26907e3e-01a0-420a-b871-3aa02da4cab3"
      },
      "outputs": [
        {
          "output_type": "execute_result",
          "data": {
            "text/plain": [
              "(60000, 28, 28)"
            ]
          },
          "metadata": {},
          "execution_count": 5
        }
      ],
      "source": [
        "X_train_full.shape"
      ]
    },
    {
      "cell_type": "code",
      "source": [
        "type(X_train_full)"
      ],
      "metadata": {
        "colab": {
          "base_uri": "https://localhost:8080/"
        },
        "id": "oWe0kidEnGHi",
        "outputId": "fac51856-fad4-496f-cfb3-a9bc3a49127e"
      },
      "execution_count": 6,
      "outputs": [
        {
          "output_type": "execute_result",
          "data": {
            "text/plain": [
              "numpy.ndarray"
            ]
          },
          "metadata": {},
          "execution_count": 6
        }
      ]
    },
    {
      "cell_type": "markdown",
      "metadata": {
        "id": "7_0L0wRFoqcf"
      },
      "source": [
        "Each pixel intensity is represented as a byte (0 to 255):"
      ]
    },
    {
      "cell_type": "code",
      "execution_count": 7,
      "metadata": {
        "id": "k4IQGOOAoqch",
        "colab": {
          "base_uri": "https://localhost:8080/"
        },
        "outputId": "e1d48e58-525d-4dab-fbdb-d0acb43f6445"
      },
      "outputs": [
        {
          "output_type": "execute_result",
          "data": {
            "text/plain": [
              "dtype('uint8')"
            ]
          },
          "metadata": {},
          "execution_count": 7
        }
      ],
      "source": [
        "X_train_full.dtype"
      ]
    },
    {
      "cell_type": "markdown",
      "metadata": {
        "id": "jc6KtHN6oqci"
      },
      "source": [
        "Let's split the full training set into a validation set and a (smaller) training set. We also scale the pixel intensities down to the 0-1 range and convert them to floats, by dividing by 255."
      ]
    },
    {
      "cell_type": "code",
      "execution_count": 8,
      "metadata": {
        "collapsed": true,
        "id": "dAgjnw-boqcl"
      },
      "outputs": [],
      "source": [
        "X_valid, X_train = X_train_full[:5000] / 255., X_train_full[5000:] / 255.\n",
        "y_valid, y_train = y_train_full[:5000], y_train_full[5000:]\n",
        "X_test = X_test / 255."
      ]
    },
    {
      "cell_type": "markdown",
      "metadata": {
        "id": "Uk2i6djHoqcn"
      },
      "source": [
        "You can plot an image using Matplotlib's `imshow()` function, with a `'binary'`\n",
        " color map:"
      ]
    },
    {
      "cell_type": "code",
      "execution_count": 9,
      "metadata": {
        "id": "khBQSReeoqcp",
        "colab": {
          "base_uri": "https://localhost:8080/",
          "height": 248
        },
        "outputId": "620bccac-ac3b-436d-a22c-6a9df5c3e6fe"
      },
      "outputs": [
        {
          "output_type": "display_data",
          "data": {
            "text/plain": [
              "<Figure size 432x288 with 1 Axes>"
            ],
            "image/png": "[encoded data removed]"
          },
          "metadata": {
            "needs_background": "light"
          }
        }
      ],
      "source": [
        "plt.imshow(X_train[10], cmap=\"binary\")\n",
        "plt.axis('off')\n",
        "plt.show()"
      ]
    },
    {
      "cell_type": "markdown",
      "metadata": {
        "id": "Zpc-DGntoqcr"
      },
      "source": [
        "The labels are the class IDs (represented as uint8), from 0 to 9:"
      ]
    },
    {
      "cell_type": "code",
      "execution_count": 10,
      "metadata": {
        "id": "bRwW-uXgoqct",
        "colab": {
          "base_uri": "https://localhost:8080/"
        },
        "outputId": "5d14d34f-cf36-42e8-da33-544941b8f640"
      },
      "outputs": [
        {
          "output_type": "execute_result",
          "data": {
            "text/plain": [
              "array([4, 0, 7, ..., 3, 0, 5], dtype=uint8)"
            ]
          },
          "metadata": {},
          "execution_count": 10
        }
      ],
      "source": [
        "y_train"
      ]
    },
    {
      "cell_type": "code",
      "source": [
        "set(y_train)"
      ],
      "metadata": {
        "colab": {
          "base_uri": "https://localhost:8080/"
        },
        "id": "EwDKrZB_oGIT",
        "outputId": "822e06aa-d692-49e7-f08b-f9dab51a53fa"
      },
      "execution_count": 11,
      "outputs": [
        {
          "output_type": "execute_result",
          "data": {
            "text/plain": [
              "{0, 1, 2, 3, 4, 5, 6, 7, 8, 9}"
            ]
          },
          "metadata": {},
          "execution_count": 11
        }
      ]
    },
    {
      "cell_type": "markdown",
      "metadata": {
        "id": "Ron_SNeKoqcu"
      },
      "source": [
        "Here are the corresponding class names:"
      ]
    },
    {
      "cell_type": "code",
      "execution_count": 12,
      "metadata": {
        "collapsed": true,
        "id": "BAgBV4LPoqcw"
      },
      "outputs": [],
      "source": [
        "class_names = [\"T-shirt/top\", \"Trouser\", \"Pullover\", \"Dress\", \"Coat\",\n",
        "               \"Sandal\", \"Shirt\", \"Sneaker\", \"Bag\", \"Ankle boot\"]"
      ]
    },
    {
      "cell_type": "markdown",
      "metadata": {
        "id": "c9gCYcrAoqcy"
      },
      "source": [
        "So the first image in the training set is a coat:"
      ]
    },
    {
      "cell_type": "code",
      "execution_count": 13,
      "metadata": {
        "id": "61qFuSbkoqcz",
        "colab": {
          "base_uri": "https://localhost:8080/",
          "height": 35
        },
        "outputId": "13cb22a1-aa9b-4176-f096-475f9d8364c0"
      },
      "outputs": [
        {
          "output_type": "execute_result",
          "data": {
            "text/plain": [
              "'Coat'"
            ],
            "application/vnd.google.colaboratory.intrinsic+json": {
              "type": "string"
            }
          },
          "metadata": {},
          "execution_count": 13
        }
      ],
      "source": [
        "class_names[y_train[0]]"
      ]
    },
    {
      "cell_type": "markdown",
      "metadata": {
        "id": "3Fs-AzsVoqdM"
      },
      "source": [
        "The validation set contains 5,000 images, and the test set contains 10,000 images:"
      ]
    },
    {
      "cell_type": "code",
      "execution_count": 14,
      "metadata": {
        "id": "OifdHb7qoqdN",
        "colab": {
          "base_uri": "https://localhost:8080/"
        },
        "outputId": "c1491183-5703-4fac-d9dd-d666c5b93e27"
      },
      "outputs": [
        {
          "output_type": "execute_result",
          "data": {
            "text/plain": [
              "(5000, 28, 28)"
            ]
          },
          "metadata": {},
          "execution_count": 14
        }
      ],
      "source": [
        "X_valid.shape"
      ]
    },
    {
      "cell_type": "code",
      "execution_count": 15,
      "metadata": {
        "id": "7htRKYvWoqdP",
        "colab": {
          "base_uri": "https://localhost:8080/"
        },
        "outputId": "6a40b058-3e26-42a8-902c-f93650eb1c0c"
      },
      "outputs": [
        {
          "output_type": "execute_result",
          "data": {
            "text/plain": [
              "(10000, 28, 28)"
            ]
          },
          "metadata": {},
          "execution_count": 15
        }
      ],
      "source": [
        "X_test.shape"
      ]
    },
    {
      "cell_type": "markdown",
      "metadata": {
        "id": "ePeAxOTVoqdQ"
      },
      "source": [
        "Let's take a look at a sample of the images in the dataset:"
      ]
    },
    {
      "cell_type": "code",
      "execution_count": 16,
      "metadata": {
        "id": "tgm77iyOoqdR",
        "colab": {
          "base_uri": "https://localhost:8080/",
          "height": 308
        },
        "outputId": "ec48c736-54a0-4911-e81b-b4e84e3ba55b"
      },
      "outputs": [
        {
          "output_type": "display_data",
          "data": {
            "text/plain": [
              "<Figure size 864x345.6 with 40 Axes>"
            ],
            "image/png": "[encoded data removed]"
          },
          "metadata": {
            "needs_background": "light"
          }
        }
      ],
      "source": [
        "n_rows = 4\n",
        "n_cols = 10\n",
        "plt.figure(figsize=(n_cols * 1.2, n_rows * 1.2))\n",
        "for row in range(n_rows):\n",
        "    for col in range(n_cols):\n",
        "        index = n_cols * row + col\n",
        "        plt.subplot(n_rows, n_cols, index + 1)\n",
        "        plt.imshow(X_train[index], cmap=\"binary\", interpolation=\"nearest\")\n",
        "        plt.axis('off')\n",
        "        plt.title(class_names[y_train[index]], fontsize=12)\n",
        "plt.subplots_adjust(wspace=0.2, hspace=0.5)\n",
        "plt.show()"
      ]
    },
    {
      "cell_type": "markdown",
      "metadata": {
        "id": "0gr_3nCQoqdS"
      },
      "source": [
        "## Construct a Model"
      ]
    },
    {
      "cell_type": "code",
      "execution_count": 17,
      "metadata": {
        "collapsed": true,
        "id": "ebpo4k4ToqdU"
      },
      "outputs": [],
      "source": [
        "model = keras.models.Sequential()\n",
        "model.add(keras.layers.Flatten(input_shape=[28, 28]))\n",
        "model.add(keras.layers.Dense(300, activation=\"relu\"))\n",
        "model.add(keras.layers.Dense(100, activation=\"relu\"))\n",
        "model.add(keras.layers.Dense(10, activation=\"softmax\"))"
      ]
    },
    {
      "cell_type": "code",
      "execution_count": 18,
      "metadata": {
        "collapsed": true,
        "id": "QU3xg7stoqdW"
      },
      "outputs": [],
      "source": [
        "keras.backend.clear_session()\n",
        "np.random.seed(42)"
      ]
    },
    {
      "cell_type": "markdown",
      "metadata": {
        "id": "OygjhYS0oqdY"
      },
      "source": [
        "### or using the folowing method"
      ]
    },
    {
      "cell_type": "code",
      "execution_count": 19,
      "metadata": {
        "collapsed": true,
        "id": "7jMCwJOioqda"
      },
      "outputs": [],
      "source": [
        "model = keras.models.Sequential([\n",
        "    keras.layers.Flatten(input_shape=[28, 28]),\n",
        "    keras.layers.Dense(300, activation=\"relu\"),\n",
        "    keras.layers.Dense(100, activation=\"relu\"),\n",
        "    keras.layers.Dense(10, activation=\"softmax\")\n",
        "])"
      ]
    },
    {
      "cell_type": "code",
      "execution_count": 20,
      "metadata": {
        "id": "wT2CQGiwoqdc",
        "colab": {
          "base_uri": "https://localhost:8080/"
        },
        "outputId": "ad985ba9-b178-439d-941d-226c7d397f7f"
      },
      "outputs": [
        {
          "output_type": "execute_result",
          "data": {
            "text/plain": [
              "[<keras.layers.core.flatten.Flatten at 0x7f1aa4928490>,\n",
              " <keras.layers.core.dense.Dense at 0x7f1aa4928310>,\n",
              " <keras.layers.core.dense.Dense at 0x7f1aa490aa90>,\n",
              " <keras.layers.core.dense.Dense at 0x7f1aa490a690>]"
            ]
          },
          "metadata": {},
          "execution_count": 20
        }
      ],
      "source": [
        "model.layers"
      ]
    },
    {
      "cell_type": "code",
      "execution_count": 21,
      "metadata": {
        "id": "1q6NUkxjoqdd",
        "colab": {
          "base_uri": "https://localhost:8080/"
        },
        "outputId": "60df6a27-a10c-44a4-a398-de1b9de6a863"
      },
      "outputs": [
        {
          "output_type": "stream",
          "name": "stdout",
          "text": [
            "Model: \"sequential\"\n",
            "_________________________________________________________________\n",
            " Layer (type)                Output Shape              Param #   \n",
            "=================================================================\n",
            " flatten (Flatten)           (None, 784)               0         \n",
            "                                                                 \n",
            " dense (Dense)               (None, 300)               235500    \n",
            "                                                                 \n",
            " dense_1 (Dense)             (None, 100)               30100     \n",
            "                                                                 \n",
            " dense_2 (Dense)             (None, 10)                1010      \n",
            "                                                                 \n",
            "=================================================================\n",
            "Total params: 266,610\n",
            "Trainable params: 266,610\n",
            "Non-trainable params: 0\n",
            "_________________________________________________________________\n"
          ]
        }
      ],
      "source": [
        "model.summary()"
      ]
    },
    {
      "cell_type": "code",
      "execution_count": 22,
      "metadata": {
        "collapsed": true,
        "id": "CLprzk1Koqdf"
      },
      "outputs": [],
      "source": [
        "#keras.utils.plot_model(model, \"my_mnist_model.png\", show_shapes=True)"
      ]
    },
    {
      "cell_type": "code",
      "execution_count": 23,
      "metadata": {
        "id": "Xxi8cUraoqdg",
        "colab": {
          "base_uri": "https://localhost:8080/",
          "height": 35
        },
        "outputId": "a4b7ab19-325a-48d7-9b8c-eaac75335b9e"
      },
      "outputs": [
        {
          "output_type": "execute_result",
          "data": {
            "text/plain": [
              "'dense'"
            ],
            "application/vnd.google.colaboratory.intrinsic+json": {
              "type": "string"
            }
          },
          "metadata": {},
          "execution_count": 23
        }
      ],
      "source": [
        "hidden1 = model.layers[1]\n",
        "hidden1.name"
      ]
    },
    {
      "cell_type": "code",
      "execution_count": 24,
      "metadata": {
        "id": "Ds8pv0eZoqdh",
        "colab": {
          "base_uri": "https://localhost:8080/"
        },
        "outputId": "86a3e906-ee06-454b-ed60-3ff2eb266cf5"
      },
      "outputs": [
        {
          "output_type": "execute_result",
          "data": {
            "text/plain": [
              "True"
            ]
          },
          "metadata": {},
          "execution_count": 24
        }
      ],
      "source": [
        "model.get_layer(hidden1.name) is hidden1"
      ]
    },
    {
      "cell_type": "code",
      "execution_count": 25,
      "metadata": {
        "collapsed": true,
        "id": "dudtjhv1oqdj"
      },
      "outputs": [],
      "source": [
        "weights, biases = hidden1.get_weights()"
      ]
    },
    {
      "cell_type": "code",
      "execution_count": 26,
      "metadata": {
        "id": "l6oRZm-Yoqdl",
        "colab": {
          "base_uri": "https://localhost:8080/"
        },
        "outputId": "ddb3361a-9a4f-4a6c-e19b-b00be174a8a0"
      },
      "outputs": [
        {
          "output_type": "execute_result",
          "data": {
            "text/plain": [
              "array([[-6.2503919e-02,  1.1342913e-02,  7.2103947e-02, ...,\n",
              "         6.7562133e-02,  5.1189959e-04, -3.8644664e-02],\n",
              "       [-5.8088303e-03,  4.5235075e-02, -5.1371910e-02, ...,\n",
              "        -3.1967834e-03, -1.1612251e-03, -1.6565986e-02],\n",
              "       [-5.6443818e-02, -4.3098144e-02, -1.0039948e-02, ...,\n",
              "        -3.1743184e-02, -6.2549174e-02,  4.0467530e-03],\n",
              "       ...,\n",
              "       [ 1.8499412e-02, -3.8295984e-06,  3.6165088e-02, ...,\n",
              "        -4.5405820e-02, -5.5304840e-03,  3.5329759e-03],\n",
              "       [-5.7787850e-02,  6.5984085e-02, -2.5965720e-03, ...,\n",
              "        -2.5154654e-02,  4.0465310e-02, -5.2522510e-02],\n",
              "       [-5.1760741e-02,  6.2623382e-02, -4.5975521e-02, ...,\n",
              "        -7.0454739e-02, -2.0861935e-02,  3.0908652e-02]], dtype=float32)"
            ]
          },
          "metadata": {},
          "execution_count": 26
        }
      ],
      "source": [
        "weights"
      ]
    },
    {
      "cell_type": "code",
      "execution_count": 27,
      "metadata": {
        "id": "R_-nlCSFoqdn",
        "colab": {
          "base_uri": "https://localhost:8080/"
        },
        "outputId": "2333b31b-3373-4be2-eeb6-043574f2f43f"
      },
      "outputs": [
        {
          "output_type": "execute_result",
          "data": {
            "text/plain": [
              "(784, 300)"
            ]
          },
          "metadata": {},
          "execution_count": 27
        }
      ],
      "source": [
        "weights.shape"
      ]
    },
    {
      "cell_type": "code",
      "execution_count": 28,
      "metadata": {
        "id": "IzUk8jPGoqdo",
        "colab": {
          "base_uri": "https://localhost:8080/"
        },
        "outputId": "5c50237a-13e3-4b46-ff0a-f41bbdf4b8ad"
      },
      "outputs": [
        {
          "output_type": "execute_result",
          "data": {
            "text/plain": [
              "array([0., 0., 0., 0., 0., 0., 0., 0., 0., 0., 0., 0., 0., 0., 0., 0., 0.,\n",
              "       0., 0., 0., 0., 0., 0., 0., 0., 0., 0., 0., 0., 0., 0., 0., 0., 0.,\n",
              "       0., 0., 0., 0., 0., 0., 0., 0., 0., 0., 0., 0., 0., 0., 0., 0., 0.,\n",
              "       0., 0., 0., 0., 0., 0., 0., 0., 0., 0., 0., 0., 0., 0., 0., 0., 0.,\n",
              "       0., 0., 0., 0., 0., 0., 0., 0., 0., 0., 0., 0., 0., 0., 0., 0., 0.,\n",
              "       0., 0., 0., 0., 0., 0., 0., 0., 0., 0., 0., 0., 0., 0., 0., 0., 0.,\n",
              "       0., 0., 0., 0., 0., 0., 0., 0., 0., 0., 0., 0., 0., 0., 0., 0., 0.,\n",
              "       0., 0., 0., 0., 0., 0., 0., 0., 0., 0., 0., 0., 0., 0., 0., 0., 0.,\n",
              "       0., 0., 0., 0., 0., 0., 0., 0., 0., 0., 0., 0., 0., 0., 0., 0., 0.,\n",
              "       0., 0., 0., 0., 0., 0., 0., 0., 0., 0., 0., 0., 0., 0., 0., 0., 0.,\n",
              "       0., 0., 0., 0., 0., 0., 0., 0., 0., 0., 0., 0., 0., 0., 0., 0., 0.,\n",
              "       0., 0., 0., 0., 0., 0., 0., 0., 0., 0., 0., 0., 0., 0., 0., 0., 0.,\n",
              "       0., 0., 0., 0., 0., 0., 0., 0., 0., 0., 0., 0., 0., 0., 0., 0., 0.,\n",
              "       0., 0., 0., 0., 0., 0., 0., 0., 0., 0., 0., 0., 0., 0., 0., 0., 0.,\n",
              "       0., 0., 0., 0., 0., 0., 0., 0., 0., 0., 0., 0., 0., 0., 0., 0., 0.,\n",
              "       0., 0., 0., 0., 0., 0., 0., 0., 0., 0., 0., 0., 0., 0., 0., 0., 0.,\n",
              "       0., 0., 0., 0., 0., 0., 0., 0., 0., 0., 0., 0., 0., 0., 0., 0., 0.,\n",
              "       0., 0., 0., 0., 0., 0., 0., 0., 0., 0., 0.], dtype=float32)"
            ]
          },
          "metadata": {},
          "execution_count": 28
        }
      ],
      "source": [
        "biases"
      ]
    },
    {
      "cell_type": "code",
      "execution_count": 29,
      "metadata": {
        "id": "ptFrf5-koqdq",
        "colab": {
          "base_uri": "https://localhost:8080/"
        },
        "outputId": "3ac50ca3-efd3-40cf-b209-708966b77c58"
      },
      "outputs": [
        {
          "output_type": "execute_result",
          "data": {
            "text/plain": [
              "(300,)"
            ]
          },
          "metadata": {},
          "execution_count": 29
        }
      ],
      "source": [
        "biases.shape"
      ]
    },
    {
      "cell_type": "markdown",
      "metadata": {
        "id": "nnt3lh2ooqds"
      },
      "source": [
        "### Compile the Model\n",
        "Here you can chose the loss function, the optimizer, the performance metric, etc. check Keras documentation for further details."
      ]
    },
    {
      "cell_type": "code",
      "execution_count": 30,
      "metadata": {
        "collapsed": true,
        "id": "D-E4hgQ-oqdu"
      },
      "outputs": [],
      "source": [
        "model.compile(loss=\"sparse_categorical_crossentropy\",\n",
        "              optimizer=\"sgd\",\n",
        "              metrics=[\"accuracy\"])"
      ]
    },
    {
      "cell_type": "markdown",
      "metadata": {
        "id": "YJRNE7Jfoqdw"
      },
      "source": [
        "This is equivalent to:"
      ]
    },
    {
      "cell_type": "markdown",
      "metadata": {
        "id": "FaTd9wbtoqdx"
      },
      "source": [
        "```python\n",
        "model.compile(loss=keras.losses.sparse_categorical_crossentropy,\n",
        "              optimizer=keras.optimizers.SGD(),\n",
        "              metrics=[keras.metrics.sparse_categorical_accuracy])\n",
        "```"
      ]
    },
    {
      "cell_type": "markdown",
      "metadata": {
        "id": "YDmW6yTyoqdz"
      },
      "source": [
        "### Train the model\n",
        "Here you can chose how many epochs you need and the batch size."
      ]
    },
    {
      "cell_type": "code",
      "execution_count": 31,
      "metadata": {
        "id": "VyeLfKiFoqd0",
        "colab": {
          "base_uri": "https://localhost:8080/"
        },
        "outputId": "a46db3ee-109c-4b7a-ebc0-6114b482f0f6"
      },
      "outputs": [
        {
          "output_type": "stream",
          "name": "stdout",
          "text": [
            "Epoch 1/30\n",
            "1719/1719 [==============================] - 7s 4ms/step - loss: 0.7150 - accuracy: 0.7662 - val_loss: 0.5631 - val_accuracy: 0.7912\n",
            "Epoch 2/30\n",
            "1719/1719 [==============================] - 6s 4ms/step - loss: 0.4900 - accuracy: 0.8294 - val_loss: 0.4599 - val_accuracy: 0.8398\n",
            "Epoch 3/30\n",
            "1719/1719 [==============================] - 6s 3ms/step - loss: 0.4454 - accuracy: 0.8438 - val_loss: 0.4216 - val_accuracy: 0.8532\n",
            "Epoch 4/30\n",
            "1719/1719 [==============================] - 6s 3ms/step - loss: 0.4185 - accuracy: 0.8528 - val_loss: 0.3980 - val_accuracy: 0.8628\n",
            "Epoch 5/30\n",
            "1719/1719 [==============================] - 6s 4ms/step - loss: 0.3985 - accuracy: 0.8601 - val_loss: 0.3841 - val_accuracy: 0.8686\n",
            "Epoch 6/30\n",
            "1719/1719 [==============================] - 6s 3ms/step - loss: 0.3827 - accuracy: 0.8653 - val_loss: 0.3760 - val_accuracy: 0.8688\n",
            "Epoch 7/30\n",
            "1719/1719 [==============================] - 6s 4ms/step - loss: 0.3681 - accuracy: 0.8698 - val_loss: 0.3836 - val_accuracy: 0.8616\n",
            "Epoch 8/30\n",
            "1719/1719 [==============================] - 6s 4ms/step - loss: 0.3573 - accuracy: 0.8721 - val_loss: 0.3769 - val_accuracy: 0.8694\n",
            "Epoch 9/30\n",
            "1719/1719 [==============================] - 6s 3ms/step - loss: 0.3462 - accuracy: 0.8783 - val_loss: 0.3659 - val_accuracy: 0.8690\n",
            "Epoch 10/30\n",
            "1719/1719 [==============================] - 6s 4ms/step - loss: 0.3383 - accuracy: 0.8799 - val_loss: 0.3481 - val_accuracy: 0.8784\n",
            "Epoch 11/30\n",
            "1719/1719 [==============================] - 6s 3ms/step - loss: 0.3294 - accuracy: 0.8827 - val_loss: 0.3606 - val_accuracy: 0.8754\n",
            "Epoch 12/30\n",
            "1719/1719 [==============================] - 6s 3ms/step - loss: 0.3203 - accuracy: 0.8855 - val_loss: 0.3365 - val_accuracy: 0.8778\n",
            "Epoch 13/30\n",
            "1719/1719 [==============================] - 6s 3ms/step - loss: 0.3134 - accuracy: 0.8868 - val_loss: 0.3305 - val_accuracy: 0.8866\n",
            "Epoch 14/30\n",
            "1719/1719 [==============================] - 6s 3ms/step - loss: 0.3078 - accuracy: 0.8902 - val_loss: 0.3257 - val_accuracy: 0.8844\n",
            "Epoch 15/30\n",
            "1719/1719 [==============================] - 6s 3ms/step - loss: 0.3002 - accuracy: 0.8920 - val_loss: 0.3348 - val_accuracy: 0.8782\n",
            "Epoch 16/30\n",
            "1719/1719 [==============================] - 6s 4ms/step - loss: 0.2942 - accuracy: 0.8941 - val_loss: 0.3221 - val_accuracy: 0.8846\n",
            "Epoch 17/30\n",
            "1719/1719 [==============================] - 6s 4ms/step - loss: 0.2885 - accuracy: 0.8967 - val_loss: 0.3330 - val_accuracy: 0.8802\n",
            "Epoch 18/30\n",
            "1719/1719 [==============================] - 6s 4ms/step - loss: 0.2829 - accuracy: 0.8976 - val_loss: 0.3250 - val_accuracy: 0.8846\n",
            "Epoch 19/30\n",
            "1719/1719 [==============================] - 6s 3ms/step - loss: 0.2774 - accuracy: 0.9001 - val_loss: 0.3113 - val_accuracy: 0.8884\n",
            "Epoch 20/30\n",
            "1719/1719 [==============================] - 6s 4ms/step - loss: 0.2725 - accuracy: 0.9013 - val_loss: 0.3249 - val_accuracy: 0.8858\n",
            "Epoch 21/30\n",
            "1719/1719 [==============================] - 6s 3ms/step - loss: 0.2679 - accuracy: 0.9026 - val_loss: 0.3052 - val_accuracy: 0.8906\n",
            "Epoch 22/30\n",
            "1719/1719 [==============================] - 6s 3ms/step - loss: 0.2621 - accuracy: 0.9060 - val_loss: 0.3096 - val_accuracy: 0.8872\n",
            "Epoch 23/30\n",
            "1719/1719 [==============================] - 6s 4ms/step - loss: 0.2576 - accuracy: 0.9077 - val_loss: 0.2980 - val_accuracy: 0.8928\n",
            "Epoch 24/30\n",
            "1719/1719 [==============================] - 6s 4ms/step - loss: 0.2537 - accuracy: 0.9082 - val_loss: 0.3002 - val_accuracy: 0.8906\n",
            "Epoch 25/30\n",
            "1719/1719 [==============================] - 6s 4ms/step - loss: 0.2496 - accuracy: 0.9099 - val_loss: 0.3192 - val_accuracy: 0.8812\n",
            "Epoch 26/30\n",
            "1719/1719 [==============================] - 6s 4ms/step - loss: 0.2461 - accuracy: 0.9117 - val_loss: 0.3088 - val_accuracy: 0.8850\n",
            "Epoch 27/30\n",
            "1719/1719 [==============================] - 6s 4ms/step - loss: 0.2415 - accuracy: 0.9126 - val_loss: 0.3155 - val_accuracy: 0.8914\n",
            "Epoch 28/30\n",
            "1719/1719 [==============================] - 6s 4ms/step - loss: 0.2380 - accuracy: 0.9137 - val_loss: 0.3050 - val_accuracy: 0.8908\n",
            "Epoch 29/30\n",
            "1719/1719 [==============================] - 6s 4ms/step - loss: 0.2325 - accuracy: 0.9165 - val_loss: 0.3001 - val_accuracy: 0.8872\n",
            "Epoch 30/30\n",
            "1719/1719 [==============================] - 6s 4ms/step - loss: 0.2297 - accuracy: 0.9178 - val_loss: 0.2960 - val_accuracy: 0.8924\n"
          ]
        }
      ],
      "source": [
        "history = model.fit(X_train, y_train, batch_size=32, epochs=30,\n",
        "                    validation_data=(X_valid, y_valid))"
      ]
    },
    {
      "cell_type": "code",
      "execution_count": 32,
      "metadata": {
        "id": "xdIE4UpMoqd1",
        "colab": {
          "base_uri": "https://localhost:8080/"
        },
        "outputId": "2974579d-f864-4422-ef5f-2b253256c3f9"
      },
      "outputs": [
        {
          "output_type": "execute_result",
          "data": {
            "text/plain": [
              "{'epochs': 30, 'steps': 1719, 'verbose': 1}"
            ]
          },
          "metadata": {},
          "execution_count": 32
        }
      ],
      "source": [
        "history.params"
      ]
    },
    {
      "cell_type": "code",
      "execution_count": 33,
      "metadata": {
        "id": "mV4mPNOkoqd3",
        "colab": {
          "base_uri": "https://localhost:8080/"
        },
        "outputId": "12dd59a5-7205-43df-9dea-36932007bf14"
      },
      "outputs": [
        {
          "output_type": "stream",
          "name": "stdout",
          "text": [
            "[0, 1, 2, 3, 4, 5, 6, 7, 8, 9, 10, 11, 12, 13, 14, 15, 16, 17, 18, 19, 20, 21, 22, 23, 24, 25, 26, 27, 28, 29]\n"
          ]
        }
      ],
      "source": [
        "print(history.epoch)"
      ]
    },
    {
      "cell_type": "code",
      "execution_count": 34,
      "metadata": {
        "id": "skAIXTy-oqd-",
        "colab": {
          "base_uri": "https://localhost:8080/"
        },
        "outputId": "ea66291f-f9c0-4016-c25c-848cbda49b09"
      },
      "outputs": [
        {
          "output_type": "execute_result",
          "data": {
            "text/plain": [
              "dict_keys(['loss', 'accuracy', 'val_loss', 'val_accuracy'])"
            ]
          },
          "metadata": {},
          "execution_count": 34
        }
      ],
      "source": [
        "history.history.keys()"
      ]
    },
    {
      "cell_type": "markdown",
      "metadata": {
        "id": "Wjnfqx4OoqeA"
      },
      "source": [
        "### Plot learning Curves"
      ]
    },
    {
      "cell_type": "code",
      "execution_count": 35,
      "metadata": {
        "id": "6mooF50ZoqeB",
        "colab": {
          "base_uri": "https://localhost:8080/",
          "height": 328
        },
        "outputId": "045f0e87-3bed-4974-8067-50fc662be04b"
      },
      "outputs": [
        {
          "output_type": "display_data",
          "data": {
            "text/plain": [
              "<Figure size 576x360 with 1 Axes>"
            ],
            "image/png": "[encoded data removed]"
          },
          "metadata": {
            "needs_background": "light"
          }
        }
      ],
      "source": [
        "import pandas as pd\n",
        "\n",
        "pd.DataFrame(history.history).plot(figsize=(8, 5))\n",
        "plt.grid(True)\n",
        "plt.gca().set_ylim(0, 1)\n",
        "plt.show()"
      ]
    },
    {
      "cell_type": "code",
      "execution_count": 36,
      "metadata": {
        "id": "VcQarsgWoqeD",
        "colab": {
          "base_uri": "https://localhost:8080/"
        },
        "outputId": "ebc684a7-9da5-4e35-93e2-401f8ec8fe57"
      },
      "outputs": [
        {
          "output_type": "stream",
          "name": "stdout",
          "text": [
            "313/313 [==============================] - 1s 2ms/step - loss: 0.3302 - accuracy: 0.8854\n"
          ]
        },
        {
          "output_type": "execute_result",
          "data": {
            "text/plain": [
              "[0.33024877309799194, 0.8853999972343445]"
            ]
          },
          "metadata": {},
          "execution_count": 36
        }
      ],
      "source": [
        "model.evaluate(X_test, y_test)"
      ]
    },
    {
      "cell_type": "code",
      "execution_count": 37,
      "metadata": {
        "id": "Hq9m1e1IoqeE",
        "colab": {
          "base_uri": "https://localhost:8080/"
        },
        "outputId": "b1888958-f2f2-484b-a349-ef3c4d0f2b2b"
      },
      "outputs": [
        {
          "output_type": "execute_result",
          "data": {
            "text/plain": [
              "array([[0.  , 0.  , 0.  , 0.  , 0.  , 0.  , 0.  , 0.01, 0.  , 0.99],\n",
              "       [0.  , 0.  , 0.99, 0.  , 0.01, 0.  , 0.  , 0.  , 0.  , 0.  ],\n",
              "       [0.  , 1.  , 0.  , 0.  , 0.  , 0.  , 0.  , 0.  , 0.  , 0.  ]],\n",
              "      dtype=float32)"
            ]
          },
          "metadata": {},
          "execution_count": 37
        }
      ],
      "source": [
        "X_new = X_test[:3]\n",
        "y_proba = model.predict(X_new)\n",
        "y_proba.round(2)"
      ]
    },
    {
      "cell_type": "code",
      "source": [
        "X_new.shape"
      ],
      "metadata": {
        "colab": {
          "base_uri": "https://localhost:8080/"
        },
        "id": "-fuLcUlJ5I2-",
        "outputId": "a00d8e23-cc9b-4198-848e-4adeb44f44b2"
      },
      "execution_count": 38,
      "outputs": [
        {
          "output_type": "execute_result",
          "data": {
            "text/plain": [
              "(3, 28, 28)"
            ]
          },
          "metadata": {},
          "execution_count": 38
        }
      ]
    },
    {
      "cell_type": "code",
      "execution_count": 39,
      "metadata": {
        "id": "ODD0M3aAoqeF",
        "colab": {
          "base_uri": "https://localhost:8080/"
        },
        "outputId": "e2ddef58-d818-400e-f655-d2760bdc81ee"
      },
      "outputs": [
        {
          "output_type": "execute_result",
          "data": {
            "text/plain": [
              "array([9, 2, 1])"
            ]
          },
          "metadata": {},
          "execution_count": 39
        }
      ],
      "source": [
        "y_pred = model.predict(X_new)\n",
        "y_pred = np.argmax(y_pred, axis=1)\n",
        "y_pred"
      ]
    },
    {
      "cell_type": "code",
      "execution_count": 40,
      "metadata": {
        "id": "E3-osBHZoqeG",
        "colab": {
          "base_uri": "https://localhost:8080/"
        },
        "outputId": "7778f76c-60a7-40b1-e7d4-0a098f0ffa74"
      },
      "outputs": [
        {
          "output_type": "execute_result",
          "data": {
            "text/plain": [
              "array(['Ankle boot', 'Pullover', 'Trouser'], dtype='<U11')"
            ]
          },
          "metadata": {},
          "execution_count": 40
        }
      ],
      "source": [
        "np.array(class_names)[y_pred]"
      ]
    },
    {
      "cell_type": "code",
      "source": [
        "plt.imshow(X_new[2], cmap=\"binary\")\n",
        "plt.axis('off')\n",
        "plt.show()"
      ],
      "metadata": {
        "colab": {
          "base_uri": "https://localhost:8080/",
          "height": 248
        },
        "id": "aR_hLkG6BJIF",
        "outputId": "b721a118-4225-4623-ba66-519e2f285ebc"
      },
      "execution_count": 41,
      "outputs": [
        {
          "output_type": "display_data",
          "data": {
            "text/plain": [
              "<Figure size 432x288 with 1 Axes>"
            ],
            "image/png": "[encoded data removed]"
          },
          "metadata": {
            "needs_background": "light"
          }
        }
      ]
    },
    {
      "cell_type": "code",
      "execution_count": 42,
      "metadata": {
        "id": "OjzgMIbtoqeH",
        "colab": {
          "base_uri": "https://localhost:8080/"
        },
        "outputId": "f2b4135a-b9c2-4576-8a1e-97633abacb82"
      },
      "outputs": [
        {
          "output_type": "execute_result",
          "data": {
            "text/plain": [
              "array([9, 2, 1], dtype=uint8)"
            ]
          },
          "metadata": {},
          "execution_count": 42
        }
      ],
      "source": [
        "y_new = y_test[:3]\n",
        "y_new"
      ]
    },
    {
      "cell_type": "code",
      "execution_count": 43,
      "metadata": {
        "id": "RVafJdG-oqeK",
        "colab": {
          "base_uri": "https://localhost:8080/",
          "height": 165
        },
        "outputId": "32573e08-b9f3-4e2b-9d36-e52da0247d79"
      },
      "outputs": [
        {
          "output_type": "display_data",
          "data": {
            "text/plain": [
              "<Figure size 518.4x172.8 with 3 Axes>"
            ],
            "image/png": "[encoded data removed]"
          },
          "metadata": {
            "needs_background": "light"
          }
        }
      ],
      "source": [
        "plt.figure(figsize=(7.2, 2.4))\n",
        "for index, image in enumerate(X_new):\n",
        "    plt.subplot(1, 3, index + 1)\n",
        "    plt.imshow(image, cmap=\"binary\", interpolation=\"nearest\")\n",
        "    plt.axis('off')\n",
        "    plt.title(class_names[y_test[index]], fontsize=12)\n",
        "plt.subplots_adjust(wspace=0.2, hspace=0.5)\n",
        "plt.show()"
      ]
    },
    {
      "cell_type": "markdown",
      "metadata": {
        "collapsed": true,
        "id": "6wbyWjc7oqeK"
      },
      "source": [
        "## Exercise"
      ]
    },
    {
      "cell_type": "markdown",
      "metadata": {
        "id": "qre8FBJqoqeM"
      },
      "source": [
        "#### 1) Plot Learning curves when using different optimizers\n",
        "#### 2) Plot Learning curves when using different batch size\n",
        "#### 3) Plot Learning curves when using different number of epochs\n",
        "#### 4) Add additional neurons and use Dropout Layer. Plot Learning curves.\n",
        "#### 5) Use Batch Normalisation\n",
        "#### 6) repeat with more layers\n",
        "#### 7) apply on different datasets"
      ]
    },
    {
      "cell_type": "markdown",
      "source": [
        "## 1) Plot Learning curves when using different optimizers"
      ],
      "metadata": {
        "id": "m7BskLFpBoCQ"
      }
    },
    {
      "cell_type": "code",
      "source": [
        "model = keras.models.Sequential([\n",
        "    keras.layers.Flatten(input_shape=[28, 28]),\n",
        "    keras.layers.Dense(300, activation=\"relu\"),\n",
        "    keras.layers.Dense(100, activation=\"relu\"),\n",
        "    keras.layers.Dense(10, activation=\"softmax\")\n",
        "  ])\n",
        "plt.figure(figsize = (15,8))\n",
        "optimisers = [\"sgd\", \"rmsprop\", \"adadelta\", \"adagrad\",\n",
        "              \"adamax\", \"nadam\", \"ftrl\", \"adam\"]\n",
        "\n",
        "for i in range(len(optimisers)):\n",
        "  plt.subplot(2, 4, i+1)\n",
        "  model.compile(loss=\"sparse_categorical_crossentropy\",\n",
        "              optimizer=optimisers[i],\n",
        "              metrics=[\"accuracy\"])\n",
        "  history = model.fit(X_train, y_train, batch_size=32, epochs=30,\n",
        "                    validation_data=(X_valid, y_valid, verbose=0)\n",
        "  plt.plot(pd.DataFrame(history.history))\n",
        "  plt.grid(True)\n",
        "  plt.gca().set_ylim(0, 1)\n",
        "  plt.title(optimisers[i])\n",
        "plt.show()"
      ],
      "metadata": {
        "colab": {
          "base_uri": "https://localhost:8080/",
          "height": 1000
        },
        "id": "KiMkmuSdBuI3",
        "outputId": "766cc423-7eb1-4393-f377-33e262f3a10d"
      },
      "execution_count": 44,
      "outputs": [
        {
          "output_type": "stream",
          "name": "stdout",
          "text": [
            "Epoch 1/30\n",
            "1719/1719 [==============================] - 7s 4ms/step - loss: 0.7121 - accuracy: 0.7673 - val_loss: 0.5085 - val_accuracy: 0.8316\n",
            "Epoch 2/30\n",
            "1719/1719 [==============================] - 6s 3ms/step - loss: 0.4854 - accuracy: 0.8317 - val_loss: 0.4394 - val_accuracy: 0.8506\n",
            "Epoch 3/30\n",
            "1719/1719 [==============================] - 6s 3ms/step - loss: 0.4415 - accuracy: 0.8459 - val_loss: 0.4471 - val_accuracy: 0.8430\n",
            "Epoch 4/30\n",
            "1719/1719 [==============================] - 6s 4ms/step - loss: 0.4152 - accuracy: 0.8552 - val_loss: 0.3981 - val_accuracy: 0.8640\n",
            "Epoch 5/30\n",
            "1719/1719 [==============================] - 6s 3ms/step - loss: 0.3939 - accuracy: 0.8625 - val_loss: 0.3750 - val_accuracy: 0.8728\n",
            "Epoch 6/30\n",
            "1719/1719 [==============================] - 6s 3ms/step - loss: 0.3776 - accuracy: 0.8671 - val_loss: 0.3800 - val_accuracy: 0.8686\n",
            "Epoch 7/30\n",
            "1719/1719 [==============================] - 6s 3ms/step - loss: 0.3639 - accuracy: 0.8707 - val_loss: 0.3647 - val_accuracy: 0.8752\n",
            "Epoch 8/30\n",
            "1719/1719 [==============================] - 6s 4ms/step - loss: 0.3524 - accuracy: 0.8765 - val_loss: 0.3481 - val_accuracy: 0.8784\n",
            "Epoch 9/30\n",
            "1719/1719 [==============================] - 6s 3ms/step - loss: 0.3432 - accuracy: 0.8776 - val_loss: 0.3552 - val_accuracy: 0.8780\n",
            "Epoch 10/30\n",
            "1719/1719 [==============================] - 6s 3ms/step - loss: 0.3340 - accuracy: 0.8813 - val_loss: 0.3474 - val_accuracy: 0.8796\n",
            "Epoch 11/30\n",
            "1719/1719 [==============================] - 6s 4ms/step - loss: 0.3240 - accuracy: 0.8846 - val_loss: 0.3672 - val_accuracy: 0.8676\n",
            "Epoch 12/30\n",
            "1719/1719 [==============================] - 6s 3ms/step - loss: 0.3168 - accuracy: 0.8873 - val_loss: 0.3393 - val_accuracy: 0.8776\n",
            "Epoch 13/30\n",
            "1719/1719 [==============================] - 6s 3ms/step - loss: 0.3096 - accuracy: 0.8890 - val_loss: 0.3329 - val_accuracy: 0.8816\n",
            "Epoch 14/30\n",
            "1719/1719 [==============================] - 6s 3ms/step - loss: 0.3038 - accuracy: 0.8909 - val_loss: 0.3331 - val_accuracy: 0.8864\n",
            "Epoch 15/30\n",
            "1719/1719 [==============================] - 6s 4ms/step - loss: 0.2965 - accuracy: 0.8943 - val_loss: 0.3282 - val_accuracy: 0.8838\n",
            "Epoch 16/30\n",
            "1719/1719 [==============================] - 6s 4ms/step - loss: 0.2897 - accuracy: 0.8971 - val_loss: 0.3162 - val_accuracy: 0.8874\n",
            "Epoch 17/30\n",
            "1719/1719 [==============================] - 6s 3ms/step - loss: 0.2842 - accuracy: 0.8982 - val_loss: 0.3422 - val_accuracy: 0.8790\n",
            "Epoch 18/30\n",
            "1719/1719 [==============================] - 6s 3ms/step - loss: 0.2789 - accuracy: 0.8992 - val_loss: 0.3399 - val_accuracy: 0.8784\n",
            "Epoch 19/30\n",
            "1719/1719 [==============================] - 6s 3ms/step - loss: 0.2732 - accuracy: 0.9030 - val_loss: 0.3167 - val_accuracy: 0.8878\n",
            "Epoch 20/30\n",
            "1719/1719 [==============================] - 6s 3ms/step - loss: 0.2683 - accuracy: 0.9038 - val_loss: 0.3057 - val_accuracy: 0.8916\n",
            "Epoch 21/30\n",
            "1719/1719 [==============================] - 6s 3ms/step - loss: 0.2635 - accuracy: 0.9064 - val_loss: 0.3078 - val_accuracy: 0.8928\n",
            "Epoch 22/30\n",
            "1719/1719 [==============================] - 6s 4ms/step - loss: 0.2584 - accuracy: 0.9076 - val_loss: 0.3125 - val_accuracy: 0.8888\n",
            "Epoch 23/30\n",
            "1719/1719 [==============================] - 6s 3ms/step - loss: 0.2536 - accuracy: 0.9087 - val_loss: 0.3015 - val_accuracy: 0.8932\n",
            "Epoch 24/30\n",
            "1719/1719 [==============================] - 6s 3ms/step - loss: 0.2495 - accuracy: 0.9112 - val_loss: 0.3005 - val_accuracy: 0.8936\n",
            "Epoch 25/30\n",
            "1719/1719 [==============================] - 6s 4ms/step - loss: 0.2452 - accuracy: 0.9119 - val_loss: 0.3047 - val_accuracy: 0.8870\n",
            "Epoch 26/30\n",
            "1719/1719 [==============================] - 6s 3ms/step - loss: 0.2418 - accuracy: 0.9127 - val_loss: 0.3019 - val_accuracy: 0.8904\n",
            "Epoch 27/30\n",
            "1719/1719 [==============================] - 6s 3ms/step - loss: 0.2370 - accuracy: 0.9146 - val_loss: 0.2965 - val_accuracy: 0.8896\n",
            "Epoch 28/30\n",
            "1719/1719 [==============================] - 6s 4ms/step - loss: 0.2324 - accuracy: 0.9169 - val_loss: 0.3170 - val_accuracy: 0.8856\n",
            "Epoch 29/30\n",
            "1719/1719 [==============================] - 6s 4ms/step - loss: 0.2290 - accuracy: 0.9181 - val_loss: 0.2955 - val_accuracy: 0.8904\n",
            "Epoch 30/30\n",
            "1719/1719 [==============================] - 6s 4ms/step - loss: 0.2251 - accuracy: 0.9196 - val_loss: 0.3002 - val_accuracy: 0.8938\n",
            "Epoch 1/30\n",
            "1719/1719 [==============================] - 9s 5ms/step - loss: 0.4246 - accuracy: 0.8491 - val_loss: 0.3587 - val_accuracy: 0.8768\n",
            "Epoch 2/30\n",
            "1719/1719 [==============================] - 8s 5ms/step - loss: 0.3646 - accuracy: 0.8711 - val_loss: 0.3564 - val_accuracy: 0.8798\n",
            "Epoch 3/30\n",
            "1719/1719 [==============================] - 8s 5ms/step - loss: 0.3453 - accuracy: 0.8806 - val_loss: 0.3952 - val_accuracy: 0.8828\n",
            "Epoch 4/30\n",
            "1719/1719 [==============================] - 8s 5ms/step - loss: 0.3371 - accuracy: 0.8819 - val_loss: 0.3875 - val_accuracy: 0.8742\n",
            "Epoch 5/30\n",
            "1719/1719 [==============================] - 8s 5ms/step - loss: 0.3310 - accuracy: 0.8876 - val_loss: 0.4125 - val_accuracy: 0.8696\n",
            "Epoch 6/30\n",
            "1719/1719 [==============================] - 8s 5ms/step - loss: 0.3253 - accuracy: 0.8913 - val_loss: 0.4118 - val_accuracy: 0.8848\n",
            "Epoch 7/30\n",
            "1719/1719 [==============================] - 8s 5ms/step - loss: 0.3213 - accuracy: 0.8943 - val_loss: 0.4527 - val_accuracy: 0.8772\n",
            "Epoch 8/30\n",
            "1719/1719 [==============================] - 8s 5ms/step - loss: 0.3193 - accuracy: 0.8935 - val_loss: 0.4558 - val_accuracy: 0.8788\n",
            "Epoch 9/30\n",
            "1719/1719 [==============================] - 8s 5ms/step - loss: 0.3101 - accuracy: 0.8960 - val_loss: 0.4418 - val_accuracy: 0.8934\n",
            "Epoch 10/30\n",
            "1719/1719 [==============================] - 9s 5ms/step - loss: 0.3067 - accuracy: 0.8973 - val_loss: 0.4811 - val_accuracy: 0.8810\n",
            "Epoch 11/30\n",
            "1719/1719 [==============================] - 9s 5ms/step - loss: 0.2995 - accuracy: 0.9007 - val_loss: 0.5042 - val_accuracy: 0.8808\n",
            "Epoch 12/30\n",
            "1719/1719 [==============================] - 8s 5ms/step - loss: 0.2996 - accuracy: 0.9030 - val_loss: 0.5342 - val_accuracy: 0.8850\n",
            "Epoch 13/30\n",
            "1719/1719 [==============================] - 8s 5ms/step - loss: 0.2958 - accuracy: 0.9037 - val_loss: 0.6240 - val_accuracy: 0.8772\n",
            "Epoch 14/30\n",
            "1719/1719 [==============================] - 9s 5ms/step - loss: 0.2927 - accuracy: 0.9047 - val_loss: 0.5787 - val_accuracy: 0.8686\n",
            "Epoch 15/30\n",
            "1719/1719 [==============================] - 9s 5ms/step - loss: 0.2899 - accuracy: 0.9061 - val_loss: 0.6042 - val_accuracy: 0.8922\n",
            "Epoch 16/30\n",
            "1719/1719 [==============================] - 9s 5ms/step - loss: 0.2835 - accuracy: 0.9069 - val_loss: 0.6200 - val_accuracy: 0.8972\n",
            "Epoch 17/30\n",
            "1719/1719 [==============================] - 9s 5ms/step - loss: 0.2797 - accuracy: 0.9098 - val_loss: 0.6635 - val_accuracy: 0.8882\n",
            "Epoch 18/30\n",
            "1719/1719 [==============================] - 9s 5ms/step - loss: 0.2825 - accuracy: 0.9105 - val_loss: 0.6844 - val_accuracy: 0.8892\n",
            "Epoch 19/30\n",
            "1719/1719 [==============================] - 9s 5ms/step - loss: 0.2727 - accuracy: 0.9116 - val_loss: 0.7726 - val_accuracy: 0.8870\n",
            "Epoch 20/30\n",
            "1719/1719 [==============================] - 9s 5ms/step - loss: 0.2711 - accuracy: 0.9135 - val_loss: 0.7204 - val_accuracy: 0.8814\n",
            "Epoch 21/30\n",
            "1719/1719 [==============================] - 9s 5ms/step - loss: 0.2695 - accuracy: 0.9150 - val_loss: 0.7319 - val_accuracy: 0.8866\n",
            "Epoch 22/30\n",
            "1719/1719 [==============================] - 9s 5ms/step - loss: 0.2718 - accuracy: 0.9160 - val_loss: 0.8459 - val_accuracy: 0.8824\n",
            "Epoch 23/30\n",
            "1719/1719 [==============================] - 9s 5ms/step - loss: 0.2690 - accuracy: 0.9143 - val_loss: 0.9522 - val_accuracy: 0.8762\n",
            "Epoch 24/30\n",
            "1719/1719 [==============================] - 9s 5ms/step - loss: 0.2613 - accuracy: 0.9166 - val_loss: 0.7441 - val_accuracy: 0.8830\n",
            "Epoch 25/30\n",
            "1719/1719 [==============================] - 9s 5ms/step - loss: 0.2616 - accuracy: 0.9188 - val_loss: 0.8858 - val_accuracy: 0.8846\n",
            "Epoch 26/30\n",
            "1719/1719 [==============================] - 9s 5ms/step - loss: 0.2519 - accuracy: 0.9191 - val_loss: 0.7470 - val_accuracy: 0.8920\n",
            "Epoch 27/30\n",
            "1719/1719 [==============================] - 9s 5ms/step - loss: 0.2556 - accuracy: 0.9199 - val_loss: 0.9159 - val_accuracy: 0.8844\n",
            "Epoch 28/30\n",
            "1719/1719 [==============================] - 9s 5ms/step - loss: 0.2621 - accuracy: 0.9204 - val_loss: 0.9766 - val_accuracy: 0.8728\n",
            "Epoch 29/30\n",
            "1719/1719 [==============================] - 9s 5ms/step - loss: 0.2510 - accuracy: 0.9221 - val_loss: 0.8985 - val_accuracy: 0.8868\n",
            "Epoch 30/30\n",
            "1719/1719 [==============================] - 9s 5ms/step - loss: 0.2517 - accuracy: 0.9225 - val_loss: 0.9152 - val_accuracy: 0.8814\n",
            "Epoch 1/30\n",
            "1719/1719 [==============================] - 8s 4ms/step - loss: 0.2159 - accuracy: 0.9282 - val_loss: 0.8966 - val_accuracy: 0.8860\n",
            "Epoch 2/30\n",
            "1719/1719 [==============================] - 7s 4ms/step - loss: 0.2014 - accuracy: 0.9329 - val_loss: 0.8871 - val_accuracy: 0.8920\n",
            "Epoch 3/30\n",
            "1719/1719 [==============================] - 7s 4ms/step - loss: 0.1933 - accuracy: 0.9355 - val_loss: 0.8810 - val_accuracy: 0.8946\n",
            "Epoch 4/30\n",
            "1719/1719 [==============================] - 7s 4ms/step - loss: 0.1880 - accuracy: 0.9368 - val_loss: 0.8765 - val_accuracy: 0.8950\n",
            "Epoch 5/30\n",
            "1719/1719 [==============================] - 7s 4ms/step - loss: 0.1843 - accuracy: 0.9381 - val_loss: 0.8731 - val_accuracy: 0.8962\n",
            "Epoch 6/30\n",
            "1719/1719 [==============================] - 7s 4ms/step - loss: 0.1815 - accuracy: 0.9391 - val_loss: 0.8705 - val_accuracy: 0.8962\n",
            "Epoch 7/30\n",
            "1719/1719 [==============================] - 7s 4ms/step - loss: 0.1793 - accuracy: 0.9397 - val_loss: 0.8682 - val_accuracy: 0.8956\n",
            "Epoch 8/30\n",
            "1719/1719 [==============================] - 7s 4ms/step - loss: 0.1774 - accuracy: 0.9404 - val_loss: 0.8663 - val_accuracy: 0.8968\n",
            "Epoch 9/30\n",
            "1719/1719 [==============================] - 7s 4ms/step - loss: 0.1758 - accuracy: 0.9406 - val_loss: 0.8647 - val_accuracy: 0.8960\n",
            "Epoch 10/30\n",
            "1719/1719 [==============================] - 7s 4ms/step - loss: 0.1745 - accuracy: 0.9411 - val_loss: 0.8634 - val_accuracy: 0.8954\n",
            "Epoch 11/30\n",
            "1719/1719 [==============================] - 7s 4ms/step - loss: 0.1733 - accuracy: 0.9416 - val_loss: 0.8623 - val_accuracy: 0.8956\n",
            "Epoch 12/30\n",
            "1719/1719 [==============================] - 7s 4ms/step - loss: 0.1722 - accuracy: 0.9422 - val_loss: 0.8612 - val_accuracy: 0.8962\n",
            "Epoch 13/30\n",
            "1719/1719 [==============================] - 7s 4ms/step - loss: 0.1712 - accuracy: 0.9422 - val_loss: 0.8602 - val_accuracy: 0.8958\n",
            "Epoch 14/30\n",
            "1719/1719 [==============================] - 7s 4ms/step - loss: 0.1703 - accuracy: 0.9425 - val_loss: 0.8594 - val_accuracy: 0.8960\n",
            "Epoch 15/30\n",
            "1719/1719 [==============================] - 7s 4ms/step - loss: 0.1695 - accuracy: 0.9426 - val_loss: 0.8587 - val_accuracy: 0.8960\n",
            "Epoch 16/30\n",
            "1719/1719 [==============================] - 7s 4ms/step - loss: 0.1687 - accuracy: 0.9428 - val_loss: 0.8581 - val_accuracy: 0.8962\n",
            "Epoch 17/30\n",
            "1719/1719 [==============================] - 7s 4ms/step - loss: 0.1680 - accuracy: 0.9430 - val_loss: 0.8575 - val_accuracy: 0.8962\n",
            "Epoch 18/30\n",
            "1719/1719 [==============================] - 7s 4ms/step - loss: 0.1672 - accuracy: 0.9432 - val_loss: 0.8569 - val_accuracy: 0.8962\n",
            "Epoch 19/30\n",
            "1719/1719 [==============================] - 7s 4ms/step - loss: 0.1666 - accuracy: 0.9433 - val_loss: 0.8565 - val_accuracy: 0.8958\n",
            "Epoch 20/30\n",
            "1719/1719 [==============================] - 7s 4ms/step - loss: 0.1660 - accuracy: 0.9436 - val_loss: 0.8562 - val_accuracy: 0.8964\n",
            "Epoch 21/30\n",
            "1719/1719 [==============================] - 7s 4ms/step - loss: 0.1654 - accuracy: 0.9438 - val_loss: 0.8558 - val_accuracy: 0.8966\n",
            "Epoch 22/30\n",
            "1719/1719 [==============================] - 7s 4ms/step - loss: 0.1648 - accuracy: 0.9439 - val_loss: 0.8554 - val_accuracy: 0.8964\n",
            "Epoch 23/30\n",
            "1719/1719 [==============================] - 7s 4ms/step - loss: 0.1642 - accuracy: 0.9439 - val_loss: 0.8552 - val_accuracy: 0.8968\n",
            "Epoch 24/30\n",
            "1719/1719 [==============================] - 7s 4ms/step - loss: 0.1637 - accuracy: 0.9441 - val_loss: 0.8549 - val_accuracy: 0.8972\n",
            "Epoch 25/30\n",
            "1719/1719 [==============================] - 7s 4ms/step - loss: 0.1632 - accuracy: 0.9445 - val_loss: 0.8548 - val_accuracy: 0.8976\n",
            "Epoch 26/30\n",
            "1719/1719 [==============================] - 7s 4ms/step - loss: 0.1627 - accuracy: 0.9446 - val_loss: 0.8546 - val_accuracy: 0.8974\n",
            "Epoch 27/30\n",
            "1719/1719 [==============================] - 7s 4ms/step - loss: 0.1623 - accuracy: 0.9447 - val_loss: 0.8545 - val_accuracy: 0.8976\n",
            "Epoch 28/30\n",
            "1719/1719 [==============================] - 7s 4ms/step - loss: 0.1618 - accuracy: 0.9449 - val_loss: 0.8544 - val_accuracy: 0.8972\n",
            "Epoch 29/30\n",
            "1719/1719 [==============================] - 7s 4ms/step - loss: 0.1614 - accuracy: 0.9448 - val_loss: 0.8542 - val_accuracy: 0.8970\n",
            "Epoch 30/30\n",
            "1719/1719 [==============================] - 8s 4ms/step - loss: 0.1610 - accuracy: 0.9449 - val_loss: 0.8540 - val_accuracy: 0.8976\n",
            "Epoch 1/30\n",
            "1719/1719 [==============================] - 7s 4ms/step - loss: 0.1562 - accuracy: 0.9457 - val_loss: 0.8161 - val_accuracy: 0.8974\n",
            "Epoch 2/30\n",
            "1719/1719 [==============================] - 7s 4ms/step - loss: 0.1492 - accuracy: 0.9473 - val_loss: 0.8073 - val_accuracy: 0.8978\n",
            "Epoch 3/30\n",
            "1719/1719 [==============================] - 7s 4ms/step - loss: 0.1463 - accuracy: 0.9481 - val_loss: 0.8095 - val_accuracy: 0.8982\n",
            "Epoch 4/30\n",
            "1719/1719 [==============================] - 7s 4ms/step - loss: 0.1444 - accuracy: 0.9487 - val_loss: 0.8068 - val_accuracy: 0.8986\n",
            "Epoch 5/30\n",
            "1719/1719 [==============================] - 7s 4ms/step - loss: 0.1430 - accuracy: 0.9490 - val_loss: 0.8061 - val_accuracy: 0.8986\n",
            "Epoch 6/30\n",
            "1719/1719 [==============================] - 7s 4ms/step - loss: 0.1421 - accuracy: 0.9493 - val_loss: 0.8064 - val_accuracy: 0.8982\n",
            "Epoch 7/30\n",
            "1719/1719 [==============================] - 7s 4ms/step - loss: 0.1412 - accuracy: 0.9492 - val_loss: 0.8048 - val_accuracy: 0.8982\n",
            "Epoch 8/30\n",
            "1719/1719 [==============================] - 7s 4ms/step - loss: 0.1404 - accuracy: 0.9498 - val_loss: 0.8037 - val_accuracy: 0.8988\n",
            "Epoch 9/30\n",
            "1719/1719 [==============================] - 7s 4ms/step - loss: 0.1398 - accuracy: 0.9499 - val_loss: 0.8037 - val_accuracy: 0.8986\n",
            "Epoch 10/30\n",
            "1719/1719 [==============================] - 7s 4ms/step - loss: 0.1391 - accuracy: 0.9501 - val_loss: 0.8039 - val_accuracy: 0.8992\n",
            "Epoch 11/30\n",
            "1719/1719 [==============================] - 7s 4ms/step - loss: 0.1386 - accuracy: 0.9500 - val_loss: 0.8043 - val_accuracy: 0.8990\n",
            "Epoch 12/30\n",
            "1719/1719 [==============================] - 7s 4ms/step - loss: 0.1381 - accuracy: 0.9501 - val_loss: 0.8032 - val_accuracy: 0.8986\n",
            "Epoch 13/30\n",
            "1719/1719 [==============================] - 7s 4ms/step - loss: 0.1376 - accuracy: 0.9506 - val_loss: 0.8038 - val_accuracy: 0.8994\n",
            "Epoch 14/30\n",
            "1719/1719 [==============================] - 7s 4ms/step - loss: 0.1373 - accuracy: 0.9505 - val_loss: 0.8061 - val_accuracy: 0.8986\n",
            "Epoch 15/30\n",
            "1719/1719 [==============================] - 7s 4ms/step - loss: 0.1369 - accuracy: 0.9505 - val_loss: 0.8048 - val_accuracy: 0.8994\n",
            "Epoch 16/30\n",
            "1719/1719 [==============================] - 7s 4ms/step - loss: 0.1365 - accuracy: 0.9507 - val_loss: 0.8034 - val_accuracy: 0.8994\n",
            "Epoch 17/30\n",
            "1719/1719 [==============================] - 7s 4ms/step - loss: 0.1362 - accuracy: 0.9511 - val_loss: 0.8047 - val_accuracy: 0.8990\n",
            "Epoch 18/30\n",
            "1719/1719 [==============================] - 7s 4ms/step - loss: 0.1359 - accuracy: 0.9508 - val_loss: 0.8058 - val_accuracy: 0.8996\n",
            "Epoch 19/30\n",
            "1719/1719 [==============================] - 7s 4ms/step - loss: 0.1356 - accuracy: 0.9511 - val_loss: 0.8052 - val_accuracy: 0.8992\n",
            "Epoch 20/30\n",
            "1719/1719 [==============================] - 7s 4ms/step - loss: 0.1352 - accuracy: 0.9514 - val_loss: 0.8050 - val_accuracy: 0.8986\n",
            "Epoch 21/30\n",
            "1719/1719 [==============================] - 7s 4ms/step - loss: 0.1350 - accuracy: 0.9514 - val_loss: 0.8073 - val_accuracy: 0.8984\n",
            "Epoch 22/30\n",
            "1719/1719 [==============================] - 7s 4ms/step - loss: 0.1347 - accuracy: 0.9514 - val_loss: 0.8068 - val_accuracy: 0.8982\n",
            "Epoch 23/30\n",
            "1719/1719 [==============================] - 7s 4ms/step - loss: 0.1345 - accuracy: 0.9513 - val_loss: 0.8070 - val_accuracy: 0.8974\n",
            "Epoch 24/30\n",
            "1719/1719 [==============================] - 7s 4ms/step - loss: 0.1342 - accuracy: 0.9514 - val_loss: 0.8086 - val_accuracy: 0.8990\n",
            "Epoch 25/30\n",
            "1719/1719 [==============================] - 7s 4ms/step - loss: 0.1340 - accuracy: 0.9516 - val_loss: 0.8077 - val_accuracy: 0.8978\n",
            "Epoch 26/30\n",
            "1719/1719 [==============================] - 7s 4ms/step - loss: 0.1338 - accuracy: 0.9516 - val_loss: 0.8070 - val_accuracy: 0.8984\n",
            "Epoch 27/30\n",
            "1719/1719 [==============================] - 7s 4ms/step - loss: 0.1336 - accuracy: 0.9517 - val_loss: 0.8074 - val_accuracy: 0.8982\n",
            "Epoch 28/30\n",
            "1719/1719 [==============================] - 7s 4ms/step - loss: 0.1333 - accuracy: 0.9518 - val_loss: 0.8084 - val_accuracy: 0.8984\n",
            "Epoch 29/30\n",
            "1719/1719 [==============================] - 7s 4ms/step - loss: 0.1331 - accuracy: 0.9519 - val_loss: 0.8075 - val_accuracy: 0.8984\n",
            "Epoch 30/30\n",
            "1719/1719 [==============================] - 7s 4ms/step - loss: 0.1330 - accuracy: 0.9520 - val_loss: 0.8071 - val_accuracy: 0.8978\n",
            "Epoch 1/30\n",
            "1719/1719 [==============================] - 8s 4ms/step - loss: 0.1480 - accuracy: 0.9473 - val_loss: 0.8297 - val_accuracy: 0.8986\n",
            "Epoch 2/30\n",
            "1719/1719 [==============================] - 7s 4ms/step - loss: 0.1396 - accuracy: 0.9493 - val_loss: 0.8228 - val_accuracy: 0.9000\n",
            "Epoch 3/30\n",
            "1719/1719 [==============================] - 7s 4ms/step - loss: 0.1376 - accuracy: 0.9495 - val_loss: 0.8473 - val_accuracy: 0.8992\n",
            "Epoch 4/30\n",
            "1719/1719 [==============================] - 7s 4ms/step - loss: 0.1362 - accuracy: 0.9504 - val_loss: 0.8502 - val_accuracy: 0.8968\n",
            "Epoch 5/30\n",
            "1719/1719 [==============================] - 7s 4ms/step - loss: 0.1322 - accuracy: 0.9516 - val_loss: 0.8460 - val_accuracy: 0.9000\n",
            "Epoch 6/30\n",
            "1719/1719 [==============================] - 7s 4ms/step - loss: 0.1301 - accuracy: 0.9525 - val_loss: 0.8862 - val_accuracy: 0.8972\n",
            "Epoch 7/30\n",
            "1719/1719 [==============================] - 7s 4ms/step - loss: 0.1280 - accuracy: 0.9531 - val_loss: 0.8893 - val_accuracy: 0.8982\n",
            "Epoch 8/30\n",
            "1719/1719 [==============================] - 7s 4ms/step - loss: 0.1260 - accuracy: 0.9538 - val_loss: 0.8839 - val_accuracy: 0.8990\n",
            "Epoch 9/30\n",
            "1719/1719 [==============================] - 7s 4ms/step - loss: 0.1229 - accuracy: 0.9549 - val_loss: 0.8704 - val_accuracy: 0.8972\n",
            "Epoch 10/30\n",
            "1719/1719 [==============================] - 7s 4ms/step - loss: 0.1217 - accuracy: 0.9545 - val_loss: 0.8898 - val_accuracy: 0.8986\n",
            "Epoch 11/30\n",
            "1719/1719 [==============================] - 7s 4ms/step - loss: 0.1193 - accuracy: 0.9566 - val_loss: 0.8924 - val_accuracy: 0.8948\n",
            "Epoch 12/30\n",
            "1719/1719 [==============================] - 7s 4ms/step - loss: 0.1169 - accuracy: 0.9573 - val_loss: 0.8657 - val_accuracy: 0.8972\n",
            "Epoch 13/30\n",
            "1719/1719 [==============================] - 7s 4ms/step - loss: 0.1157 - accuracy: 0.9571 - val_loss: 0.9159 - val_accuracy: 0.8992\n",
            "Epoch 14/30\n",
            "1719/1719 [==============================] - 7s 4ms/step - loss: 0.1133 - accuracy: 0.9585 - val_loss: 0.9262 - val_accuracy: 0.8956\n",
            "Epoch 15/30\n",
            "1719/1719 [==============================] - 7s 4ms/step - loss: 0.1128 - accuracy: 0.9591 - val_loss: 0.9255 - val_accuracy: 0.8992\n",
            "Epoch 16/30\n",
            "1719/1719 [==============================] - 7s 4ms/step - loss: 0.1111 - accuracy: 0.9594 - val_loss: 0.9076 - val_accuracy: 0.8960\n",
            "Epoch 17/30\n",
            "1719/1719 [==============================] - 7s 4ms/step - loss: 0.1088 - accuracy: 0.9595 - val_loss: 0.9180 - val_accuracy: 0.9002\n",
            "Epoch 18/30\n",
            "1719/1719 [==============================] - 7s 4ms/step - loss: 0.1071 - accuracy: 0.9605 - val_loss: 0.9178 - val_accuracy: 0.8982\n",
            "Epoch 19/30\n",
            "1719/1719 [==============================] - 7s 4ms/step - loss: 0.1053 - accuracy: 0.9609 - val_loss: 0.9514 - val_accuracy: 0.8982\n",
            "Epoch 20/30\n",
            "1719/1719 [==============================] - 7s 4ms/step - loss: 0.1030 - accuracy: 0.9621 - val_loss: 0.9124 - val_accuracy: 0.8984\n",
            "Epoch 21/30\n",
            "1719/1719 [==============================] - 7s 4ms/step - loss: 0.1026 - accuracy: 0.9631 - val_loss: 0.9514 - val_accuracy: 0.8974\n",
            "Epoch 22/30\n",
            "1719/1719 [==============================] - 7s 4ms/step - loss: 0.0992 - accuracy: 0.9636 - val_loss: 0.9196 - val_accuracy: 0.8974\n",
            "Epoch 23/30\n",
            "1719/1719 [==============================] - 7s 4ms/step - loss: 0.0986 - accuracy: 0.9630 - val_loss: 0.9395 - val_accuracy: 0.8988\n",
            "Epoch 24/30\n",
            "1719/1719 [==============================] - 7s 4ms/step - loss: 0.0976 - accuracy: 0.9639 - val_loss: 0.9554 - val_accuracy: 0.8958\n",
            "Epoch 25/30\n",
            "1719/1719 [==============================] - 7s 4ms/step - loss: 0.0953 - accuracy: 0.9652 - val_loss: 0.9205 - val_accuracy: 0.8968\n",
            "Epoch 26/30\n",
            "1719/1719 [==============================] - 7s 4ms/step - loss: 0.0943 - accuracy: 0.9658 - val_loss: 0.9589 - val_accuracy: 0.8936\n",
            "Epoch 27/30\n",
            "1719/1719 [==============================] - 7s 4ms/step - loss: 0.0919 - accuracy: 0.9667 - val_loss: 0.9724 - val_accuracy: 0.8970\n",
            "Epoch 28/30\n",
            "1719/1719 [==============================] - 7s 4ms/step - loss: 0.0914 - accuracy: 0.9665 - val_loss: 0.9605 - val_accuracy: 0.8962\n",
            "Epoch 29/30\n",
            "1719/1719 [==============================] - 7s 4ms/step - loss: 0.0897 - accuracy: 0.9672 - val_loss: 0.9900 - val_accuracy: 0.8968\n",
            "Epoch 30/30\n",
            "1719/1719 [==============================] - 7s 4ms/step - loss: 0.0887 - accuracy: 0.9679 - val_loss: 1.0055 - val_accuracy: 0.8970\n",
            "Epoch 1/30\n",
            "1719/1719 [==============================] - 13s 7ms/step - loss: 0.2394 - accuracy: 0.9286 - val_loss: 0.6489 - val_accuracy: 0.8830\n",
            "Epoch 2/30\n",
            "1719/1719 [==============================] - 11s 6ms/step - loss: 0.2125 - accuracy: 0.9297 - val_loss: 0.5297 - val_accuracy: 0.8844\n",
            "Epoch 3/30\n",
            "1719/1719 [==============================] - 11s 6ms/step - loss: 0.1999 - accuracy: 0.9316 - val_loss: 0.5735 - val_accuracy: 0.8836\n",
            "Epoch 4/30\n",
            "1719/1719 [==============================] - 11s 6ms/step - loss: 0.1854 - accuracy: 0.9343 - val_loss: 0.4885 - val_accuracy: 0.8890\n",
            "Epoch 5/30\n",
            "1719/1719 [==============================] - 11s 6ms/step - loss: 0.1840 - accuracy: 0.9350 - val_loss: 0.5068 - val_accuracy: 0.8892\n",
            "Epoch 6/30\n",
            "1719/1719 [==============================] - 11s 6ms/step - loss: 0.1835 - accuracy: 0.9351 - val_loss: 0.4724 - val_accuracy: 0.8928\n",
            "Epoch 7/30\n",
            "1719/1719 [==============================] - 11s 6ms/step - loss: 0.1776 - accuracy: 0.9385 - val_loss: 0.4216 - val_accuracy: 0.8972\n",
            "Epoch 8/30\n",
            "1719/1719 [==============================] - 11s 6ms/step - loss: 0.1639 - accuracy: 0.9395 - val_loss: 0.5081 - val_accuracy: 0.8860\n",
            "Epoch 9/30\n",
            "1719/1719 [==============================] - 11s 6ms/step - loss: 0.1660 - accuracy: 0.9401 - val_loss: 0.6007 - val_accuracy: 0.8902\n",
            "Epoch 10/30\n",
            "1719/1719 [==============================] - 11s 6ms/step - loss: 0.1616 - accuracy: 0.9407 - val_loss: 0.4805 - val_accuracy: 0.8898\n",
            "Epoch 11/30\n",
            "1719/1719 [==============================] - 11s 6ms/step - loss: 0.1589 - accuracy: 0.9418 - val_loss: 0.5075 - val_accuracy: 0.8872\n",
            "Epoch 12/30\n",
            "1719/1719 [==============================] - 11s 6ms/step - loss: 0.1594 - accuracy: 0.9429 - val_loss: 0.4996 - val_accuracy: 0.8960\n",
            "Epoch 13/30\n",
            "1719/1719 [==============================] - 11s 7ms/step - loss: 0.1470 - accuracy: 0.9473 - val_loss: 0.5080 - val_accuracy: 0.8896\n",
            "Epoch 14/30\n",
            "1719/1719 [==============================] - 11s 6ms/step - loss: 0.1495 - accuracy: 0.9459 - val_loss: 0.4500 - val_accuracy: 0.8942\n",
            "Epoch 15/30\n",
            "1719/1719 [==============================] - 11s 6ms/step - loss: 0.1414 - accuracy: 0.9486 - val_loss: 0.5181 - val_accuracy: 0.8962\n",
            "Epoch 16/30\n",
            "1719/1719 [==============================] - 11s 6ms/step - loss: 0.1392 - accuracy: 0.9488 - val_loss: 0.5049 - val_accuracy: 0.8956\n",
            "Epoch 17/30\n",
            "1719/1719 [==============================] - 11s 6ms/step - loss: 0.1395 - accuracy: 0.9491 - val_loss: 0.4903 - val_accuracy: 0.9030\n",
            "Epoch 18/30\n",
            "1719/1719 [==============================] - 11s 6ms/step - loss: 0.1315 - accuracy: 0.9525 - val_loss: 0.5145 - val_accuracy: 0.8950\n",
            "Epoch 19/30\n",
            "1719/1719 [==============================] - 11s 6ms/step - loss: 0.1337 - accuracy: 0.9512 - val_loss: 0.4839 - val_accuracy: 0.8952\n",
            "Epoch 20/30\n",
            "1719/1719 [==============================] - 11s 6ms/step - loss: 0.1338 - accuracy: 0.9515 - val_loss: 0.4901 - val_accuracy: 0.8974\n",
            "Epoch 21/30\n",
            "1719/1719 [==============================] - 11s 6ms/step - loss: 0.1304 - accuracy: 0.9522 - val_loss: 0.4868 - val_accuracy: 0.8968\n",
            "Epoch 22/30\n",
            "1719/1719 [==============================] - 11s 7ms/step - loss: 0.1211 - accuracy: 0.9559 - val_loss: 0.5174 - val_accuracy: 0.8992\n",
            "Epoch 23/30\n",
            "1719/1719 [==============================] - 11s 6ms/step - loss: 0.1162 - accuracy: 0.9573 - val_loss: 0.5068 - val_accuracy: 0.8928\n",
            "Epoch 24/30\n",
            "1719/1719 [==============================] - 11s 7ms/step - loss: 0.1175 - accuracy: 0.9564 - val_loss: 0.5529 - val_accuracy: 0.8964\n",
            "Epoch 25/30\n",
            "1719/1719 [==============================] - 11s 7ms/step - loss: 0.1188 - accuracy: 0.9566 - val_loss: 0.5418 - val_accuracy: 0.8988\n",
            "Epoch 26/30\n",
            "1719/1719 [==============================] - 12s 7ms/step - loss: 0.1173 - accuracy: 0.9571 - val_loss: 0.5627 - val_accuracy: 0.8984\n",
            "Epoch 27/30\n",
            "1719/1719 [==============================] - 12s 7ms/step - loss: 0.1116 - accuracy: 0.9601 - val_loss: 0.6037 - val_accuracy: 0.8942\n",
            "Epoch 28/30\n",
            "1719/1719 [==============================] - 12s 7ms/step - loss: 0.1063 - accuracy: 0.9611 - val_loss: 0.5483 - val_accuracy: 0.9000\n",
            "Epoch 29/30\n",
            "1719/1719 [==============================] - 12s 7ms/step - loss: 0.1100 - accuracy: 0.9607 - val_loss: 0.5553 - val_accuracy: 0.9014\n",
            "Epoch 30/30\n",
            "1719/1719 [==============================] - 12s 7ms/step - loss: 0.1092 - accuracy: 0.9608 - val_loss: 0.5506 - val_accuracy: 0.9020\n",
            "Epoch 1/30\n",
            "1719/1719 [==============================] - 10s 5ms/step - loss: 2.3010 - accuracy: 0.0991 - val_loss: 2.3020 - val_accuracy: 0.0914\n",
            "Epoch 2/30\n",
            "1719/1719 [==============================] - 9s 5ms/step - loss: 2.3014 - accuracy: 0.1008 - val_loss: 2.3007 - val_accuracy: 0.0914\n",
            "Epoch 3/30\n",
            "1719/1719 [==============================] - 9s 5ms/step - loss: 2.2995 - accuracy: 0.1214 - val_loss: 2.2976 - val_accuracy: 0.1812\n",
            "Epoch 4/30\n",
            "1719/1719 [==============================] - 9s 5ms/step - loss: 2.2935 - accuracy: 0.1377 - val_loss: 2.2869 - val_accuracy: 0.1584\n",
            "Epoch 5/30\n",
            "1719/1719 [==============================] - 9s 5ms/step - loss: 2.2728 - accuracy: 0.1626 - val_loss: 2.2507 - val_accuracy: 0.1662\n",
            "Epoch 6/30\n",
            "1719/1719 [==============================] - 10s 6ms/step - loss: 2.2127 - accuracy: 0.1753 - val_loss: 2.1644 - val_accuracy: 0.1774\n",
            "Epoch 7/30\n",
            "1719/1719 [==============================] - 10s 6ms/step - loss: 2.1139 - accuracy: 0.1839 - val_loss: 2.0577 - val_accuracy: 0.1896\n",
            "Epoch 8/30\n",
            "1719/1719 [==============================] - 9s 5ms/step - loss: 1.9806 - accuracy: 0.2031 - val_loss: 1.8798 - val_accuracy: 0.2216\n",
            "Epoch 9/30\n",
            "1719/1719 [==============================] - 9s 5ms/step - loss: 1.7900 - accuracy: 0.2551 - val_loss: 1.7225 - val_accuracy: 0.2670\n",
            "Epoch 10/30\n",
            "1719/1719 [==============================] - 9s 5ms/step - loss: 1.6698 - accuracy: 0.2860 - val_loss: 1.6280 - val_accuracy: 0.2972\n",
            "Epoch 11/30\n",
            "1719/1719 [==============================] - 9s 5ms/step - loss: 1.5880 - accuracy: 0.3044 - val_loss: 1.5553 - val_accuracy: 0.3098\n",
            "Epoch 12/30\n",
            "1719/1719 [==============================] - 10s 6ms/step - loss: 1.5230 - accuracy: 0.3121 - val_loss: 1.4950 - val_accuracy: 0.3204\n",
            "Epoch 13/30\n",
            "1719/1719 [==============================] - 10s 6ms/step - loss: 1.4688 - accuracy: 0.3211 - val_loss: 1.4454 - val_accuracy: 0.3340\n",
            "Epoch 14/30\n",
            "1719/1719 [==============================] - 10s 6ms/step - loss: 1.4242 - accuracy: 0.3707 - val_loss: 1.4042 - val_accuracy: 0.3952\n",
            "Epoch 15/30\n",
            "1719/1719 [==============================] - 10s 6ms/step - loss: 1.3864 - accuracy: 0.3983 - val_loss: 1.3680 - val_accuracy: 0.4130\n",
            "Epoch 16/30\n",
            "1719/1719 [==============================] - 10s 6ms/step - loss: 1.3518 - accuracy: 0.4153 - val_loss: 1.3335 - val_accuracy: 0.4258\n",
            "Epoch 17/30\n",
            "1719/1719 [==============================] - 10s 6ms/step - loss: 1.3166 - accuracy: 0.4306 - val_loss: 1.2946 - val_accuracy: 0.4436\n",
            "Epoch 18/30\n",
            "1719/1719 [==============================] - 10s 6ms/step - loss: 1.2755 - accuracy: 0.4922 - val_loss: 1.2479 - val_accuracy: 0.5430\n",
            "Epoch 19/30\n",
            "1719/1719 [==============================] - 10s 6ms/step - loss: 1.2259 - accuracy: 0.5338 - val_loss: 1.1960 - val_accuracy: 0.5470\n",
            "Epoch 20/30\n",
            "1719/1719 [==============================] - 10s 6ms/step - loss: 1.1762 - accuracy: 0.5419 - val_loss: 1.1485 - val_accuracy: 0.5610\n",
            "Epoch 21/30\n",
            "1719/1719 [==============================] - 10s 6ms/step - loss: 1.1330 - accuracy: 0.5522 - val_loss: 1.1090 - val_accuracy: 0.5678\n",
            "Epoch 22/30\n",
            "1719/1719 [==============================] - 10s 6ms/step - loss: 1.0966 - accuracy: 0.5608 - val_loss: 1.0756 - val_accuracy: 0.5738\n",
            "Epoch 23/30\n",
            "1719/1719 [==============================] - 10s 6ms/step - loss: 1.0655 - accuracy: 0.5685 - val_loss: 1.0470 - val_accuracy: 0.5826\n",
            "Epoch 24/30\n",
            "1719/1719 [==============================] - 10s 6ms/step - loss: 1.0388 - accuracy: 0.5770 - val_loss: 1.0228 - val_accuracy: 0.5926\n",
            "Epoch 25/30\n",
            "1719/1719 [==============================] - 10s 6ms/step - loss: 1.0148 - accuracy: 0.5883 - val_loss: 1.0001 - val_accuracy: 0.6048\n",
            "Epoch 26/30\n",
            "1719/1719 [==============================] - 10s 6ms/step - loss: 0.9921 - accuracy: 0.6006 - val_loss: 0.9783 - val_accuracy: 0.6172\n",
            "Epoch 27/30\n",
            "1719/1719 [==============================] - 10s 6ms/step - loss: 0.9708 - accuracy: 0.6120 - val_loss: 0.9578 - val_accuracy: 0.6294\n",
            "Epoch 28/30\n",
            "1719/1719 [==============================] - 10s 6ms/step - loss: 0.9509 - accuracy: 0.6229 - val_loss: 0.9392 - val_accuracy: 0.6352\n",
            "Epoch 29/30\n",
            "1719/1719 [==============================] - 9s 5ms/step - loss: 0.9327 - accuracy: 0.6308 - val_loss: 0.9223 - val_accuracy: 0.6430\n",
            "Epoch 30/30\n",
            "1719/1719 [==============================] - 10s 6ms/step - loss: 0.9164 - accuracy: 0.6374 - val_loss: 0.9072 - val_accuracy: 0.6486\n",
            "Epoch 1/30\n",
            "1719/1719 [==============================] - 8s 4ms/step - loss: 0.6479 - accuracy: 0.7655 - val_loss: 0.5222 - val_accuracy: 0.8206\n",
            "Epoch 2/30\n",
            "1719/1719 [==============================] - 7s 4ms/step - loss: 0.4684 - accuracy: 0.8376 - val_loss: 0.4280 - val_accuracy: 0.8526\n",
            "Epoch 3/30\n",
            "1719/1719 [==============================] - 7s 4ms/step - loss: 0.4048 - accuracy: 0.8559 - val_loss: 0.4126 - val_accuracy: 0.8520\n",
            "Epoch 4/30\n",
            "1719/1719 [==============================] - 8s 4ms/step - loss: 0.3699 - accuracy: 0.8679 - val_loss: 0.3675 - val_accuracy: 0.8702\n",
            "Epoch 5/30\n",
            "1719/1719 [==============================] - 8s 5ms/step - loss: 0.3494 - accuracy: 0.8732 - val_loss: 0.3490 - val_accuracy: 0.8802\n",
            "Epoch 6/30\n",
            "1719/1719 [==============================] - 8s 4ms/step - loss: 0.3305 - accuracy: 0.8805 - val_loss: 0.3712 - val_accuracy: 0.8684\n",
            "Epoch 7/30\n",
            "1719/1719 [==============================] - 7s 4ms/step - loss: 0.3172 - accuracy: 0.8839 - val_loss: 0.3556 - val_accuracy: 0.8772\n",
            "Epoch 8/30\n",
            "1719/1719 [==============================] - 7s 4ms/step - loss: 0.3059 - accuracy: 0.8883 - val_loss: 0.3305 - val_accuracy: 0.8850\n",
            "Epoch 9/30\n",
            "1719/1719 [==============================] - 8s 4ms/step - loss: 0.2957 - accuracy: 0.8920 - val_loss: 0.3400 - val_accuracy: 0.8798\n",
            "Epoch 10/30\n",
            "1719/1719 [==============================] - 8s 4ms/step - loss: 0.2859 - accuracy: 0.8957 - val_loss: 0.3362 - val_accuracy: 0.8824\n",
            "Epoch 11/30\n",
            "1719/1719 [==============================] - 8s 4ms/step - loss: 0.2786 - accuracy: 0.8980 - val_loss: 0.3449 - val_accuracy: 0.8824\n",
            "Epoch 12/30\n",
            "1719/1719 [==============================] - 8s 4ms/step - loss: 0.2693 - accuracy: 0.8995 - val_loss: 0.3271 - val_accuracy: 0.8886\n",
            "Epoch 13/30\n",
            "1719/1719 [==============================] - 8s 5ms/step - loss: 0.2644 - accuracy: 0.9021 - val_loss: 0.3254 - val_accuracy: 0.8880\n",
            "Epoch 14/30\n",
            "1719/1719 [==============================] - 8s 4ms/step - loss: 0.2557 - accuracy: 0.9052 - val_loss: 0.3316 - val_accuracy: 0.8830\n",
            "Epoch 15/30\n",
            "1719/1719 [==============================] - 7s 4ms/step - loss: 0.2492 - accuracy: 0.9063 - val_loss: 0.3277 - val_accuracy: 0.8840\n",
            "Epoch 16/30\n",
            "1719/1719 [==============================] - 7s 4ms/step - loss: 0.2433 - accuracy: 0.9089 - val_loss: 0.3286 - val_accuracy: 0.8872\n",
            "Epoch 17/30\n",
            "1719/1719 [==============================] - 8s 4ms/step - loss: 0.2387 - accuracy: 0.9113 - val_loss: 0.3283 - val_accuracy: 0.8830\n",
            "Epoch 18/30\n",
            "1719/1719 [==============================] - 8s 5ms/step - loss: 0.2329 - accuracy: 0.9131 - val_loss: 0.3247 - val_accuracy: 0.8886\n",
            "Epoch 19/30\n",
            "1719/1719 [==============================] - 8s 5ms/step - loss: 0.2281 - accuracy: 0.9150 - val_loss: 0.3552 - val_accuracy: 0.8748\n",
            "Epoch 20/30\n",
            "1719/1719 [==============================] - 8s 5ms/step - loss: 0.2233 - accuracy: 0.9159 - val_loss: 0.3218 - val_accuracy: 0.8890\n",
            "Epoch 21/30\n",
            "1719/1719 [==============================] - 8s 5ms/step - loss: 0.2212 - accuracy: 0.9173 - val_loss: 0.3321 - val_accuracy: 0.8846\n",
            "Epoch 22/30\n",
            "1719/1719 [==============================] - 8s 5ms/step - loss: 0.2149 - accuracy: 0.9187 - val_loss: 0.3372 - val_accuracy: 0.8878\n",
            "Epoch 23/30\n",
            "1719/1719 [==============================] - 8s 5ms/step - loss: 0.2099 - accuracy: 0.9208 - val_loss: 0.3353 - val_accuracy: 0.8870\n",
            "Epoch 24/30\n",
            "1719/1719 [==============================] - 8s 5ms/step - loss: 0.2051 - accuracy: 0.9229 - val_loss: 0.3394 - val_accuracy: 0.8908\n",
            "Epoch 25/30\n",
            "1719/1719 [==============================] - 8s 5ms/step - loss: 0.2036 - accuracy: 0.9223 - val_loss: 0.3391 - val_accuracy: 0.8898\n",
            "Epoch 26/30\n",
            "1719/1719 [==============================] - 8s 5ms/step - loss: 0.1990 - accuracy: 0.9253 - val_loss: 0.3484 - val_accuracy: 0.8850\n",
            "Epoch 27/30\n",
            "1719/1719 [==============================] - 8s 4ms/step - loss: 0.1940 - accuracy: 0.9269 - val_loss: 0.3362 - val_accuracy: 0.8876\n",
            "Epoch 28/30\n",
            "1719/1719 [==============================] - 8s 4ms/step - loss: 0.1908 - accuracy: 0.9283 - val_loss: 0.3468 - val_accuracy: 0.8882\n",
            "Epoch 29/30\n",
            "1719/1719 [==============================] - 8s 4ms/step - loss: 0.1876 - accuracy: 0.9279 - val_loss: 0.3716 - val_accuracy: 0.8842\n",
            "Epoch 30/30\n",
            "1719/1719 [==============================] - 8s 4ms/step - loss: 0.1855 - accuracy: 0.9297 - val_loss: 0.3638 - val_accuracy: 0.8946\n"
          ]
        },
        {
          "output_type": "display_data",
          "data": {
            "text/plain": [
              "<Figure size 1080x576 with 8 Axes>"
            ],
            "image/png": "[encoded data removed]"
          },
          "metadata": {
            "needs_background": "light"
          }
        }
      ]
    },
    {
      "cell_type": "markdown",
      "source": [
        "## 2) Plot Learning curves when using different batch sizes"
      ],
      "metadata": {
        "id": "vEmQjdC6NkeR"
      }
    },
    {
      "cell_type": "code",
      "source": [
        "plt.figure(figsize = (15,8))\n",
        "model = keras.models.Sequential([\n",
        "    keras.layers.Flatten(input_shape=[28, 28]),\n",
        "    keras.layers.Dense(300, activation=\"relu\"),\n",
        "    keras.layers.Dense(100, activation=\"relu\"),\n",
        "    keras.layers.Dense(10, activation=\"softmax\")\n",
        "  ])\n",
        "model.compile(loss=\"sparse_categorical_crossentropy\",\n",
        "              optimizer=\"sgd\",\n",
        "              metrics=[\"accuracy\"])\n",
        "for i in range(8):\n",
        "  plt.subplot(2, 4, i+1)\n",
        "  history = model.fit(X_train, y_train, batch_size=15+5*i, epochs=30,\n",
        "                    validation_data=(X_valid, y_valid), verbose=0)\n",
        "  plt.plot(pd.DataFrame(history.history))\n",
        "  plt.grid(True)\n",
        "  plt.gca().set_ylim(0, 1)\n",
        "  plt.title(\"batch size: \"+str(15+5*i))\n",
        "plt.show()"
      ],
      "metadata": {
        "colab": {
          "base_uri": "https://localhost:8080/",
          "height": 1000
        },
        "outputId": "8cb91a20-2ddc-413c-d968-de7e22006828",
        "id": "mVWv-bjENkeX"
      },
      "execution_count": 45,
      "outputs": [
        {
          "output_type": "stream",
          "name": "stdout",
          "text": [
            "Epoch 1/30\n",
            "3667/3667 [==============================] - 13s 3ms/step - loss: 0.6246 - accuracy: 0.7869 - val_loss: 0.4963 - val_accuracy: 0.8204\n",
            "Epoch 2/30\n",
            "3667/3667 [==============================] - 12s 3ms/step - loss: 0.4424 - accuracy: 0.8440 - val_loss: 0.3935 - val_accuracy: 0.8638\n",
            "Epoch 3/30\n",
            "3667/3667 [==============================] - 12s 3ms/step - loss: 0.3982 - accuracy: 0.8570 - val_loss: 0.3723 - val_accuracy: 0.8714\n",
            "Epoch 4/30\n",
            "3667/3667 [==============================] - 12s 3ms/step - loss: 0.3716 - accuracy: 0.8673 - val_loss: 0.3608 - val_accuracy: 0.8750\n",
            "Epoch 5/30\n",
            "3667/3667 [==============================] - 12s 3ms/step - loss: 0.3510 - accuracy: 0.8732 - val_loss: 0.3730 - val_accuracy: 0.8662\n",
            "Epoch 6/30\n",
            "3667/3667 [==============================] - 12s 3ms/step - loss: 0.3351 - accuracy: 0.8777 - val_loss: 0.3394 - val_accuracy: 0.8784\n",
            "Epoch 7/30\n",
            "3667/3667 [==============================] - 12s 3ms/step - loss: 0.3216 - accuracy: 0.8827 - val_loss: 0.3259 - val_accuracy: 0.8824\n",
            "Epoch 8/30\n",
            "3667/3667 [==============================] - 12s 3ms/step - loss: 0.3108 - accuracy: 0.8862 - val_loss: 0.3223 - val_accuracy: 0.8828\n",
            "Epoch 9/30\n",
            "3667/3667 [==============================] - 12s 3ms/step - loss: 0.2996 - accuracy: 0.8908 - val_loss: 0.3190 - val_accuracy: 0.8818\n",
            "Epoch 10/30\n",
            "3667/3667 [==============================] - 12s 3ms/step - loss: 0.2901 - accuracy: 0.8945 - val_loss: 0.3109 - val_accuracy: 0.8860\n",
            "Epoch 11/30\n",
            "3667/3667 [==============================] - 12s 3ms/step - loss: 0.2806 - accuracy: 0.8970 - val_loss: 0.3095 - val_accuracy: 0.8872\n",
            "Epoch 12/30\n",
            "3667/3667 [==============================] - 12s 3ms/step - loss: 0.2730 - accuracy: 0.8997 - val_loss: 0.3270 - val_accuracy: 0.8810\n",
            "Epoch 13/30\n",
            "3667/3667 [==============================] - 12s 3ms/step - loss: 0.2653 - accuracy: 0.9040 - val_loss: 0.3057 - val_accuracy: 0.8866\n",
            "Epoch 14/30\n",
            "3667/3667 [==============================] - 12s 3ms/step - loss: 0.2573 - accuracy: 0.9061 - val_loss: 0.2969 - val_accuracy: 0.8910\n",
            "Epoch 15/30\n",
            "3667/3667 [==============================] - 12s 3ms/step - loss: 0.2514 - accuracy: 0.9075 - val_loss: 0.3009 - val_accuracy: 0.8916\n",
            "Epoch 16/30\n",
            "3667/3667 [==============================] - 12s 3ms/step - loss: 0.2443 - accuracy: 0.9109 - val_loss: 0.2922 - val_accuracy: 0.8928\n",
            "Epoch 17/30\n",
            "3667/3667 [==============================] - 12s 3ms/step - loss: 0.2381 - accuracy: 0.9127 - val_loss: 0.2910 - val_accuracy: 0.8910\n",
            "Epoch 18/30\n",
            "3667/3667 [==============================] - 12s 3ms/step - loss: 0.2321 - accuracy: 0.9155 - val_loss: 0.3116 - val_accuracy: 0.8872\n",
            "Epoch 19/30\n",
            "3667/3667 [==============================] - 12s 3ms/step - loss: 0.2260 - accuracy: 0.9180 - val_loss: 0.2953 - val_accuracy: 0.8914\n",
            "Epoch 20/30\n",
            "3667/3667 [==============================] - 12s 3ms/step - loss: 0.2214 - accuracy: 0.9188 - val_loss: 0.3128 - val_accuracy: 0.8866\n",
            "Epoch 21/30\n",
            "3667/3667 [==============================] - 12s 3ms/step - loss: 0.2159 - accuracy: 0.9220 - val_loss: 0.2949 - val_accuracy: 0.8968\n",
            "Epoch 22/30\n",
            "3667/3667 [==============================] - 12s 3ms/step - loss: 0.2107 - accuracy: 0.9233 - val_loss: 0.2828 - val_accuracy: 0.8946\n",
            "Epoch 23/30\n",
            "3667/3667 [==============================] - 12s 3ms/step - loss: 0.2060 - accuracy: 0.9248 - val_loss: 0.2840 - val_accuracy: 0.8984\n",
            "Epoch 24/30\n",
            "3667/3667 [==============================] - 12s 3ms/step - loss: 0.2006 - accuracy: 0.9276 - val_loss: 0.3051 - val_accuracy: 0.8880\n",
            "Epoch 25/30\n",
            "3667/3667 [==============================] - 12s 3ms/step - loss: 0.1944 - accuracy: 0.9295 - val_loss: 0.3197 - val_accuracy: 0.8874\n",
            "Epoch 26/30\n",
            "3667/3667 [==============================] - 12s 3ms/step - loss: 0.1904 - accuracy: 0.9301 - val_loss: 0.3056 - val_accuracy: 0.8898\n",
            "Epoch 27/30\n",
            "3667/3667 [==============================] - 12s 3ms/step - loss: 0.1882 - accuracy: 0.9315 - val_loss: 0.3070 - val_accuracy: 0.8884\n",
            "Epoch 28/30\n",
            "3667/3667 [==============================] - 12s 3ms/step - loss: 0.1832 - accuracy: 0.9327 - val_loss: 0.2880 - val_accuracy: 0.8978\n",
            "Epoch 29/30\n",
            "3667/3667 [==============================] - 12s 3ms/step - loss: 0.1784 - accuracy: 0.9348 - val_loss: 0.3060 - val_accuracy: 0.8908\n",
            "Epoch 30/30\n",
            "3667/3667 [==============================] - 12s 3ms/step - loss: 0.1747 - accuracy: 0.9366 - val_loss: 0.3055 - val_accuracy: 0.8922\n",
            "Epoch 1/30\n",
            "2750/2750 [==============================] - 11s 4ms/step - loss: 0.1600 - accuracy: 0.9419 - val_loss: 0.2953 - val_accuracy: 0.8988\n",
            "Epoch 2/30\n",
            "2750/2750 [==============================] - 11s 4ms/step - loss: 0.1576 - accuracy: 0.9430 - val_loss: 0.2838 - val_accuracy: 0.8960\n",
            "Epoch 3/30\n",
            "2750/2750 [==============================] - 11s 4ms/step - loss: 0.1534 - accuracy: 0.9449 - val_loss: 0.2856 - val_accuracy: 0.8992\n",
            "Epoch 4/30\n",
            "2750/2750 [==============================] - 10s 4ms/step - loss: 0.1516 - accuracy: 0.9456 - val_loss: 0.2859 - val_accuracy: 0.8970\n",
            "Epoch 5/30\n",
            "2750/2750 [==============================] - 11s 4ms/step - loss: 0.1481 - accuracy: 0.9469 - val_loss: 0.2951 - val_accuracy: 0.8976\n",
            "Epoch 6/30\n",
            "2750/2750 [==============================] - 10s 4ms/step - loss: 0.1452 - accuracy: 0.9479 - val_loss: 0.2880 - val_accuracy: 0.8968\n",
            "Epoch 7/30\n",
            "2750/2750 [==============================] - 10s 4ms/step - loss: 0.1422 - accuracy: 0.9485 - val_loss: 0.2891 - val_accuracy: 0.8994\n",
            "Epoch 8/30\n",
            "2750/2750 [==============================] - 11s 4ms/step - loss: 0.1389 - accuracy: 0.9505 - val_loss: 0.2836 - val_accuracy: 0.9030\n",
            "Epoch 9/30\n",
            "2750/2750 [==============================] - 11s 4ms/step - loss: 0.1367 - accuracy: 0.9507 - val_loss: 0.2977 - val_accuracy: 0.8950\n",
            "Epoch 10/30\n",
            "2750/2750 [==============================] - 11s 4ms/step - loss: 0.1325 - accuracy: 0.9523 - val_loss: 0.3061 - val_accuracy: 0.8934\n",
            "Epoch 11/30\n",
            "2750/2750 [==============================] - 11s 4ms/step - loss: 0.1308 - accuracy: 0.9531 - val_loss: 0.3022 - val_accuracy: 0.9012\n",
            "Epoch 12/30\n",
            "2750/2750 [==============================] - 11s 4ms/step - loss: 0.1286 - accuracy: 0.9540 - val_loss: 0.3035 - val_accuracy: 0.8964\n",
            "Epoch 13/30\n",
            "2750/2750 [==============================] - 11s 4ms/step - loss: 0.1254 - accuracy: 0.9554 - val_loss: 0.3128 - val_accuracy: 0.8960\n",
            "Epoch 14/30\n",
            "2750/2750 [==============================] - 11s 4ms/step - loss: 0.1229 - accuracy: 0.9563 - val_loss: 0.3169 - val_accuracy: 0.8960\n",
            "Epoch 15/30\n",
            "2750/2750 [==============================] - 11s 4ms/step - loss: 0.1205 - accuracy: 0.9573 - val_loss: 0.2985 - val_accuracy: 0.9026\n",
            "Epoch 16/30\n",
            "2750/2750 [==============================] - 11s 4ms/step - loss: 0.1187 - accuracy: 0.9574 - val_loss: 0.3000 - val_accuracy: 0.8978\n",
            "Epoch 17/30\n",
            "2750/2750 [==============================] - 11s 4ms/step - loss: 0.1155 - accuracy: 0.9591 - val_loss: 0.3060 - val_accuracy: 0.8982\n",
            "Epoch 18/30\n",
            "2750/2750 [==============================] - 11s 4ms/step - loss: 0.1135 - accuracy: 0.9598 - val_loss: 0.3147 - val_accuracy: 0.8984\n",
            "Epoch 19/30\n",
            "2750/2750 [==============================] - 11s 4ms/step - loss: 0.1109 - accuracy: 0.9606 - val_loss: 0.3170 - val_accuracy: 0.8984\n",
            "Epoch 20/30\n",
            "2750/2750 [==============================] - 11s 4ms/step - loss: 0.1104 - accuracy: 0.9601 - val_loss: 0.3048 - val_accuracy: 0.9000\n",
            "Epoch 21/30\n",
            "2750/2750 [==============================] - 11s 4ms/step - loss: 0.1076 - accuracy: 0.9616 - val_loss: 0.3277 - val_accuracy: 0.8920\n",
            "Epoch 22/30\n",
            "2750/2750 [==============================] - 11s 4ms/step - loss: 0.1055 - accuracy: 0.9628 - val_loss: 0.3112 - val_accuracy: 0.9004\n",
            "Epoch 23/30\n",
            "2750/2750 [==============================] - 11s 4ms/step - loss: 0.1035 - accuracy: 0.9633 - val_loss: 0.3222 - val_accuracy: 0.8972\n",
            "Epoch 24/30\n",
            "2750/2750 [==============================] - 11s 4ms/step - loss: 0.0991 - accuracy: 0.9656 - val_loss: 0.3234 - val_accuracy: 0.8950\n",
            "Epoch 25/30\n",
            "2750/2750 [==============================] - 11s 4ms/step - loss: 0.0978 - accuracy: 0.9660 - val_loss: 0.3215 - val_accuracy: 0.8978\n",
            "Epoch 26/30\n",
            "2750/2750 [==============================] - 11s 4ms/step - loss: 0.0963 - accuracy: 0.9662 - val_loss: 0.3204 - val_accuracy: 0.8992\n",
            "Epoch 27/30\n",
            "2750/2750 [==============================] - 11s 4ms/step - loss: 0.0946 - accuracy: 0.9667 - val_loss: 0.3166 - val_accuracy: 0.9026\n",
            "Epoch 28/30\n",
            "2750/2750 [==============================] - 11s 4ms/step - loss: 0.0923 - accuracy: 0.9677 - val_loss: 0.3340 - val_accuracy: 0.8954\n",
            "Epoch 29/30\n",
            "2750/2750 [==============================] - 11s 4ms/step - loss: 0.0900 - accuracy: 0.9679 - val_loss: 0.3545 - val_accuracy: 0.8914\n",
            "Epoch 30/30\n",
            "2750/2750 [==============================] - 11s 4ms/step - loss: 0.0889 - accuracy: 0.9687 - val_loss: 0.3320 - val_accuracy: 0.9008\n",
            "Epoch 1/30\n",
            "2200/2200 [==============================] - 9s 4ms/step - loss: 0.0780 - accuracy: 0.9738 - val_loss: 0.3478 - val_accuracy: 0.9010\n",
            "Epoch 2/30\n",
            "2200/2200 [==============================] - 9s 4ms/step - loss: 0.0756 - accuracy: 0.9747 - val_loss: 0.3463 - val_accuracy: 0.8984\n",
            "Epoch 3/30\n",
            "2200/2200 [==============================] - 9s 4ms/step - loss: 0.0742 - accuracy: 0.9749 - val_loss: 0.3699 - val_accuracy: 0.8944\n",
            "Epoch 4/30\n",
            "2200/2200 [==============================] - 9s 4ms/step - loss: 0.0724 - accuracy: 0.9756 - val_loss: 0.3435 - val_accuracy: 0.9016\n",
            "Epoch 5/30\n",
            "2200/2200 [==============================] - 9s 4ms/step - loss: 0.0711 - accuracy: 0.9768 - val_loss: 0.3538 - val_accuracy: 0.8996\n",
            "Epoch 6/30\n",
            "2200/2200 [==============================] - 9s 4ms/step - loss: 0.0693 - accuracy: 0.9773 - val_loss: 0.3422 - val_accuracy: 0.9036\n",
            "Epoch 7/30\n",
            "2200/2200 [==============================] - 9s 4ms/step - loss: 0.0677 - accuracy: 0.9774 - val_loss: 0.3447 - val_accuracy: 0.9034\n",
            "Epoch 8/30\n",
            "2200/2200 [==============================] - 9s 4ms/step - loss: 0.0673 - accuracy: 0.9773 - val_loss: 0.3440 - val_accuracy: 0.9008\n",
            "Epoch 9/30\n",
            "2200/2200 [==============================] - 9s 4ms/step - loss: 0.0653 - accuracy: 0.9785 - val_loss: 0.3443 - val_accuracy: 0.9024\n",
            "Epoch 10/30\n",
            "2200/2200 [==============================] - 9s 4ms/step - loss: 0.0639 - accuracy: 0.9785 - val_loss: 0.3692 - val_accuracy: 0.9002\n",
            "Epoch 11/30\n",
            "2200/2200 [==============================] - 9s 4ms/step - loss: 0.0624 - accuracy: 0.9791 - val_loss: 0.3524 - val_accuracy: 0.9006\n",
            "Epoch 12/30\n",
            "2200/2200 [==============================] - 9s 4ms/step - loss: 0.0614 - accuracy: 0.9800 - val_loss: 0.3638 - val_accuracy: 0.8992\n",
            "Epoch 13/30\n",
            "2200/2200 [==============================] - 9s 4ms/step - loss: 0.0614 - accuracy: 0.9800 - val_loss: 0.3779 - val_accuracy: 0.8920\n",
            "Epoch 14/30\n",
            "2200/2200 [==============================] - 9s 4ms/step - loss: 0.0591 - accuracy: 0.9810 - val_loss: 0.3654 - val_accuracy: 0.8992\n",
            "Epoch 15/30\n",
            "2200/2200 [==============================] - 9s 4ms/step - loss: 0.0577 - accuracy: 0.9809 - val_loss: 0.3649 - val_accuracy: 0.8994\n",
            "Epoch 16/30\n",
            "2200/2200 [==============================] - 9s 4ms/step - loss: 0.0566 - accuracy: 0.9824 - val_loss: 0.3709 - val_accuracy: 0.8944\n",
            "Epoch 17/30\n",
            "2200/2200 [==============================] - 9s 4ms/step - loss: 0.0541 - accuracy: 0.9826 - val_loss: 0.3669 - val_accuracy: 0.8980\n",
            "Epoch 18/30\n",
            "2200/2200 [==============================] - 9s 4ms/step - loss: 0.0542 - accuracy: 0.9820 - val_loss: 0.3770 - val_accuracy: 0.9002\n",
            "Epoch 19/30\n",
            "2200/2200 [==============================] - 9s 4ms/step - loss: 0.0534 - accuracy: 0.9827 - val_loss: 0.3815 - val_accuracy: 0.8974\n",
            "Epoch 20/30\n",
            "2200/2200 [==============================] - 9s 4ms/step - loss: 0.0517 - accuracy: 0.9835 - val_loss: 0.3731 - val_accuracy: 0.8994\n",
            "Epoch 21/30\n",
            "2200/2200 [==============================] - 9s 4ms/step - loss: 0.0500 - accuracy: 0.9840 - val_loss: 0.4118 - val_accuracy: 0.8974\n",
            "Epoch 22/30\n",
            "2200/2200 [==============================] - 9s 4ms/step - loss: 0.0498 - accuracy: 0.9837 - val_loss: 0.4058 - val_accuracy: 0.8966\n",
            "Epoch 23/30\n",
            "2200/2200 [==============================] - 9s 4ms/step - loss: 0.0476 - accuracy: 0.9848 - val_loss: 0.4042 - val_accuracy: 0.8966\n",
            "Epoch 24/30\n",
            "2200/2200 [==============================] - 9s 4ms/step - loss: 0.0476 - accuracy: 0.9850 - val_loss: 0.3903 - val_accuracy: 0.8986\n",
            "Epoch 25/30\n",
            "2200/2200 [==============================] - 9s 4ms/step - loss: 0.0463 - accuracy: 0.9853 - val_loss: 0.3865 - val_accuracy: 0.9006\n",
            "Epoch 26/30\n",
            "2200/2200 [==============================] - 9s 4ms/step - loss: 0.0456 - accuracy: 0.9848 - val_loss: 0.3963 - val_accuracy: 0.9008\n",
            "Epoch 27/30\n",
            "2200/2200 [==============================] - 9s 4ms/step - loss: 0.0438 - accuracy: 0.9858 - val_loss: 0.3899 - val_accuracy: 0.9042\n",
            "Epoch 28/30\n",
            "2200/2200 [==============================] - 9s 4ms/step - loss: 0.0446 - accuracy: 0.9860 - val_loss: 0.4016 - val_accuracy: 0.9028\n",
            "Epoch 29/30\n",
            "2200/2200 [==============================] - 9s 4ms/step - loss: 0.0421 - accuracy: 0.9866 - val_loss: 0.3964 - val_accuracy: 0.8986\n",
            "Epoch 30/30\n",
            "2200/2200 [==============================] - 9s 4ms/step - loss: 0.0418 - accuracy: 0.9865 - val_loss: 0.4138 - val_accuracy: 0.8996\n",
            "Epoch 1/30\n",
            "1834/1834 [==============================] - 7s 4ms/step - loss: 0.0349 - accuracy: 0.9900 - val_loss: 0.3950 - val_accuracy: 0.8998\n",
            "Epoch 2/30\n",
            "1834/1834 [==============================] - 6s 4ms/step - loss: 0.0320 - accuracy: 0.9912 - val_loss: 0.4036 - val_accuracy: 0.9016\n",
            "Epoch 3/30\n",
            "1834/1834 [==============================] - 7s 4ms/step - loss: 0.0318 - accuracy: 0.9910 - val_loss: 0.4071 - val_accuracy: 0.9014\n",
            "Epoch 4/30\n",
            "1834/1834 [==============================] - 7s 4ms/step - loss: 0.0312 - accuracy: 0.9915 - val_loss: 0.4071 - val_accuracy: 0.8996\n",
            "Epoch 5/30\n",
            "1834/1834 [==============================] - 6s 4ms/step - loss: 0.0299 - accuracy: 0.9915 - val_loss: 0.4085 - val_accuracy: 0.9002\n",
            "Epoch 6/30\n",
            "1834/1834 [==============================] - 7s 4ms/step - loss: 0.0288 - accuracy: 0.9927 - val_loss: 0.4177 - val_accuracy: 0.8990\n",
            "Epoch 7/30\n",
            "1834/1834 [==============================] - 7s 4ms/step - loss: 0.0282 - accuracy: 0.9928 - val_loss: 0.4210 - val_accuracy: 0.9006\n",
            "Epoch 8/30\n",
            "1834/1834 [==============================] - 6s 3ms/step - loss: 0.0285 - accuracy: 0.9926 - val_loss: 0.4263 - val_accuracy: 0.8994\n",
            "Epoch 9/30\n",
            "1834/1834 [==============================] - 7s 4ms/step - loss: 0.0273 - accuracy: 0.9930 - val_loss: 0.4142 - val_accuracy: 0.9010\n",
            "Epoch 10/30\n",
            "1834/1834 [==============================] - 7s 4ms/step - loss: 0.0269 - accuracy: 0.9927 - val_loss: 0.4171 - val_accuracy: 0.9006\n",
            "Epoch 11/30\n",
            "1834/1834 [==============================] - 7s 4ms/step - loss: 0.0263 - accuracy: 0.9927 - val_loss: 0.4274 - val_accuracy: 0.8986\n",
            "Epoch 12/30\n",
            "1834/1834 [==============================] - 7s 4ms/step - loss: 0.0259 - accuracy: 0.9928 - val_loss: 0.4336 - val_accuracy: 0.8980\n",
            "Epoch 13/30\n",
            "1834/1834 [==============================] - 7s 4ms/step - loss: 0.0252 - accuracy: 0.9933 - val_loss: 0.4224 - val_accuracy: 0.8990\n",
            "Epoch 14/30\n",
            "1834/1834 [==============================] - 7s 4ms/step - loss: 0.0253 - accuracy: 0.9932 - val_loss: 0.4340 - val_accuracy: 0.8972\n",
            "Epoch 15/30\n",
            "1834/1834 [==============================] - 7s 4ms/step - loss: 0.0235 - accuracy: 0.9942 - val_loss: 0.5213 - val_accuracy: 0.8874\n",
            "Epoch 16/30\n",
            "1834/1834 [==============================] - 7s 4ms/step - loss: 0.0230 - accuracy: 0.9943 - val_loss: 0.4489 - val_accuracy: 0.8996\n",
            "Epoch 17/30\n",
            "1834/1834 [==============================] - 6s 4ms/step - loss: 0.0223 - accuracy: 0.9945 - val_loss: 0.4378 - val_accuracy: 0.9004\n",
            "Epoch 18/30\n",
            "1834/1834 [==============================] - 7s 4ms/step - loss: 0.0219 - accuracy: 0.9946 - val_loss: 0.4500 - val_accuracy: 0.9008\n",
            "Epoch 19/30\n",
            "1834/1834 [==============================] - 7s 4ms/step - loss: 0.0219 - accuracy: 0.9947 - val_loss: 0.4535 - val_accuracy: 0.8974\n",
            "Epoch 20/30\n",
            "1834/1834 [==============================] - 7s 4ms/step - loss: 0.0207 - accuracy: 0.9950 - val_loss: 0.4493 - val_accuracy: 0.8982\n",
            "Epoch 21/30\n",
            "1834/1834 [==============================] - 7s 4ms/step - loss: 0.0218 - accuracy: 0.9946 - val_loss: 0.4545 - val_accuracy: 0.8972\n",
            "Epoch 22/30\n",
            "1834/1834 [==============================] - 6s 4ms/step - loss: 0.0205 - accuracy: 0.9952 - val_loss: 0.4494 - val_accuracy: 0.8994\n",
            "Epoch 23/30\n",
            "1834/1834 [==============================] - 7s 4ms/step - loss: 0.0192 - accuracy: 0.9959 - val_loss: 0.4584 - val_accuracy: 0.8974\n",
            "Epoch 24/30\n",
            "1834/1834 [==============================] - 7s 4ms/step - loss: 0.0196 - accuracy: 0.9956 - val_loss: 0.4437 - val_accuracy: 0.9000\n",
            "Epoch 25/30\n",
            "1834/1834 [==============================] - 7s 4ms/step - loss: 0.0176 - accuracy: 0.9963 - val_loss: 0.4687 - val_accuracy: 0.8980\n",
            "Epoch 26/30\n",
            "1834/1834 [==============================] - 6s 4ms/step - loss: 0.0184 - accuracy: 0.9959 - val_loss: 0.4640 - val_accuracy: 0.8990\n",
            "Epoch 27/30\n",
            "1834/1834 [==============================] - 6s 4ms/step - loss: 0.0173 - accuracy: 0.9963 - val_loss: 0.4651 - val_accuracy: 0.9004\n",
            "Epoch 28/30\n",
            "1834/1834 [==============================] - 6s 4ms/step - loss: 0.0176 - accuracy: 0.9961 - val_loss: 0.4583 - val_accuracy: 0.8994\n",
            "Epoch 29/30\n",
            "1834/1834 [==============================] - 6s 4ms/step - loss: 0.0166 - accuracy: 0.9967 - val_loss: 0.4666 - val_accuracy: 0.9010\n",
            "Epoch 30/30\n",
            "1834/1834 [==============================] - 6s 4ms/step - loss: 0.0166 - accuracy: 0.9965 - val_loss: 0.4787 - val_accuracy: 0.8960\n",
            "Epoch 1/30\n",
            "1572/1572 [==============================] - 6s 4ms/step - loss: 0.0128 - accuracy: 0.9980 - val_loss: 0.4693 - val_accuracy: 0.9018\n",
            "Epoch 2/30\n",
            "1572/1572 [==============================] - 6s 4ms/step - loss: 0.0122 - accuracy: 0.9983 - val_loss: 0.5439 - val_accuracy: 0.8936\n",
            "Epoch 3/30\n",
            "1572/1572 [==============================] - 6s 4ms/step - loss: 0.0124 - accuracy: 0.9979 - val_loss: 0.4649 - val_accuracy: 0.9006\n",
            "Epoch 4/30\n",
            "1572/1572 [==============================] - 6s 4ms/step - loss: 0.0117 - accuracy: 0.9983 - val_loss: 0.4855 - val_accuracy: 0.9012\n",
            "Epoch 5/30\n",
            "1572/1572 [==============================] - 6s 4ms/step - loss: 0.0114 - accuracy: 0.9987 - val_loss: 0.4839 - val_accuracy: 0.9010\n",
            "Epoch 6/30\n",
            "1572/1572 [==============================] - 6s 4ms/step - loss: 0.0108 - accuracy: 0.9987 - val_loss: 0.4826 - val_accuracy: 0.8998\n",
            "Epoch 7/30\n",
            "1572/1572 [==============================] - 6s 4ms/step - loss: 0.0109 - accuracy: 0.9985 - val_loss: 0.4816 - val_accuracy: 0.8984\n",
            "Epoch 8/30\n",
            "1572/1572 [==============================] - 6s 4ms/step - loss: 0.0105 - accuracy: 0.9987 - val_loss: 0.4902 - val_accuracy: 0.9012\n",
            "Epoch 9/30\n",
            "1572/1572 [==============================] - 6s 4ms/step - loss: 0.0102 - accuracy: 0.9989 - val_loss: 0.4842 - val_accuracy: 0.9002\n",
            "Epoch 10/30\n",
            "1572/1572 [==============================] - 6s 4ms/step - loss: 0.0103 - accuracy: 0.9987 - val_loss: 0.4989 - val_accuracy: 0.8986\n",
            "Epoch 11/30\n",
            "1572/1572 [==============================] - 6s 4ms/step - loss: 0.0094 - accuracy: 0.9993 - val_loss: 0.4941 - val_accuracy: 0.9000\n",
            "Epoch 12/30\n",
            "1572/1572 [==============================] - 6s 4ms/step - loss: 0.0093 - accuracy: 0.9991 - val_loss: 0.4922 - val_accuracy: 0.8970\n",
            "Epoch 13/30\n",
            "1572/1572 [==============================] - 6s 4ms/step - loss: 0.0097 - accuracy: 0.9988 - val_loss: 0.5158 - val_accuracy: 0.8982\n",
            "Epoch 14/30\n",
            "1572/1572 [==============================] - 6s 4ms/step - loss: 0.0089 - accuracy: 0.9993 - val_loss: 0.4944 - val_accuracy: 0.9012\n",
            "Epoch 15/30\n",
            "1572/1572 [==============================] - 6s 4ms/step - loss: 0.0087 - accuracy: 0.9992 - val_loss: 0.4894 - val_accuracy: 0.9004\n",
            "Epoch 16/30\n",
            "1572/1572 [==============================] - 6s 4ms/step - loss: 0.0083 - accuracy: 0.9993 - val_loss: 0.4948 - val_accuracy: 0.9014\n",
            "Epoch 17/30\n",
            "1572/1572 [==============================] - 6s 4ms/step - loss: 0.0082 - accuracy: 0.9994 - val_loss: 0.5030 - val_accuracy: 0.8992\n",
            "Epoch 18/30\n",
            "1572/1572 [==============================] - 6s 4ms/step - loss: 0.0078 - accuracy: 0.9993 - val_loss: 0.5009 - val_accuracy: 0.9014\n",
            "Epoch 19/30\n",
            "1572/1572 [==============================] - 6s 4ms/step - loss: 0.0080 - accuracy: 0.9992 - val_loss: 0.5029 - val_accuracy: 0.9008\n",
            "Epoch 20/30\n",
            "1572/1572 [==============================] - 6s 4ms/step - loss: 0.0075 - accuracy: 0.9995 - val_loss: 0.5215 - val_accuracy: 0.8992\n",
            "Epoch 21/30\n",
            "1572/1572 [==============================] - 6s 4ms/step - loss: 0.0074 - accuracy: 0.9995 - val_loss: 0.5007 - val_accuracy: 0.9006\n",
            "Epoch 22/30\n",
            "1572/1572 [==============================] - 6s 4ms/step - loss: 0.0073 - accuracy: 0.9993 - val_loss: 0.5117 - val_accuracy: 0.8996\n",
            "Epoch 23/30\n",
            "1572/1572 [==============================] - 6s 4ms/step - loss: 0.0069 - accuracy: 0.9996 - val_loss: 0.5070 - val_accuracy: 0.8984\n",
            "Epoch 24/30\n",
            "1572/1572 [==============================] - 6s 4ms/step - loss: 0.0068 - accuracy: 0.9997 - val_loss: 0.5147 - val_accuracy: 0.8974\n",
            "Epoch 25/30\n",
            "1572/1572 [==============================] - 6s 4ms/step - loss: 0.0065 - accuracy: 0.9997 - val_loss: 0.5197 - val_accuracy: 0.8978\n",
            "Epoch 26/30\n",
            "1572/1572 [==============================] - 6s 4ms/step - loss: 0.0064 - accuracy: 0.9997 - val_loss: 0.5184 - val_accuracy: 0.9010\n",
            "Epoch 27/30\n",
            "1572/1572 [==============================] - 6s 4ms/step - loss: 0.0064 - accuracy: 0.9997 - val_loss: 0.5175 - val_accuracy: 0.9022\n",
            "Epoch 28/30\n",
            "1572/1572 [==============================] - 6s 4ms/step - loss: 0.0062 - accuracy: 0.9998 - val_loss: 0.5163 - val_accuracy: 0.9012\n",
            "Epoch 29/30\n",
            "1572/1572 [==============================] - 6s 4ms/step - loss: 0.0061 - accuracy: 0.9997 - val_loss: 0.5186 - val_accuracy: 0.9004\n",
            "Epoch 30/30\n",
            "1572/1572 [==============================] - 6s 4ms/step - loss: 0.0061 - accuracy: 0.9996 - val_loss: 0.5268 - val_accuracy: 0.8998\n",
            "Epoch 1/30\n",
            "1375/1375 [==============================] - 7s 5ms/step - loss: 0.0055 - accuracy: 0.9998 - val_loss: 0.5191 - val_accuracy: 0.8974\n",
            "Epoch 2/30\n",
            "1375/1375 [==============================] - 7s 5ms/step - loss: 0.0051 - accuracy: 0.9999 - val_loss: 0.5228 - val_accuracy: 0.8988\n",
            "Epoch 3/30\n",
            "1375/1375 [==============================] - 7s 5ms/step - loss: 0.0051 - accuracy: 0.9999 - val_loss: 0.5288 - val_accuracy: 0.8990\n",
            "Epoch 4/30\n",
            "1375/1375 [==============================] - 7s 5ms/step - loss: 0.0050 - accuracy: 0.9998 - val_loss: 0.5298 - val_accuracy: 0.8998\n",
            "Epoch 5/30\n",
            "1375/1375 [==============================] - 7s 5ms/step - loss: 0.0050 - accuracy: 0.9998 - val_loss: 0.5324 - val_accuracy: 0.8978\n",
            "Epoch 6/30\n",
            "1375/1375 [==============================] - 7s 5ms/step - loss: 0.0049 - accuracy: 0.9999 - val_loss: 0.5267 - val_accuracy: 0.8982\n",
            "Epoch 7/30\n",
            "1375/1375 [==============================] - 7s 5ms/step - loss: 0.0047 - accuracy: 0.9999 - val_loss: 0.5255 - val_accuracy: 0.8996\n",
            "Epoch 8/30\n",
            "1375/1375 [==============================] - 7s 5ms/step - loss: 0.0047 - accuracy: 0.9998 - val_loss: 0.5303 - val_accuracy: 0.8992\n",
            "Epoch 9/30\n",
            "1375/1375 [==============================] - 7s 5ms/step - loss: 0.0047 - accuracy: 0.9999 - val_loss: 0.5306 - val_accuracy: 0.8982\n",
            "Epoch 10/30\n",
            "1375/1375 [==============================] - 7s 5ms/step - loss: 0.0044 - accuracy: 0.9999 - val_loss: 0.5299 - val_accuracy: 0.8972\n",
            "Epoch 11/30\n",
            "1375/1375 [==============================] - 6s 5ms/step - loss: 0.0043 - accuracy: 0.9999 - val_loss: 0.5356 - val_accuracy: 0.8990\n",
            "Epoch 12/30\n",
            "1375/1375 [==============================] - 7s 5ms/step - loss: 0.0043 - accuracy: 1.0000 - val_loss: 0.5360 - val_accuracy: 0.9000\n",
            "Epoch 13/30\n",
            "1375/1375 [==============================] - 7s 5ms/step - loss: 0.0042 - accuracy: 1.0000 - val_loss: 0.5371 - val_accuracy: 0.8998\n",
            "Epoch 14/30\n",
            "1375/1375 [==============================] - 6s 5ms/step - loss: 0.0043 - accuracy: 0.9999 - val_loss: 0.5394 - val_accuracy: 0.9016\n",
            "Epoch 15/30\n",
            "1375/1375 [==============================] - 7s 5ms/step - loss: 0.0043 - accuracy: 0.9999 - val_loss: 0.5356 - val_accuracy: 0.9008\n",
            "Epoch 16/30\n",
            "1375/1375 [==============================] - 6s 5ms/step - loss: 0.0043 - accuracy: 0.9998 - val_loss: 0.5374 - val_accuracy: 0.8992\n",
            "Epoch 17/30\n",
            "1375/1375 [==============================] - 6s 5ms/step - loss: 0.0040 - accuracy: 0.9999 - val_loss: 0.5386 - val_accuracy: 0.9008\n",
            "Epoch 18/30\n",
            "1375/1375 [==============================] - 7s 5ms/step - loss: 0.0040 - accuracy: 0.9999 - val_loss: 0.5437 - val_accuracy: 0.8990\n",
            "Epoch 19/30\n",
            "1375/1375 [==============================] - 7s 5ms/step - loss: 0.0038 - accuracy: 1.0000 - val_loss: 0.5403 - val_accuracy: 0.9002\n",
            "Epoch 20/30\n",
            "1375/1375 [==============================] - 7s 5ms/step - loss: 0.0038 - accuracy: 1.0000 - val_loss: 0.5424 - val_accuracy: 0.8992\n",
            "Epoch 21/30\n",
            "1375/1375 [==============================] - 7s 5ms/step - loss: 0.0037 - accuracy: 0.9999 - val_loss: 0.5459 - val_accuracy: 0.9002\n",
            "Epoch 22/30\n",
            "1375/1375 [==============================] - 7s 5ms/step - loss: 0.0037 - accuracy: 0.9999 - val_loss: 0.5463 - val_accuracy: 0.9000\n",
            "Epoch 23/30\n",
            "1375/1375 [==============================] - 7s 5ms/step - loss: 0.0037 - accuracy: 0.9999 - val_loss: 0.5461 - val_accuracy: 0.8990\n",
            "Epoch 24/30\n",
            "1375/1375 [==============================] - 7s 5ms/step - loss: 0.0036 - accuracy: 1.0000 - val_loss: 0.5441 - val_accuracy: 0.8996\n",
            "Epoch 25/30\n",
            "1375/1375 [==============================] - 7s 5ms/step - loss: 0.0035 - accuracy: 1.0000 - val_loss: 0.5469 - val_accuracy: 0.8992\n",
            "Epoch 26/30\n",
            "1375/1375 [==============================] - 7s 5ms/step - loss: 0.0034 - accuracy: 1.0000 - val_loss: 0.5501 - val_accuracy: 0.9002\n",
            "Epoch 27/30\n",
            "1375/1375 [==============================] - 7s 5ms/step - loss: 0.0034 - accuracy: 1.0000 - val_loss: 0.5533 - val_accuracy: 0.8988\n",
            "Epoch 28/30\n",
            "1375/1375 [==============================] - 7s 5ms/step - loss: 0.0034 - accuracy: 0.9999 - val_loss: 0.5533 - val_accuracy: 0.8998\n",
            "Epoch 29/30\n",
            "1375/1375 [==============================] - 7s 5ms/step - loss: 0.0034 - accuracy: 0.9999 - val_loss: 0.5533 - val_accuracy: 0.9016\n",
            "Epoch 30/30\n",
            "1375/1375 [==============================] - 7s 5ms/step - loss: 0.0033 - accuracy: 1.0000 - val_loss: 0.5525 - val_accuracy: 0.9012\n",
            "Epoch 1/30\n",
            "1223/1223 [==============================] - 6s 5ms/step - loss: 0.0031 - accuracy: 1.0000 - val_loss: 0.5579 - val_accuracy: 0.9012\n",
            "Epoch 2/30\n",
            "1223/1223 [==============================] - 5s 4ms/step - loss: 0.0031 - accuracy: 1.0000 - val_loss: 0.5565 - val_accuracy: 0.8988\n",
            "Epoch 3/30\n",
            "1223/1223 [==============================] - 5s 4ms/step - loss: 0.0031 - accuracy: 1.0000 - val_loss: 0.5580 - val_accuracy: 0.8986\n",
            "Epoch 4/30\n",
            "1223/1223 [==============================] - 5s 4ms/step - loss: 0.0031 - accuracy: 1.0000 - val_loss: 0.5629 - val_accuracy: 0.8990\n",
            "Epoch 5/30\n",
            "1223/1223 [==============================] - 5s 4ms/step - loss: 0.0031 - accuracy: 1.0000 - val_loss: 0.5640 - val_accuracy: 0.8990\n",
            "Epoch 6/30\n",
            "1223/1223 [==============================] - 5s 4ms/step - loss: 0.0030 - accuracy: 1.0000 - val_loss: 0.5579 - val_accuracy: 0.8998\n",
            "Epoch 7/30\n",
            "1223/1223 [==============================] - 5s 4ms/step - loss: 0.0029 - accuracy: 1.0000 - val_loss: 0.5589 - val_accuracy: 0.8996\n",
            "Epoch 8/30\n",
            "1223/1223 [==============================] - 5s 4ms/step - loss: 0.0029 - accuracy: 1.0000 - val_loss: 0.5613 - val_accuracy: 0.8992\n",
            "Epoch 9/30\n",
            "1223/1223 [==============================] - 5s 4ms/step - loss: 0.0029 - accuracy: 1.0000 - val_loss: 0.5609 - val_accuracy: 0.8990\n",
            "Epoch 10/30\n",
            "1223/1223 [==============================] - 5s 4ms/step - loss: 0.0029 - accuracy: 1.0000 - val_loss: 0.5626 - val_accuracy: 0.8990\n",
            "Epoch 11/30\n",
            "1223/1223 [==============================] - 5s 4ms/step - loss: 0.0029 - accuracy: 1.0000 - val_loss: 0.5639 - val_accuracy: 0.8984\n",
            "Epoch 12/30\n",
            "1223/1223 [==============================] - 5s 4ms/step - loss: 0.0028 - accuracy: 1.0000 - val_loss: 0.5660 - val_accuracy: 0.9006\n",
            "Epoch 13/30\n",
            "1223/1223 [==============================] - 5s 4ms/step - loss: 0.0029 - accuracy: 0.9999 - val_loss: 0.5637 - val_accuracy: 0.9012\n",
            "Epoch 14/30\n",
            "1223/1223 [==============================] - 6s 5ms/step - loss: 0.0027 - accuracy: 1.0000 - val_loss: 0.5678 - val_accuracy: 0.9000\n",
            "Epoch 15/30\n",
            "1223/1223 [==============================] - 5s 4ms/step - loss: 0.0027 - accuracy: 1.0000 - val_loss: 0.5677 - val_accuracy: 0.8992\n",
            "Epoch 16/30\n",
            "1223/1223 [==============================] - 5s 4ms/step - loss: 0.0027 - accuracy: 1.0000 - val_loss: 0.5654 - val_accuracy: 0.8996\n",
            "Epoch 17/30\n",
            "1223/1223 [==============================] - 5s 4ms/step - loss: 0.0027 - accuracy: 1.0000 - val_loss: 0.5697 - val_accuracy: 0.8990\n",
            "Epoch 18/30\n",
            "1223/1223 [==============================] - 5s 4ms/step - loss: 0.0027 - accuracy: 1.0000 - val_loss: 0.5688 - val_accuracy: 0.8994\n",
            "Epoch 19/30\n",
            "1223/1223 [==============================] - 5s 4ms/step - loss: 0.0026 - accuracy: 1.0000 - val_loss: 0.5744 - val_accuracy: 0.9000\n",
            "Epoch 20/30\n",
            "1223/1223 [==============================] - 6s 5ms/step - loss: 0.0026 - accuracy: 1.0000 - val_loss: 0.5730 - val_accuracy: 0.9004\n",
            "Epoch 21/30\n",
            "1223/1223 [==============================] - 5s 4ms/step - loss: 0.0026 - accuracy: 1.0000 - val_loss: 0.5734 - val_accuracy: 0.8988\n",
            "Epoch 22/30\n",
            "1223/1223 [==============================] - 5s 4ms/step - loss: 0.0025 - accuracy: 1.0000 - val_loss: 0.5718 - val_accuracy: 0.8996\n",
            "Epoch 23/30\n",
            "1223/1223 [==============================] - 5s 4ms/step - loss: 0.0025 - accuracy: 1.0000 - val_loss: 0.5772 - val_accuracy: 0.8988\n",
            "Epoch 24/30\n",
            "1223/1223 [==============================] - 5s 4ms/step - loss: 0.0025 - accuracy: 1.0000 - val_loss: 0.5742 - val_accuracy: 0.8988\n",
            "Epoch 25/30\n",
            "1223/1223 [==============================] - 5s 4ms/step - loss: 0.0025 - accuracy: 1.0000 - val_loss: 0.5755 - val_accuracy: 0.8996\n",
            "Epoch 26/30\n",
            "1223/1223 [==============================] - 5s 4ms/step - loss: 0.0025 - accuracy: 1.0000 - val_loss: 0.5770 - val_accuracy: 0.9008\n",
            "Epoch 27/30\n",
            "1223/1223 [==============================] - 5s 4ms/step - loss: 0.0024 - accuracy: 1.0000 - val_loss: 0.5783 - val_accuracy: 0.8996\n",
            "Epoch 28/30\n",
            "1223/1223 [==============================] - 5s 4ms/step - loss: 0.0024 - accuracy: 1.0000 - val_loss: 0.5758 - val_accuracy: 0.9000\n",
            "Epoch 29/30\n",
            "1223/1223 [==============================] - 5s 4ms/step - loss: 0.0024 - accuracy: 1.0000 - val_loss: 0.5745 - val_accuracy: 0.9002\n",
            "Epoch 30/30\n",
            "1223/1223 [==============================] - 5s 4ms/step - loss: 0.0023 - accuracy: 1.0000 - val_loss: 0.5780 - val_accuracy: 0.8992\n",
            "Epoch 1/30\n",
            "1100/1100 [==============================] - 6s 5ms/step - loss: 0.0023 - accuracy: 1.0000 - val_loss: 0.5801 - val_accuracy: 0.9012\n",
            "Epoch 2/30\n",
            "1100/1100 [==============================] - 7s 6ms/step - loss: 0.0023 - accuracy: 1.0000 - val_loss: 0.5816 - val_accuracy: 0.9006\n",
            "Epoch 3/30\n",
            "1100/1100 [==============================] - 7s 6ms/step - loss: 0.0023 - accuracy: 1.0000 - val_loss: 0.5808 - val_accuracy: 0.8992\n",
            "Epoch 4/30\n",
            "1100/1100 [==============================] - 7s 6ms/step - loss: 0.0023 - accuracy: 1.0000 - val_loss: 0.5811 - val_accuracy: 0.8994\n",
            "Epoch 5/30\n",
            "1100/1100 [==============================] - 6s 6ms/step - loss: 0.0022 - accuracy: 1.0000 - val_loss: 0.5819 - val_accuracy: 0.8994\n",
            "Epoch 6/30\n",
            "1100/1100 [==============================] - 7s 6ms/step - loss: 0.0022 - accuracy: 1.0000 - val_loss: 0.5806 - val_accuracy: 0.8992\n",
            "Epoch 7/30\n",
            "1100/1100 [==============================] - 7s 6ms/step - loss: 0.0022 - accuracy: 1.0000 - val_loss: 0.5823 - val_accuracy: 0.8992\n",
            "Epoch 8/30\n",
            "1100/1100 [==============================] - 6s 6ms/step - loss: 0.0022 - accuracy: 1.0000 - val_loss: 0.5818 - val_accuracy: 0.9000\n",
            "Epoch 9/30\n",
            "1100/1100 [==============================] - 6s 6ms/step - loss: 0.0022 - accuracy: 1.0000 - val_loss: 0.5818 - val_accuracy: 0.8998\n",
            "Epoch 10/30\n",
            "1100/1100 [==============================] - 6s 5ms/step - loss: 0.0021 - accuracy: 1.0000 - val_loss: 0.5847 - val_accuracy: 0.8996\n",
            "Epoch 11/30\n",
            "1100/1100 [==============================] - 6s 6ms/step - loss: 0.0021 - accuracy: 1.0000 - val_loss: 0.5844 - val_accuracy: 0.8998\n",
            "Epoch 12/30\n",
            "1100/1100 [==============================] - 6s 5ms/step - loss: 0.0021 - accuracy: 1.0000 - val_loss: 0.5848 - val_accuracy: 0.9002\n",
            "Epoch 13/30\n",
            "1100/1100 [==============================] - 6s 6ms/step - loss: 0.0021 - accuracy: 1.0000 - val_loss: 0.5883 - val_accuracy: 0.8990\n",
            "Epoch 14/30\n",
            "1100/1100 [==============================] - 6s 6ms/step - loss: 0.0021 - accuracy: 1.0000 - val_loss: 0.5869 - val_accuracy: 0.8986\n",
            "Epoch 15/30\n",
            "1100/1100 [==============================] - 6s 5ms/step - loss: 0.0021 - accuracy: 1.0000 - val_loss: 0.5863 - val_accuracy: 0.9008\n",
            "Epoch 16/30\n",
            "1100/1100 [==============================] - 6s 6ms/step - loss: 0.0021 - accuracy: 1.0000 - val_loss: 0.5913 - val_accuracy: 0.8990\n",
            "Epoch 17/30\n",
            "1100/1100 [==============================] - 6s 5ms/step - loss: 0.0020 - accuracy: 1.0000 - val_loss: 0.5905 - val_accuracy: 0.9000\n",
            "Epoch 18/30\n",
            "1100/1100 [==============================] - 6s 6ms/step - loss: 0.0020 - accuracy: 1.0000 - val_loss: 0.5901 - val_accuracy: 0.9002\n",
            "Epoch 19/30\n",
            "1100/1100 [==============================] - 6s 6ms/step - loss: 0.0020 - accuracy: 1.0000 - val_loss: 0.5907 - val_accuracy: 0.8996\n",
            "Epoch 20/30\n",
            "1100/1100 [==============================] - 6s 6ms/step - loss: 0.0020 - accuracy: 1.0000 - val_loss: 0.5914 - val_accuracy: 0.8988\n",
            "Epoch 21/30\n",
            "1100/1100 [==============================] - 7s 6ms/step - loss: 0.0020 - accuracy: 1.0000 - val_loss: 0.5926 - val_accuracy: 0.8998\n",
            "Epoch 22/30\n",
            "1100/1100 [==============================] - 6s 6ms/step - loss: 0.0020 - accuracy: 1.0000 - val_loss: 0.5926 - val_accuracy: 0.8990\n",
            "Epoch 23/30\n",
            "1100/1100 [==============================] - 6s 6ms/step - loss: 0.0019 - accuracy: 1.0000 - val_loss: 0.5919 - val_accuracy: 0.8982\n",
            "Epoch 24/30\n",
            "1100/1100 [==============================] - 6s 6ms/step - loss: 0.0019 - accuracy: 1.0000 - val_loss: 0.5923 - val_accuracy: 0.8998\n",
            "Epoch 25/30\n",
            "1100/1100 [==============================] - 7s 6ms/step - loss: 0.0019 - accuracy: 1.0000 - val_loss: 0.5945 - val_accuracy: 0.8994\n",
            "Epoch 26/30\n",
            "1100/1100 [==============================] - 6s 6ms/step - loss: 0.0019 - accuracy: 1.0000 - val_loss: 0.5939 - val_accuracy: 0.8994\n",
            "Epoch 27/30\n",
            "1100/1100 [==============================] - 7s 6ms/step - loss: 0.0019 - accuracy: 1.0000 - val_loss: 0.5953 - val_accuracy: 0.8998\n",
            "Epoch 28/30\n",
            "1100/1100 [==============================] - 6s 5ms/step - loss: 0.0019 - accuracy: 1.0000 - val_loss: 0.5992 - val_accuracy: 0.8998\n",
            "Epoch 29/30\n",
            "1100/1100 [==============================] - 6s 5ms/step - loss: 0.0019 - accuracy: 1.0000 - val_loss: 0.5969 - val_accuracy: 0.9000\n",
            "Epoch 30/30\n",
            "1100/1100 [==============================] - 6s 5ms/step - loss: 0.0019 - accuracy: 1.0000 - val_loss: 0.5956 - val_accuracy: 0.9000\n"
          ]
        },
        {
          "output_type": "display_data",
          "data": {
            "text/plain": [
              "<Figure size 1080x576 with 8 Axes>"
            ],
            "image/png": "[encoded data removed]"
          },
          "metadata": {
            "needs_background": "light"
          }
        }
      ]
    },
    {
      "cell_type": "markdown",
      "source": [
        "## 3) Plot Learning curves when using different number of epochs"
      ],
      "metadata": {
        "id": "YGAR1CVFNmZK"
      }
    },
    {
      "cell_type": "code",
      "source": [
        "plt.figure(figsize = (15,8))\n",
        "model = keras.models.Sequential([\n",
        "    keras.layers.Flatten(input_shape=[28, 28]),\n",
        "    keras.layers.Dense(300, activation=\"relu\"),\n",
        "    keras.layers.Dense(100, activation=\"relu\"),\n",
        "    keras.layers.Dense(10, activation=\"softmax\")\n",
        "  ])\n",
        "model.compile(loss=\"sparse_categorical_crossentropy\",\n",
        "              optimizer=\"sgd\",\n",
        "              metrics=[\"accuracy\"])\n",
        "for i in range(8):\n",
        "  plt.subplot(2, 4, i+1)\n",
        "  history = model.fit(X_train, y_train, batch_size=32, epochs=15+5*i,\n",
        "                    validation_data=(X_valid, y_valid), verbose=0)\n",
        "  plt.plot(pd.DataFrame(history.history))\n",
        "  plt.grid(True)\n",
        "  plt.gca().set_ylim(0, 1)\n",
        "  plt.title(\"Number of epochs: \"+str(15+5*i))\n",
        "plt.show()"
      ],
      "metadata": {
        "colab": {
          "base_uri": "https://localhost:8080/",
          "height": 1000
        },
        "outputId": "94ccc61c-5c91-430a-9bd7-6abc9037a8ff",
        "id": "cwQRqColNmZP"
      },
      "execution_count": 46,
      "outputs": [
        {
          "output_type": "stream",
          "name": "stdout",
          "text": [
            "Epoch 1/15\n",
            "1719/1719 [==============================] - 6s 3ms/step - loss: 0.7100 - accuracy: 0.7668 - val_loss: 0.5148 - val_accuracy: 0.8210\n",
            "Epoch 2/15\n",
            "1719/1719 [==============================] - 6s 3ms/step - loss: 0.4897 - accuracy: 0.8287 - val_loss: 0.4460 - val_accuracy: 0.8458\n",
            "Epoch 3/15\n",
            "1719/1719 [==============================] - 6s 3ms/step - loss: 0.4465 - accuracy: 0.8432 - val_loss: 0.4650 - val_accuracy: 0.8306\n",
            "Epoch 4/15\n",
            "1719/1719 [==============================] - 6s 3ms/step - loss: 0.4186 - accuracy: 0.8524 - val_loss: 0.4139 - val_accuracy: 0.8548\n",
            "Epoch 5/15\n",
            "1719/1719 [==============================] - 6s 3ms/step - loss: 0.3987 - accuracy: 0.8600 - val_loss: 0.4025 - val_accuracy: 0.8610\n",
            "Epoch 6/15\n",
            "1719/1719 [==============================] - 6s 3ms/step - loss: 0.3816 - accuracy: 0.8650 - val_loss: 0.3706 - val_accuracy: 0.8752\n",
            "Epoch 7/15\n",
            "1719/1719 [==============================] - 6s 3ms/step - loss: 0.3678 - accuracy: 0.8707 - val_loss: 0.3584 - val_accuracy: 0.8758\n",
            "Epoch 8/15\n",
            "1719/1719 [==============================] - 6s 4ms/step - loss: 0.3559 - accuracy: 0.8735 - val_loss: 0.3804 - val_accuracy: 0.8672\n",
            "Epoch 9/15\n",
            "1719/1719 [==============================] - 6s 3ms/step - loss: 0.3458 - accuracy: 0.8767 - val_loss: 0.3517 - val_accuracy: 0.8768\n",
            "Epoch 10/15\n",
            "1719/1719 [==============================] - 6s 4ms/step - loss: 0.3355 - accuracy: 0.8799 - val_loss: 0.3527 - val_accuracy: 0.8746\n",
            "Epoch 11/15\n",
            "1719/1719 [==============================] - 6s 4ms/step - loss: 0.3288 - accuracy: 0.8824 - val_loss: 0.3369 - val_accuracy: 0.8816\n",
            "Epoch 12/15\n",
            "1719/1719 [==============================] - 7s 4ms/step - loss: 0.3196 - accuracy: 0.8851 - val_loss: 0.3335 - val_accuracy: 0.8830\n",
            "Epoch 13/15\n",
            "1719/1719 [==============================] - 6s 4ms/step - loss: 0.3120 - accuracy: 0.8879 - val_loss: 0.3586 - val_accuracy: 0.8736\n",
            "Epoch 14/15\n",
            "1719/1719 [==============================] - 6s 4ms/step - loss: 0.3045 - accuracy: 0.8895 - val_loss: 0.3268 - val_accuracy: 0.8878\n",
            "Epoch 15/15\n",
            "1719/1719 [==============================] - 6s 4ms/step - loss: 0.2992 - accuracy: 0.8910 - val_loss: 0.3185 - val_accuracy: 0.8858\n",
            "Epoch 1/20\n",
            "1719/1719 [==============================] - 7s 4ms/step - loss: 0.2925 - accuracy: 0.8954 - val_loss: 0.3305 - val_accuracy: 0.8840\n",
            "Epoch 2/20\n",
            "1719/1719 [==============================] - 6s 4ms/step - loss: 0.2869 - accuracy: 0.8965 - val_loss: 0.3261 - val_accuracy: 0.8840\n",
            "Epoch 3/20\n",
            "1719/1719 [==============================] - 6s 4ms/step - loss: 0.2814 - accuracy: 0.8987 - val_loss: 0.3200 - val_accuracy: 0.8862\n",
            "Epoch 4/20\n",
            "1719/1719 [==============================] - 6s 4ms/step - loss: 0.2767 - accuracy: 0.8997 - val_loss: 0.3090 - val_accuracy: 0.8880\n",
            "Epoch 5/20\n",
            "1719/1719 [==============================] - 6s 4ms/step - loss: 0.2702 - accuracy: 0.9019 - val_loss: 0.3379 - val_accuracy: 0.8796\n",
            "Epoch 6/20\n",
            "1719/1719 [==============================] - 6s 4ms/step - loss: 0.2660 - accuracy: 0.9026 - val_loss: 0.3100 - val_accuracy: 0.8896\n",
            "Epoch 7/20\n",
            "1719/1719 [==============================] - 6s 4ms/step - loss: 0.2608 - accuracy: 0.9062 - val_loss: 0.3046 - val_accuracy: 0.8884\n",
            "Epoch 8/20\n",
            "1719/1719 [==============================] - 6s 4ms/step - loss: 0.2562 - accuracy: 0.9068 - val_loss: 0.3041 - val_accuracy: 0.8890\n",
            "Epoch 9/20\n",
            "1719/1719 [==============================] - 6s 4ms/step - loss: 0.2519 - accuracy: 0.9090 - val_loss: 0.2959 - val_accuracy: 0.8940\n",
            "Epoch 10/20\n",
            "1719/1719 [==============================] - 6s 4ms/step - loss: 0.2463 - accuracy: 0.9106 - val_loss: 0.3137 - val_accuracy: 0.8884\n",
            "Epoch 11/20\n",
            "1719/1719 [==============================] - 6s 4ms/step - loss: 0.2435 - accuracy: 0.9123 - val_loss: 0.3039 - val_accuracy: 0.8906\n",
            "Epoch 12/20\n",
            "1719/1719 [==============================] - 6s 4ms/step - loss: 0.2398 - accuracy: 0.9137 - val_loss: 0.2962 - val_accuracy: 0.8928\n",
            "Epoch 13/20\n",
            "1719/1719 [==============================] - 6s 4ms/step - loss: 0.2352 - accuracy: 0.9150 - val_loss: 0.3131 - val_accuracy: 0.8878\n",
            "Epoch 14/20\n",
            "1719/1719 [==============================] - 6s 4ms/step - loss: 0.2312 - accuracy: 0.9163 - val_loss: 0.3026 - val_accuracy: 0.8920\n",
            "Epoch 15/20\n",
            "1719/1719 [==============================] - 6s 4ms/step - loss: 0.2276 - accuracy: 0.9169 - val_loss: 0.2972 - val_accuracy: 0.8942\n",
            "Epoch 16/20\n",
            "1719/1719 [==============================] - 6s 4ms/step - loss: 0.2239 - accuracy: 0.9191 - val_loss: 0.2983 - val_accuracy: 0.8962\n",
            "Epoch 17/20\n",
            "1719/1719 [==============================] - 6s 4ms/step - loss: 0.2198 - accuracy: 0.9211 - val_loss: 0.3061 - val_accuracy: 0.8918\n",
            "Epoch 18/20\n",
            "1719/1719 [==============================] - 6s 4ms/step - loss: 0.2163 - accuracy: 0.9222 - val_loss: 0.2970 - val_accuracy: 0.8938\n",
            "Epoch 19/20\n",
            "1719/1719 [==============================] - 6s 4ms/step - loss: 0.2130 - accuracy: 0.9241 - val_loss: 0.2904 - val_accuracy: 0.8970\n",
            "Epoch 20/20\n",
            "1719/1719 [==============================] - 6s 4ms/step - loss: 0.2099 - accuracy: 0.9245 - val_loss: 0.2918 - val_accuracy: 0.8934\n",
            "Epoch 1/25\n",
            "1719/1719 [==============================] - 6s 4ms/step - loss: 0.2061 - accuracy: 0.9256 - val_loss: 0.3074 - val_accuracy: 0.8898\n",
            "Epoch 2/25\n",
            "1719/1719 [==============================] - 6s 3ms/step - loss: 0.2022 - accuracy: 0.9280 - val_loss: 0.2922 - val_accuracy: 0.8938\n",
            "Epoch 3/25\n",
            "1719/1719 [==============================] - 6s 4ms/step - loss: 0.1984 - accuracy: 0.9281 - val_loss: 0.3176 - val_accuracy: 0.8890\n",
            "Epoch 4/25\n",
            "1719/1719 [==============================] - 6s 4ms/step - loss: 0.1963 - accuracy: 0.9301 - val_loss: 0.3034 - val_accuracy: 0.8956\n",
            "Epoch 5/25\n",
            "1719/1719 [==============================] - 6s 4ms/step - loss: 0.1935 - accuracy: 0.9310 - val_loss: 0.3171 - val_accuracy: 0.8894\n",
            "Epoch 6/25\n",
            "1719/1719 [==============================] - 6s 4ms/step - loss: 0.1907 - accuracy: 0.9319 - val_loss: 0.2971 - val_accuracy: 0.8904\n",
            "Epoch 7/25\n",
            "1719/1719 [==============================] - 6s 4ms/step - loss: 0.1874 - accuracy: 0.9332 - val_loss: 0.3074 - val_accuracy: 0.8914\n",
            "Epoch 8/25\n",
            "1719/1719 [==============================] - 6s 3ms/step - loss: 0.1837 - accuracy: 0.9350 - val_loss: 0.2850 - val_accuracy: 0.8978\n",
            "Epoch 9/25\n",
            "1719/1719 [==============================] - 6s 3ms/step - loss: 0.1793 - accuracy: 0.9360 - val_loss: 0.3143 - val_accuracy: 0.8934\n",
            "Epoch 10/25\n",
            "1719/1719 [==============================] - 6s 3ms/step - loss: 0.1776 - accuracy: 0.9373 - val_loss: 0.3172 - val_accuracy: 0.8874\n",
            "Epoch 11/25\n",
            "1719/1719 [==============================] - 6s 3ms/step - loss: 0.1741 - accuracy: 0.9390 - val_loss: 0.3058 - val_accuracy: 0.8938\n",
            "Epoch 12/25\n",
            "1719/1719 [==============================] - 6s 4ms/step - loss: 0.1721 - accuracy: 0.9385 - val_loss: 0.2873 - val_accuracy: 0.8958\n",
            "Epoch 13/25\n",
            "1719/1719 [==============================] - 6s 4ms/step - loss: 0.1689 - accuracy: 0.9400 - val_loss: 0.3291 - val_accuracy: 0.8888\n",
            "Epoch 14/25\n",
            "1719/1719 [==============================] - 6s 4ms/step - loss: 0.1664 - accuracy: 0.9410 - val_loss: 0.2971 - val_accuracy: 0.8948\n",
            "Epoch 15/25\n",
            "1719/1719 [==============================] - 6s 4ms/step - loss: 0.1639 - accuracy: 0.9419 - val_loss: 0.3077 - val_accuracy: 0.8904\n",
            "Epoch 16/25\n",
            "1719/1719 [==============================] - 6s 4ms/step - loss: 0.1604 - accuracy: 0.9436 - val_loss: 0.3077 - val_accuracy: 0.8922\n",
            "Epoch 17/25\n",
            "1719/1719 [==============================] - 6s 4ms/step - loss: 0.1591 - accuracy: 0.9445 - val_loss: 0.3366 - val_accuracy: 0.8856\n",
            "Epoch 18/25\n",
            "1719/1719 [==============================] - 6s 4ms/step - loss: 0.1566 - accuracy: 0.9437 - val_loss: 0.3025 - val_accuracy: 0.8948\n",
            "Epoch 19/25\n",
            "1719/1719 [==============================] - 6s 4ms/step - loss: 0.1538 - accuracy: 0.9460 - val_loss: 0.2868 - val_accuracy: 0.9014\n",
            "Epoch 20/25\n",
            "1719/1719 [==============================] - 6s 4ms/step - loss: 0.1510 - accuracy: 0.9467 - val_loss: 0.3183 - val_accuracy: 0.8894\n",
            "Epoch 21/25\n",
            "1719/1719 [==============================] - 6s 4ms/step - loss: 0.1487 - accuracy: 0.9480 - val_loss: 0.2994 - val_accuracy: 0.8950\n",
            "Epoch 22/25\n",
            "1719/1719 [==============================] - 6s 4ms/step - loss: 0.1455 - accuracy: 0.9490 - val_loss: 0.3025 - val_accuracy: 0.8964\n",
            "Epoch 23/25\n",
            "1719/1719 [==============================] - 6s 4ms/step - loss: 0.1439 - accuracy: 0.9491 - val_loss: 0.2959 - val_accuracy: 0.8978\n",
            "Epoch 24/25\n",
            "1719/1719 [==============================] - 6s 4ms/step - loss: 0.1406 - accuracy: 0.9503 - val_loss: 0.2989 - val_accuracy: 0.8982\n",
            "Epoch 25/25\n",
            "1719/1719 [==============================] - 6s 4ms/step - loss: 0.1387 - accuracy: 0.9505 - val_loss: 0.3055 - val_accuracy: 0.8966\n",
            "Epoch 1/30\n",
            "1719/1719 [==============================] - 6s 4ms/step - loss: 0.1358 - accuracy: 0.9519 - val_loss: 0.3038 - val_accuracy: 0.8956\n",
            "Epoch 2/30\n",
            "1719/1719 [==============================] - 6s 4ms/step - loss: 0.1342 - accuracy: 0.9530 - val_loss: 0.3059 - val_accuracy: 0.8998\n",
            "Epoch 3/30\n",
            "1719/1719 [==============================] - 6s 4ms/step - loss: 0.1334 - accuracy: 0.9529 - val_loss: 0.3076 - val_accuracy: 0.8924\n",
            "Epoch 4/30\n",
            "1719/1719 [==============================] - 6s 4ms/step - loss: 0.1289 - accuracy: 0.9544 - val_loss: 0.3021 - val_accuracy: 0.8962\n",
            "Epoch 5/30\n",
            "1719/1719 [==============================] - 6s 4ms/step - loss: 0.1269 - accuracy: 0.9555 - val_loss: 0.3023 - val_accuracy: 0.9010\n",
            "Epoch 6/30\n",
            "1719/1719 [==============================] - 6s 4ms/step - loss: 0.1252 - accuracy: 0.9563 - val_loss: 0.3083 - val_accuracy: 0.8976\n",
            "Epoch 7/30\n",
            "1719/1719 [==============================] - 6s 4ms/step - loss: 0.1239 - accuracy: 0.9570 - val_loss: 0.3069 - val_accuracy: 0.8976\n",
            "Epoch 8/30\n",
            "1719/1719 [==============================] - 6s 4ms/step - loss: 0.1203 - accuracy: 0.9584 - val_loss: 0.3072 - val_accuracy: 0.8928\n",
            "Epoch 9/30\n",
            "1719/1719 [==============================] - 6s 4ms/step - loss: 0.1189 - accuracy: 0.9585 - val_loss: 0.3147 - val_accuracy: 0.8960\n",
            "Epoch 10/30\n",
            "1719/1719 [==============================] - 6s 4ms/step - loss: 0.1172 - accuracy: 0.9598 - val_loss: 0.3409 - val_accuracy: 0.8882\n",
            "Epoch 11/30\n",
            "1719/1719 [==============================] - 6s 3ms/step - loss: 0.1143 - accuracy: 0.9603 - val_loss: 0.3176 - val_accuracy: 0.8912\n",
            "Epoch 12/30\n",
            "1719/1719 [==============================] - 6s 4ms/step - loss: 0.1141 - accuracy: 0.9598 - val_loss: 0.3230 - val_accuracy: 0.8946\n",
            "Epoch 13/30\n",
            "1719/1719 [==============================] - 6s 4ms/step - loss: 0.1119 - accuracy: 0.9615 - val_loss: 0.3211 - val_accuracy: 0.8956\n",
            "Epoch 14/30\n",
            "1719/1719 [==============================] - 6s 4ms/step - loss: 0.1098 - accuracy: 0.9618 - val_loss: 0.3429 - val_accuracy: 0.8970\n",
            "Epoch 15/30\n",
            "1719/1719 [==============================] - 6s 3ms/step - loss: 0.1081 - accuracy: 0.9628 - val_loss: 0.3276 - val_accuracy: 0.8960\n",
            "Epoch 16/30\n",
            "1719/1719 [==============================] - 6s 3ms/step - loss: 0.1059 - accuracy: 0.9635 - val_loss: 0.3321 - val_accuracy: 0.8970\n",
            "Epoch 17/30\n",
            "1719/1719 [==============================] - 6s 4ms/step - loss: 0.1047 - accuracy: 0.9632 - val_loss: 0.3248 - val_accuracy: 0.8940\n",
            "Epoch 18/30\n",
            "1719/1719 [==============================] - 6s 4ms/step - loss: 0.1018 - accuracy: 0.9645 - val_loss: 0.3262 - val_accuracy: 0.8962\n",
            "Epoch 19/30\n",
            "1719/1719 [==============================] - 6s 4ms/step - loss: 0.1009 - accuracy: 0.9650 - val_loss: 0.3389 - val_accuracy: 0.8946\n",
            "Epoch 20/30\n",
            "1719/1719 [==============================] - 6s 4ms/step - loss: 0.0992 - accuracy: 0.9661 - val_loss: 0.3398 - val_accuracy: 0.8980\n",
            "Epoch 21/30\n",
            "1719/1719 [==============================] - 6s 4ms/step - loss: 0.0968 - accuracy: 0.9672 - val_loss: 0.3372 - val_accuracy: 0.8970\n",
            "Epoch 22/30\n",
            "1719/1719 [==============================] - 6s 4ms/step - loss: 0.0956 - accuracy: 0.9668 - val_loss: 0.3401 - val_accuracy: 0.8938\n",
            "Epoch 23/30\n",
            "1719/1719 [==============================] - 6s 4ms/step - loss: 0.0938 - accuracy: 0.9679 - val_loss: 0.3462 - val_accuracy: 0.8978\n",
            "Epoch 24/30\n",
            "1719/1719 [==============================] - 6s 4ms/step - loss: 0.0925 - accuracy: 0.9680 - val_loss: 0.3776 - val_accuracy: 0.8826\n",
            "Epoch 25/30\n",
            "1719/1719 [==============================] - 6s 4ms/step - loss: 0.0910 - accuracy: 0.9684 - val_loss: 0.3351 - val_accuracy: 0.8978\n",
            "Epoch 26/30\n",
            "1719/1719 [==============================] - 6s 4ms/step - loss: 0.0887 - accuracy: 0.9701 - val_loss: 0.3420 - val_accuracy: 0.8968\n",
            "Epoch 27/30\n",
            "1719/1719 [==============================] - 6s 4ms/step - loss: 0.0872 - accuracy: 0.9701 - val_loss: 0.3333 - val_accuracy: 0.9040\n",
            "Epoch 28/30\n",
            "1719/1719 [==============================] - 6s 4ms/step - loss: 0.0868 - accuracy: 0.9709 - val_loss: 0.3413 - val_accuracy: 0.9008\n",
            "Epoch 29/30\n",
            "1719/1719 [==============================] - 6s 4ms/step - loss: 0.0840 - accuracy: 0.9717 - val_loss: 0.3630 - val_accuracy: 0.8972\n",
            "Epoch 30/30\n",
            "1719/1719 [==============================] - 6s 4ms/step - loss: 0.0822 - accuracy: 0.9721 - val_loss: 0.3462 - val_accuracy: 0.9014\n",
            "Epoch 1/35\n",
            "1719/1719 [==============================] - 6s 4ms/step - loss: 0.0820 - accuracy: 0.9716 - val_loss: 0.3574 - val_accuracy: 0.8976\n",
            "Epoch 2/35\n",
            "1719/1719 [==============================] - 6s 4ms/step - loss: 0.0803 - accuracy: 0.9725 - val_loss: 0.3720 - val_accuracy: 0.8968\n",
            "Epoch 3/35\n",
            "1719/1719 [==============================] - 7s 4ms/step - loss: 0.0790 - accuracy: 0.9728 - val_loss: 0.3421 - val_accuracy: 0.9024\n",
            "Epoch 4/35\n",
            "1719/1719 [==============================] - 6s 4ms/step - loss: 0.0787 - accuracy: 0.9732 - val_loss: 0.3609 - val_accuracy: 0.8962\n",
            "Epoch 5/35\n",
            "1719/1719 [==============================] - 6s 4ms/step - loss: 0.0754 - accuracy: 0.9742 - val_loss: 0.3550 - val_accuracy: 0.9042\n",
            "Epoch 6/35\n",
            "1719/1719 [==============================] - 6s 4ms/step - loss: 0.0737 - accuracy: 0.9758 - val_loss: 0.3576 - val_accuracy: 0.8984\n",
            "Epoch 7/35\n",
            "1719/1719 [==============================] - 6s 4ms/step - loss: 0.0735 - accuracy: 0.9763 - val_loss: 0.3803 - val_accuracy: 0.8950\n",
            "Epoch 8/35\n",
            "1719/1719 [==============================] - 6s 4ms/step - loss: 0.0730 - accuracy: 0.9757 - val_loss: 0.3589 - val_accuracy: 0.8966\n",
            "Epoch 9/35\n",
            "1719/1719 [==============================] - 6s 4ms/step - loss: 0.0716 - accuracy: 0.9759 - val_loss: 0.4028 - val_accuracy: 0.8896\n",
            "Epoch 10/35\n",
            "1719/1719 [==============================] - 6s 4ms/step - loss: 0.0691 - accuracy: 0.9769 - val_loss: 0.3563 - val_accuracy: 0.8998\n",
            "Epoch 11/35\n",
            "1719/1719 [==============================] - 6s 4ms/step - loss: 0.0680 - accuracy: 0.9777 - val_loss: 0.3981 - val_accuracy: 0.8972\n",
            "Epoch 12/35\n",
            "1719/1719 [==============================] - 6s 4ms/step - loss: 0.0680 - accuracy: 0.9770 - val_loss: 0.3613 - val_accuracy: 0.9016\n",
            "Epoch 13/35\n",
            "1719/1719 [==============================] - 6s 4ms/step - loss: 0.0643 - accuracy: 0.9789 - val_loss: 0.3924 - val_accuracy: 0.8894\n",
            "Epoch 14/35\n",
            "1719/1719 [==============================] - 6s 4ms/step - loss: 0.0664 - accuracy: 0.9773 - val_loss: 0.4102 - val_accuracy: 0.8862\n",
            "Epoch 15/35\n",
            "1719/1719 [==============================] - 6s 4ms/step - loss: 0.0648 - accuracy: 0.9784 - val_loss: 0.3647 - val_accuracy: 0.9008\n",
            "Epoch 16/35\n",
            "1719/1719 [==============================] - 6s 4ms/step - loss: 0.0627 - accuracy: 0.9795 - val_loss: 0.3842 - val_accuracy: 0.8992\n",
            "Epoch 17/35\n",
            "1719/1719 [==============================] - 6s 4ms/step - loss: 0.0625 - accuracy: 0.9791 - val_loss: 0.3820 - val_accuracy: 0.8978\n",
            "Epoch 18/35\n",
            "1719/1719 [==============================] - 7s 4ms/step - loss: 0.0618 - accuracy: 0.9784 - val_loss: 0.3908 - val_accuracy: 0.8990\n",
            "Epoch 19/35\n",
            "1719/1719 [==============================] - 6s 4ms/step - loss: 0.0588 - accuracy: 0.9801 - val_loss: 0.3657 - val_accuracy: 0.9006\n",
            "Epoch 20/35\n",
            "1719/1719 [==============================] - 6s 4ms/step - loss: 0.0577 - accuracy: 0.9804 - val_loss: 0.3725 - val_accuracy: 0.9024\n",
            "Epoch 21/35\n",
            "1719/1719 [==============================] - 6s 4ms/step - loss: 0.0581 - accuracy: 0.9805 - val_loss: 0.3984 - val_accuracy: 0.8948\n",
            "Epoch 22/35\n",
            "1719/1719 [==============================] - 6s 4ms/step - loss: 0.0566 - accuracy: 0.9810 - val_loss: 0.3961 - val_accuracy: 0.8996\n",
            "Epoch 23/35\n",
            "1719/1719 [==============================] - 6s 4ms/step - loss: 0.0555 - accuracy: 0.9815 - val_loss: 0.3832 - val_accuracy: 0.9006\n",
            "Epoch 24/35\n",
            "1719/1719 [==============================] - 6s 4ms/step - loss: 0.0553 - accuracy: 0.9817 - val_loss: 0.4157 - val_accuracy: 0.8922\n",
            "Epoch 25/35\n",
            "1719/1719 [==============================] - 6s 4ms/step - loss: 0.0536 - accuracy: 0.9825 - val_loss: 0.4041 - val_accuracy: 0.9018\n",
            "Epoch 26/35\n",
            "1719/1719 [==============================] - 6s 4ms/step - loss: 0.0531 - accuracy: 0.9828 - val_loss: 0.4247 - val_accuracy: 0.8968\n",
            "Epoch 27/35\n",
            "1719/1719 [==============================] - 6s 4ms/step - loss: 0.0516 - accuracy: 0.9834 - val_loss: 0.4155 - val_accuracy: 0.8946\n",
            "Epoch 28/35\n",
            "1719/1719 [==============================] - 6s 4ms/step - loss: 0.0519 - accuracy: 0.9831 - val_loss: 0.4101 - val_accuracy: 0.9002\n",
            "Epoch 29/35\n",
            "1719/1719 [==============================] - 6s 4ms/step - loss: 0.0506 - accuracy: 0.9841 - val_loss: 0.3935 - val_accuracy: 0.8992\n",
            "Epoch 30/35\n",
            "1719/1719 [==============================] - 6s 4ms/step - loss: 0.0483 - accuracy: 0.9847 - val_loss: 0.4113 - val_accuracy: 0.8986\n",
            "Epoch 31/35\n",
            "1719/1719 [==============================] - 6s 4ms/step - loss: 0.0481 - accuracy: 0.9842 - val_loss: 0.4178 - val_accuracy: 0.8998\n",
            "Epoch 32/35\n",
            "1719/1719 [==============================] - 6s 4ms/step - loss: 0.0470 - accuracy: 0.9847 - val_loss: 0.6376 - val_accuracy: 0.8464\n",
            "Epoch 33/35\n",
            "1719/1719 [==============================] - 6s 4ms/step - loss: 0.0485 - accuracy: 0.9840 - val_loss: 0.4188 - val_accuracy: 0.8970\n",
            "Epoch 34/35\n",
            "1719/1719 [==============================] - 6s 4ms/step - loss: 0.0450 - accuracy: 0.9858 - val_loss: 0.4226 - val_accuracy: 0.9030\n",
            "Epoch 35/35\n",
            "1719/1719 [==============================] - 6s 4ms/step - loss: 0.0462 - accuracy: 0.9850 - val_loss: 0.4401 - val_accuracy: 0.8986\n",
            "Epoch 1/40\n",
            "1719/1719 [==============================] - 6s 4ms/step - loss: 0.0438 - accuracy: 0.9862 - val_loss: 0.4196 - val_accuracy: 0.9020\n",
            "Epoch 2/40\n",
            "1719/1719 [==============================] - 6s 4ms/step - loss: 0.0420 - accuracy: 0.9868 - val_loss: 0.4194 - val_accuracy: 0.9022\n",
            "Epoch 3/40\n",
            "1719/1719 [==============================] - 6s 4ms/step - loss: 0.0422 - accuracy: 0.9871 - val_loss: 0.4307 - val_accuracy: 0.8988\n",
            "Epoch 4/40\n",
            "1719/1719 [==============================] - 6s 4ms/step - loss: 0.0425 - accuracy: 0.9863 - val_loss: 0.4259 - val_accuracy: 0.8962\n",
            "Epoch 5/40\n",
            "1719/1719 [==============================] - 6s 4ms/step - loss: 0.0417 - accuracy: 0.9872 - val_loss: 0.4768 - val_accuracy: 0.8926\n",
            "Epoch 6/40\n",
            "1719/1719 [==============================] - 6s 4ms/step - loss: 0.0403 - accuracy: 0.9871 - val_loss: 0.4389 - val_accuracy: 0.8984\n",
            "Epoch 7/40\n",
            "1719/1719 [==============================] - 6s 4ms/step - loss: 0.0381 - accuracy: 0.9879 - val_loss: 0.4261 - val_accuracy: 0.8984\n",
            "Epoch 8/40\n",
            "1719/1719 [==============================] - 6s 4ms/step - loss: 0.0375 - accuracy: 0.9883 - val_loss: 0.4345 - val_accuracy: 0.9004\n",
            "Epoch 9/40\n",
            "1719/1719 [==============================] - 6s 4ms/step - loss: 0.0374 - accuracy: 0.9885 - val_loss: 0.4420 - val_accuracy: 0.8980\n",
            "Epoch 10/40\n",
            "1719/1719 [==============================] - 6s 4ms/step - loss: 0.0363 - accuracy: 0.9886 - val_loss: 0.4301 - val_accuracy: 0.8998\n",
            "Epoch 11/40\n",
            "1719/1719 [==============================] - 6s 4ms/step - loss: 0.0332 - accuracy: 0.9898 - val_loss: 0.4493 - val_accuracy: 0.8954\n",
            "Epoch 12/40\n",
            "1719/1719 [==============================] - 6s 4ms/step - loss: 0.0345 - accuracy: 0.9893 - val_loss: 0.4432 - val_accuracy: 0.8990\n",
            "Epoch 13/40\n",
            "1719/1719 [==============================] - 6s 4ms/step - loss: 0.0345 - accuracy: 0.9895 - val_loss: 0.4568 - val_accuracy: 0.9018\n",
            "Epoch 14/40\n",
            "1719/1719 [==============================] - 6s 4ms/step - loss: 0.0333 - accuracy: 0.9901 - val_loss: 0.4795 - val_accuracy: 0.8942\n",
            "Epoch 15/40\n",
            "1719/1719 [==============================] - 6s 4ms/step - loss: 0.0341 - accuracy: 0.9898 - val_loss: 0.4424 - val_accuracy: 0.9000\n",
            "Epoch 16/40\n",
            "1719/1719 [==============================] - 6s 4ms/step - loss: 0.0338 - accuracy: 0.9896 - val_loss: 0.4454 - val_accuracy: 0.8974\n",
            "Epoch 17/40\n",
            "1719/1719 [==============================] - 6s 4ms/step - loss: 0.0326 - accuracy: 0.9900 - val_loss: 0.4470 - val_accuracy: 0.9008\n",
            "Epoch 18/40\n",
            "1719/1719 [==============================] - 6s 4ms/step - loss: 0.0319 - accuracy: 0.9902 - val_loss: 0.4453 - val_accuracy: 0.9002\n",
            "Epoch 19/40\n",
            "1719/1719 [==============================] - 6s 4ms/step - loss: 0.0308 - accuracy: 0.9905 - val_loss: 0.4483 - val_accuracy: 0.9030\n",
            "Epoch 20/40\n",
            "1719/1719 [==============================] - 6s 4ms/step - loss: 0.0286 - accuracy: 0.9918 - val_loss: 0.4645 - val_accuracy: 0.8982\n",
            "Epoch 21/40\n",
            "1719/1719 [==============================] - 6s 4ms/step - loss: 0.0298 - accuracy: 0.9911 - val_loss: 0.4501 - val_accuracy: 0.8982\n",
            "Epoch 22/40\n",
            "1719/1719 [==============================] - 6s 4ms/step - loss: 0.0287 - accuracy: 0.9916 - val_loss: 0.4600 - val_accuracy: 0.9038\n",
            "Epoch 23/40\n",
            "1719/1719 [==============================] - 6s 4ms/step - loss: 0.0272 - accuracy: 0.9926 - val_loss: 0.4768 - val_accuracy: 0.8984\n",
            "Epoch 24/40\n",
            "1719/1719 [==============================] - 6s 4ms/step - loss: 0.0263 - accuracy: 0.9924 - val_loss: 0.4766 - val_accuracy: 0.8994\n",
            "Epoch 25/40\n",
            "1719/1719 [==============================] - 6s 4ms/step - loss: 0.0268 - accuracy: 0.9921 - val_loss: 0.4676 - val_accuracy: 0.8960\n",
            "Epoch 26/40\n",
            "1719/1719 [==============================] - 6s 4ms/step - loss: 0.0269 - accuracy: 0.9921 - val_loss: 0.4763 - val_accuracy: 0.9012\n",
            "Epoch 27/40\n",
            "1719/1719 [==============================] - 6s 4ms/step - loss: 0.0256 - accuracy: 0.9929 - val_loss: 0.4980 - val_accuracy: 0.8992\n",
            "Epoch 28/40\n",
            "1719/1719 [==============================] - 6s 4ms/step - loss: 0.0262 - accuracy: 0.9923 - val_loss: 0.4755 - val_accuracy: 0.8994\n",
            "Epoch 29/40\n",
            "1719/1719 [==============================] - 6s 4ms/step - loss: 0.0244 - accuracy: 0.9930 - val_loss: 0.4737 - val_accuracy: 0.9008\n",
            "Epoch 30/40\n",
            "1719/1719 [==============================] - 6s 4ms/step - loss: 0.0236 - accuracy: 0.9934 - val_loss: 0.4695 - val_accuracy: 0.9026\n",
            "Epoch 31/40\n",
            "1719/1719 [==============================] - 6s 4ms/step - loss: 0.0230 - accuracy: 0.9936 - val_loss: 0.4901 - val_accuracy: 0.9004\n",
            "Epoch 32/40\n",
            "1719/1719 [==============================] - 6s 4ms/step - loss: 0.0214 - accuracy: 0.9942 - val_loss: 0.4809 - val_accuracy: 0.9052\n",
            "Epoch 33/40\n",
            "1719/1719 [==============================] - 6s 4ms/step - loss: 0.0219 - accuracy: 0.9938 - val_loss: 0.6416 - val_accuracy: 0.8834\n",
            "Epoch 34/40\n",
            "1719/1719 [==============================] - 6s 4ms/step - loss: 0.0219 - accuracy: 0.9938 - val_loss: 0.4835 - val_accuracy: 0.9030\n",
            "Epoch 35/40\n",
            "1719/1719 [==============================] - 6s 4ms/step - loss: 0.0201 - accuracy: 0.9949 - val_loss: 0.5134 - val_accuracy: 0.8986\n",
            "Epoch 36/40\n",
            "1719/1719 [==============================] - 6s 4ms/step - loss: 0.0196 - accuracy: 0.9947 - val_loss: 0.5513 - val_accuracy: 0.8884\n",
            "Epoch 37/40\n",
            "1719/1719 [==============================] - 6s 4ms/step - loss: 0.0204 - accuracy: 0.9945 - val_loss: 0.4918 - val_accuracy: 0.9002\n",
            "Epoch 38/40\n",
            "1719/1719 [==============================] - 6s 4ms/step - loss: 0.0212 - accuracy: 0.9943 - val_loss: 0.5360 - val_accuracy: 0.8950\n",
            "Epoch 39/40\n",
            "1719/1719 [==============================] - 6s 4ms/step - loss: 0.0198 - accuracy: 0.9949 - val_loss: 0.4860 - val_accuracy: 0.9008\n",
            "Epoch 40/40\n",
            "1719/1719 [==============================] - 6s 4ms/step - loss: 0.0219 - accuracy: 0.9940 - val_loss: 0.5078 - val_accuracy: 0.9018\n",
            "Epoch 1/45\n",
            "1719/1719 [==============================] - 6s 4ms/step - loss: 0.0186 - accuracy: 0.9953 - val_loss: 0.5153 - val_accuracy: 0.9008\n",
            "Epoch 2/45\n",
            "1719/1719 [==============================] - 6s 4ms/step - loss: 0.0189 - accuracy: 0.9948 - val_loss: 0.4930 - val_accuracy: 0.9006\n",
            "Epoch 3/45\n",
            "1719/1719 [==============================] - 6s 4ms/step - loss: 0.0191 - accuracy: 0.9949 - val_loss: 0.4935 - val_accuracy: 0.9016\n",
            "Epoch 4/45\n",
            "1719/1719 [==============================] - 6s 4ms/step - loss: 0.0178 - accuracy: 0.9956 - val_loss: 0.5098 - val_accuracy: 0.9004\n",
            "Epoch 5/45\n",
            "1719/1719 [==============================] - 6s 4ms/step - loss: 0.0172 - accuracy: 0.9955 - val_loss: 0.5113 - val_accuracy: 0.9022\n",
            "Epoch 6/45\n",
            "1719/1719 [==============================] - 6s 4ms/step - loss: 0.0155 - accuracy: 0.9962 - val_loss: 0.5198 - val_accuracy: 0.9016\n",
            "Epoch 7/45\n",
            "1719/1719 [==============================] - 6s 4ms/step - loss: 0.0155 - accuracy: 0.9964 - val_loss: 0.5031 - val_accuracy: 0.9030\n",
            "Epoch 8/45\n",
            "1719/1719 [==============================] - 6s 4ms/step - loss: 0.0130 - accuracy: 0.9975 - val_loss: 0.7578 - val_accuracy: 0.8672\n",
            "Epoch 9/45\n",
            "1719/1719 [==============================] - 6s 4ms/step - loss: 0.0158 - accuracy: 0.9962 - val_loss: 0.5086 - val_accuracy: 0.9000\n",
            "Epoch 10/45\n",
            "1719/1719 [==============================] - 6s 4ms/step - loss: 0.0121 - accuracy: 0.9975 - val_loss: 0.5224 - val_accuracy: 0.9042\n",
            "Epoch 11/45\n",
            "1719/1719 [==============================] - 6s 4ms/step - loss: 0.0123 - accuracy: 0.9973 - val_loss: 0.5305 - val_accuracy: 0.9016\n",
            "Epoch 12/45\n",
            "1719/1719 [==============================] - 6s 4ms/step - loss: 0.0119 - accuracy: 0.9975 - val_loss: 0.5157 - val_accuracy: 0.9028\n",
            "Epoch 13/45\n",
            "1719/1719 [==============================] - 6s 4ms/step - loss: 0.0105 - accuracy: 0.9981 - val_loss: 0.5439 - val_accuracy: 0.8994\n",
            "Epoch 14/45\n",
            "1719/1719 [==============================] - 6s 4ms/step - loss: 0.0117 - accuracy: 0.9975 - val_loss: 0.5251 - val_accuracy: 0.9020\n",
            "Epoch 15/45\n",
            "1719/1719 [==============================] - 6s 4ms/step - loss: 0.0103 - accuracy: 0.9981 - val_loss: 0.5372 - val_accuracy: 0.9002\n",
            "Epoch 16/45\n",
            "1719/1719 [==============================] - 6s 4ms/step - loss: 0.0096 - accuracy: 0.9983 - val_loss: 0.5268 - val_accuracy: 0.9008\n",
            "Epoch 17/45\n",
            "1719/1719 [==============================] - 7s 4ms/step - loss: 0.0101 - accuracy: 0.9980 - val_loss: 0.5327 - val_accuracy: 0.9044\n",
            "Epoch 18/45\n",
            "1719/1719 [==============================] - 6s 4ms/step - loss: 0.0090 - accuracy: 0.9986 - val_loss: 0.5390 - val_accuracy: 0.9030\n",
            "Epoch 19/45\n",
            "1719/1719 [==============================] - 6s 4ms/step - loss: 0.0098 - accuracy: 0.9979 - val_loss: 0.5440 - val_accuracy: 0.9002\n",
            "Epoch 20/45\n",
            "1719/1719 [==============================] - 6s 4ms/step - loss: 0.0088 - accuracy: 0.9985 - val_loss: 0.5369 - val_accuracy: 0.9022\n",
            "Epoch 21/45\n",
            "1719/1719 [==============================] - 6s 4ms/step - loss: 0.0080 - accuracy: 0.9991 - val_loss: 0.5498 - val_accuracy: 0.9012\n",
            "Epoch 22/45\n",
            "1719/1719 [==============================] - 6s 4ms/step - loss: 0.0078 - accuracy: 0.9989 - val_loss: 0.5399 - val_accuracy: 0.9012\n",
            "Epoch 23/45\n",
            "1719/1719 [==============================] - 6s 4ms/step - loss: 0.0096 - accuracy: 0.9981 - val_loss: 0.6608 - val_accuracy: 0.8838\n",
            "Epoch 24/45\n",
            "1719/1719 [==============================] - 6s 4ms/step - loss: 0.0077 - accuracy: 0.9990 - val_loss: 0.5504 - val_accuracy: 0.9012\n",
            "Epoch 25/45\n",
            "1719/1719 [==============================] - 6s 4ms/step - loss: 0.0075 - accuracy: 0.9991 - val_loss: 0.5438 - val_accuracy: 0.9044\n",
            "Epoch 26/45\n",
            "1719/1719 [==============================] - 6s 4ms/step - loss: 0.0107 - accuracy: 0.9974 - val_loss: 0.5657 - val_accuracy: 0.8948\n",
            "Epoch 27/45\n",
            "1719/1719 [==============================] - 6s 4ms/step - loss: 0.0103 - accuracy: 0.9979 - val_loss: 0.5495 - val_accuracy: 0.9022\n",
            "Epoch 28/45\n",
            "1719/1719 [==============================] - 6s 4ms/step - loss: 0.0064 - accuracy: 0.9994 - val_loss: 0.5415 - val_accuracy: 0.9044\n",
            "Epoch 29/45\n",
            "1719/1719 [==============================] - 6s 4ms/step - loss: 0.0063 - accuracy: 0.9992 - val_loss: 0.5733 - val_accuracy: 0.8986\n",
            "Epoch 30/45\n",
            "1719/1719 [==============================] - 6s 4ms/step - loss: 0.0076 - accuracy: 0.9987 - val_loss: 0.5533 - val_accuracy: 0.9032\n",
            "Epoch 31/45\n",
            "1719/1719 [==============================] - 6s 4ms/step - loss: 0.0064 - accuracy: 0.9990 - val_loss: 0.5822 - val_accuracy: 0.8982\n",
            "Epoch 32/45\n",
            "1719/1719 [==============================] - 6s 4ms/step - loss: 0.0197 - accuracy: 0.9942 - val_loss: 0.5460 - val_accuracy: 0.9012\n",
            "Epoch 33/45\n",
            "1719/1719 [==============================] - 6s 4ms/step - loss: 0.0062 - accuracy: 0.9993 - val_loss: 0.5528 - val_accuracy: 0.9024\n",
            "Epoch 34/45\n",
            "1719/1719 [==============================] - 6s 4ms/step - loss: 0.0054 - accuracy: 0.9996 - val_loss: 0.5536 - val_accuracy: 0.9048\n",
            "Epoch 35/45\n",
            "1719/1719 [==============================] - 7s 4ms/step - loss: 0.0056 - accuracy: 0.9994 - val_loss: 0.5508 - val_accuracy: 0.9036\n",
            "Epoch 36/45\n",
            "1719/1719 [==============================] - 6s 4ms/step - loss: 0.0048 - accuracy: 0.9997 - val_loss: 0.5598 - val_accuracy: 0.9030\n",
            "Epoch 37/45\n",
            "1719/1719 [==============================] - 6s 4ms/step - loss: 0.0040 - accuracy: 0.9999 - val_loss: 0.5648 - val_accuracy: 0.9020\n",
            "Epoch 38/45\n",
            "1719/1719 [==============================] - 6s 4ms/step - loss: 0.0039 - accuracy: 0.9998 - val_loss: 0.5691 - val_accuracy: 0.9038\n",
            "Epoch 39/45\n",
            "1719/1719 [==============================] - 7s 4ms/step - loss: 0.0040 - accuracy: 0.9998 - val_loss: 0.5739 - val_accuracy: 0.9046\n",
            "Epoch 40/45\n",
            "1719/1719 [==============================] - 6s 4ms/step - loss: 0.0036 - accuracy: 0.9999 - val_loss: 0.5651 - val_accuracy: 0.9024\n",
            "Epoch 41/45\n",
            "1719/1719 [==============================] - 6s 4ms/step - loss: 0.0036 - accuracy: 0.9999 - val_loss: 0.5666 - val_accuracy: 0.9050\n",
            "Epoch 42/45\n",
            "1719/1719 [==============================] - 6s 4ms/step - loss: 0.0036 - accuracy: 0.9999 - val_loss: 0.5664 - val_accuracy: 0.9046\n",
            "Epoch 43/45\n",
            "1719/1719 [==============================] - 6s 4ms/step - loss: 0.0037 - accuracy: 0.9999 - val_loss: 0.5710 - val_accuracy: 0.9026\n",
            "Epoch 44/45\n",
            "1719/1719 [==============================] - 6s 4ms/step - loss: 0.0032 - accuracy: 1.0000 - val_loss: 0.5766 - val_accuracy: 0.9024\n",
            "Epoch 45/45\n",
            "1719/1719 [==============================] - 6s 4ms/step - loss: 0.0037 - accuracy: 0.9998 - val_loss: 0.5707 - val_accuracy: 0.9026\n",
            "Epoch 1/50\n",
            "1719/1719 [==============================] - 6s 4ms/step - loss: 0.0030 - accuracy: 1.0000 - val_loss: 0.5780 - val_accuracy: 0.9022\n",
            "Epoch 2/50\n",
            "1719/1719 [==============================] - 6s 4ms/step - loss: 0.0031 - accuracy: 0.9999 - val_loss: 0.5755 - val_accuracy: 0.9040\n",
            "Epoch 3/50\n",
            "1719/1719 [==============================] - 7s 4ms/step - loss: 0.0030 - accuracy: 1.0000 - val_loss: 0.5847 - val_accuracy: 0.9032\n",
            "Epoch 4/50\n",
            "1719/1719 [==============================] - 7s 4ms/step - loss: 0.0028 - accuracy: 1.0000 - val_loss: 0.5811 - val_accuracy: 0.9026\n",
            "Epoch 5/50\n",
            "1719/1719 [==============================] - 7s 4ms/step - loss: 0.0028 - accuracy: 0.9999 - val_loss: 0.5816 - val_accuracy: 0.9032\n",
            "Epoch 6/50\n",
            "1719/1719 [==============================] - 7s 4ms/step - loss: 0.0028 - accuracy: 1.0000 - val_loss: 0.5824 - val_accuracy: 0.9040\n",
            "Epoch 7/50\n",
            "1719/1719 [==============================] - 7s 4ms/step - loss: 0.0027 - accuracy: 1.0000 - val_loss: 0.5792 - val_accuracy: 0.9024\n",
            "Epoch 8/50\n",
            "1719/1719 [==============================] - 7s 4ms/step - loss: 0.0026 - accuracy: 1.0000 - val_loss: 0.5831 - val_accuracy: 0.9028\n",
            "Epoch 9/50\n",
            "1719/1719 [==============================] - 7s 4ms/step - loss: 0.0025 - accuracy: 1.0000 - val_loss: 0.5869 - val_accuracy: 0.9048\n",
            "Epoch 10/50\n",
            "1719/1719 [==============================] - 7s 4ms/step - loss: 0.0025 - accuracy: 1.0000 - val_loss: 0.5867 - val_accuracy: 0.9010\n",
            "Epoch 11/50\n",
            "1719/1719 [==============================] - 7s 4ms/step - loss: 0.0025 - accuracy: 1.0000 - val_loss: 0.5889 - val_accuracy: 0.9030\n",
            "Epoch 12/50\n",
            "1719/1719 [==============================] - 7s 4ms/step - loss: 0.0024 - accuracy: 1.0000 - val_loss: 0.5872 - val_accuracy: 0.9014\n",
            "Epoch 13/50\n",
            "1719/1719 [==============================] - 7s 4ms/step - loss: 0.0024 - accuracy: 1.0000 - val_loss: 0.5868 - val_accuracy: 0.9028\n",
            "Epoch 14/50\n",
            "1719/1719 [==============================] - 7s 4ms/step - loss: 0.0024 - accuracy: 1.0000 - val_loss: 0.5944 - val_accuracy: 0.8996\n",
            "Epoch 15/50\n",
            "1719/1719 [==============================] - 7s 4ms/step - loss: 0.0024 - accuracy: 1.0000 - val_loss: 0.5928 - val_accuracy: 0.9044\n",
            "Epoch 16/50\n",
            "1719/1719 [==============================] - 7s 4ms/step - loss: 0.0023 - accuracy: 1.0000 - val_loss: 0.5980 - val_accuracy: 0.9020\n",
            "Epoch 17/50\n",
            "1719/1719 [==============================] - 7s 4ms/step - loss: 0.0022 - accuracy: 1.0000 - val_loss: 0.5921 - val_accuracy: 0.9036\n",
            "Epoch 18/50\n",
            "1719/1719 [==============================] - 7s 4ms/step - loss: 0.0022 - accuracy: 1.0000 - val_loss: 0.5989 - val_accuracy: 0.9030\n",
            "Epoch 19/50\n",
            "1719/1719 [==============================] - 7s 4ms/step - loss: 0.0022 - accuracy: 1.0000 - val_loss: 0.5933 - val_accuracy: 0.9008\n",
            "Epoch 20/50\n",
            "1719/1719 [==============================] - 7s 4ms/step - loss: 0.0021 - accuracy: 1.0000 - val_loss: 0.5953 - val_accuracy: 0.9032\n",
            "Epoch 21/50\n",
            "1719/1719 [==============================] - 7s 4ms/step - loss: 0.0021 - accuracy: 1.0000 - val_loss: 0.5984 - val_accuracy: 0.9036\n",
            "Epoch 22/50\n",
            "1719/1719 [==============================] - 7s 4ms/step - loss: 0.0021 - accuracy: 1.0000 - val_loss: 0.6006 - val_accuracy: 0.9022\n",
            "Epoch 23/50\n",
            "1719/1719 [==============================] - 7s 4ms/step - loss: 0.0020 - accuracy: 1.0000 - val_loss: 0.6032 - val_accuracy: 0.9026\n",
            "Epoch 24/50\n",
            "1719/1719 [==============================] - 7s 4ms/step - loss: 0.0021 - accuracy: 1.0000 - val_loss: 0.6067 - val_accuracy: 0.9014\n",
            "Epoch 25/50\n",
            "1719/1719 [==============================] - 7s 4ms/step - loss: 0.0021 - accuracy: 1.0000 - val_loss: 0.5997 - val_accuracy: 0.9002\n",
            "Epoch 26/50\n",
            "1719/1719 [==============================] - 7s 4ms/step - loss: 0.0019 - accuracy: 1.0000 - val_loss: 0.6003 - val_accuracy: 0.9020\n",
            "Epoch 27/50\n",
            "1719/1719 [==============================] - 7s 4ms/step - loss: 0.0019 - accuracy: 1.0000 - val_loss: 0.6045 - val_accuracy: 0.9014\n",
            "Epoch 28/50\n",
            "1719/1719 [==============================] - 7s 4ms/step - loss: 0.0019 - accuracy: 1.0000 - val_loss: 0.6029 - val_accuracy: 0.9026\n",
            "Epoch 29/50\n",
            "1719/1719 [==============================] - 7s 4ms/step - loss: 0.0018 - accuracy: 1.0000 - val_loss: 0.6037 - val_accuracy: 0.9016\n",
            "Epoch 30/50\n",
            "1719/1719 [==============================] - 7s 4ms/step - loss: 0.0018 - accuracy: 1.0000 - val_loss: 0.6110 - val_accuracy: 0.9026\n",
            "Epoch 31/50\n",
            "1719/1719 [==============================] - 7s 4ms/step - loss: 0.0018 - accuracy: 1.0000 - val_loss: 0.6050 - val_accuracy: 0.9030\n",
            "Epoch 32/50\n",
            "1719/1719 [==============================] - 7s 4ms/step - loss: 0.0018 - accuracy: 1.0000 - val_loss: 0.6059 - val_accuracy: 0.9020\n",
            "Epoch 33/50\n",
            "1719/1719 [==============================] - 7s 4ms/step - loss: 0.0018 - accuracy: 1.0000 - val_loss: 0.6094 - val_accuracy: 0.9020\n",
            "Epoch 34/50\n",
            "1719/1719 [==============================] - 7s 4ms/step - loss: 0.0018 - accuracy: 1.0000 - val_loss: 0.6099 - val_accuracy: 0.9018\n",
            "Epoch 35/50\n",
            "1719/1719 [==============================] - 7s 4ms/step - loss: 0.0017 - accuracy: 1.0000 - val_loss: 0.6135 - val_accuracy: 0.9028\n",
            "Epoch 36/50\n",
            "1719/1719 [==============================] - 7s 4ms/step - loss: 0.0017 - accuracy: 1.0000 - val_loss: 0.6112 - val_accuracy: 0.9014\n",
            "Epoch 37/50\n",
            "1719/1719 [==============================] - 7s 4ms/step - loss: 0.0017 - accuracy: 1.0000 - val_loss: 0.6125 - val_accuracy: 0.9024\n",
            "Epoch 38/50\n",
            "1719/1719 [==============================] - 7s 4ms/step - loss: 0.0017 - accuracy: 1.0000 - val_loss: 0.6106 - val_accuracy: 0.9026\n",
            "Epoch 39/50\n",
            "1719/1719 [==============================] - 7s 4ms/step - loss: 0.0016 - accuracy: 1.0000 - val_loss: 0.6135 - val_accuracy: 0.9036\n",
            "Epoch 40/50\n",
            "1719/1719 [==============================] - 7s 4ms/step - loss: 0.0016 - accuracy: 1.0000 - val_loss: 0.6167 - val_accuracy: 0.9038\n",
            "Epoch 41/50\n",
            "1719/1719 [==============================] - 7s 4ms/step - loss: 0.0016 - accuracy: 1.0000 - val_loss: 0.6125 - val_accuracy: 0.9024\n",
            "Epoch 42/50\n",
            "1719/1719 [==============================] - 7s 4ms/step - loss: 0.0016 - accuracy: 1.0000 - val_loss: 0.6156 - val_accuracy: 0.9024\n",
            "Epoch 43/50\n",
            "1719/1719 [==============================] - 7s 4ms/step - loss: 0.0016 - accuracy: 1.0000 - val_loss: 0.6155 - val_accuracy: 0.9028\n",
            "Epoch 44/50\n",
            "1719/1719 [==============================] - 7s 4ms/step - loss: 0.0015 - accuracy: 1.0000 - val_loss: 0.6197 - val_accuracy: 0.9028\n",
            "Epoch 45/50\n",
            "1719/1719 [==============================] - 7s 4ms/step - loss: 0.0015 - accuracy: 1.0000 - val_loss: 0.6213 - val_accuracy: 0.9020\n",
            "Epoch 46/50\n",
            "1719/1719 [==============================] - 7s 4ms/step - loss: 0.0015 - accuracy: 1.0000 - val_loss: 0.6200 - val_accuracy: 0.9018\n",
            "Epoch 47/50\n",
            "1719/1719 [==============================] - 7s 4ms/step - loss: 0.0015 - accuracy: 1.0000 - val_loss: 0.6196 - val_accuracy: 0.9042\n",
            "Epoch 48/50\n",
            "1719/1719 [==============================] - 7s 4ms/step - loss: 0.0015 - accuracy: 1.0000 - val_loss: 0.6214 - val_accuracy: 0.9018\n",
            "Epoch 49/50\n",
            "1719/1719 [==============================] - 7s 4ms/step - loss: 0.0015 - accuracy: 1.0000 - val_loss: 0.6224 - val_accuracy: 0.9036\n",
            "Epoch 50/50\n",
            "1719/1719 [==============================] - 7s 4ms/step - loss: 0.0014 - accuracy: 1.0000 - val_loss: 0.6273 - val_accuracy: 0.9016\n"
          ]
        },
        {
          "output_type": "display_data",
          "data": {
            "text/plain": [
              "<Figure size 1080x576 with 8 Axes>"
            ],
            "image/png": "[encoded data removed]"
          },
          "metadata": {
            "needs_background": "light"
          }
        }
      ]
    },
    {
      "cell_type": "markdown",
      "source": [
        "## 4) Add additional neurons and use Dropout Layer. Plot Learning curves."
      ],
      "metadata": {
        "id": "1y8MaT6-Nnr4"
      }
    },
    {
      "cell_type": "code",
      "source": [
        "model = keras.models.Sequential([\n",
        "                                 \n",
        "    #keras.layers.Dropout(0.01, input_shape=[28, 28]),\n",
        "\n",
        "    #with 400 neurons in the first layer instead of 300\n",
        "    keras.layers.Flatten(input_shape=[28, 28]),\n",
        "    keras.layers.Dense(400, activation=\"relu\"),\n",
        "    keras.layers.Dense(100, activation=\"relu\"),\n",
        "    keras.layers.Dense(10, activation=\"softmax\")\n",
        "  ])\n",
        "\n",
        "model.compile(loss=\"sparse_categorical_crossentropy\",\n",
        "              optimizer=\"sgd\",\n",
        "              metrics=[\"accuracy\"])\n",
        "history = model.fit(X_train, y_train, batch_size=32, epochs=30,\n",
        "                validation_data=(X_valid, y_valid), verbose=0)\n",
        "pd.DataFrame(history.history).plot(figsize=(8, 5))\n",
        "plt.grid(True)\n",
        "plt.gca().set_ylim(0, 1)\n",
        "plt.show()"
      ],
      "metadata": {
        "colab": {
          "base_uri": "https://localhost:8080/",
          "height": 1000
        },
        "outputId": "f15b4b70-0e4a-4290-e5f2-30473a2b3762",
        "id": "6unTp5q_Nnr9"
      },
      "execution_count": 50,
      "outputs": [
        {
          "output_type": "stream",
          "name": "stdout",
          "text": [
            "Epoch 1/30\n",
            "1719/1719 [==============================] - 7s 4ms/step - loss: 0.7050 - accuracy: 0.7683 - val_loss: 0.5178 - val_accuracy: 0.8192\n",
            "Epoch 2/30\n",
            "1719/1719 [==============================] - 8s 4ms/step - loss: 0.4848 - accuracy: 0.8308 - val_loss: 0.4447 - val_accuracy: 0.8494\n",
            "Epoch 3/30\n",
            "1719/1719 [==============================] - 7s 4ms/step - loss: 0.4404 - accuracy: 0.8469 - val_loss: 0.4054 - val_accuracy: 0.8636\n",
            "Epoch 4/30\n",
            "1719/1719 [==============================] - 7s 4ms/step - loss: 0.4126 - accuracy: 0.8573 - val_loss: 0.3959 - val_accuracy: 0.8650\n",
            "Epoch 5/30\n",
            "1719/1719 [==============================] - 7s 4ms/step - loss: 0.3933 - accuracy: 0.8617 - val_loss: 0.3969 - val_accuracy: 0.8628\n",
            "Epoch 6/30\n",
            "1719/1719 [==============================] - 7s 4ms/step - loss: 0.3767 - accuracy: 0.8665 - val_loss: 0.3811 - val_accuracy: 0.8704\n",
            "Epoch 7/30\n",
            "1719/1719 [==============================] - 7s 4ms/step - loss: 0.3631 - accuracy: 0.8717 - val_loss: 0.3630 - val_accuracy: 0.8722\n",
            "Epoch 8/30\n",
            "1719/1719 [==============================] - 7s 4ms/step - loss: 0.3517 - accuracy: 0.8760 - val_loss: 0.3557 - val_accuracy: 0.8734\n",
            "Epoch 9/30\n",
            "1719/1719 [==============================] - 7s 4ms/step - loss: 0.3408 - accuracy: 0.8789 - val_loss: 0.3698 - val_accuracy: 0.8702\n",
            "Epoch 10/30\n",
            "1719/1719 [==============================] - 7s 4ms/step - loss: 0.3314 - accuracy: 0.8825 - val_loss: 0.3477 - val_accuracy: 0.8786\n",
            "Epoch 11/30\n",
            "1719/1719 [==============================] - 7s 4ms/step - loss: 0.3231 - accuracy: 0.8837 - val_loss: 0.3336 - val_accuracy: 0.8812\n",
            "Epoch 12/30\n",
            "1719/1719 [==============================] - 7s 4ms/step - loss: 0.3141 - accuracy: 0.8867 - val_loss: 0.3241 - val_accuracy: 0.8858\n",
            "Epoch 13/30\n",
            "1719/1719 [==============================] - 7s 4ms/step - loss: 0.3062 - accuracy: 0.8903 - val_loss: 0.3221 - val_accuracy: 0.8832\n",
            "Epoch 14/30\n",
            "1719/1719 [==============================] - 7s 4ms/step - loss: 0.2999 - accuracy: 0.8920 - val_loss: 0.3506 - val_accuracy: 0.8764\n",
            "Epoch 15/30\n",
            "1719/1719 [==============================] - 7s 4ms/step - loss: 0.2927 - accuracy: 0.8957 - val_loss: 0.3273 - val_accuracy: 0.8824\n",
            "Epoch 16/30\n",
            "1719/1719 [==============================] - 7s 4ms/step - loss: 0.2873 - accuracy: 0.8973 - val_loss: 0.3191 - val_accuracy: 0.8870\n",
            "Epoch 17/30\n",
            "1719/1719 [==============================] - 7s 4ms/step - loss: 0.2805 - accuracy: 0.9002 - val_loss: 0.3087 - val_accuracy: 0.8866\n",
            "Epoch 18/30\n",
            "1719/1719 [==============================] - 7s 4ms/step - loss: 0.2747 - accuracy: 0.9016 - val_loss: 0.3060 - val_accuracy: 0.8926\n",
            "Epoch 19/30\n",
            "1719/1719 [==============================] - 7s 4ms/step - loss: 0.2695 - accuracy: 0.9044 - val_loss: 0.3248 - val_accuracy: 0.8810\n",
            "Epoch 20/30\n",
            "1719/1719 [==============================] - 7s 4ms/step - loss: 0.2645 - accuracy: 0.9050 - val_loss: 0.3074 - val_accuracy: 0.8920\n",
            "Epoch 21/30\n",
            "1719/1719 [==============================] - 7s 4ms/step - loss: 0.2591 - accuracy: 0.9080 - val_loss: 0.3067 - val_accuracy: 0.8938\n",
            "Epoch 22/30\n",
            "1719/1719 [==============================] - 7s 4ms/step - loss: 0.2541 - accuracy: 0.9077 - val_loss: 0.3058 - val_accuracy: 0.8898\n",
            "Epoch 23/30\n",
            "1719/1719 [==============================] - 7s 4ms/step - loss: 0.2500 - accuracy: 0.9103 - val_loss: 0.3065 - val_accuracy: 0.8912\n",
            "Epoch 24/30\n",
            "1719/1719 [==============================] - 8s 5ms/step - loss: 0.2451 - accuracy: 0.9115 - val_loss: 0.2976 - val_accuracy: 0.8936\n",
            "Epoch 25/30\n",
            "1719/1719 [==============================] - 7s 4ms/step - loss: 0.2406 - accuracy: 0.9129 - val_loss: 0.3008 - val_accuracy: 0.8906\n",
            "Epoch 26/30\n",
            "1719/1719 [==============================] - 9s 6ms/step - loss: 0.2363 - accuracy: 0.9156 - val_loss: 0.3009 - val_accuracy: 0.8948\n",
            "Epoch 27/30\n",
            "1719/1719 [==============================] - 8s 5ms/step - loss: 0.2319 - accuracy: 0.9164 - val_loss: 0.2936 - val_accuracy: 0.8974\n",
            "Epoch 28/30\n",
            "1719/1719 [==============================] - 8s 4ms/step - loss: 0.2275 - accuracy: 0.9185 - val_loss: 0.3007 - val_accuracy: 0.8928\n",
            "Epoch 29/30\n",
            "1719/1719 [==============================] - 7s 4ms/step - loss: 0.2244 - accuracy: 0.9196 - val_loss: 0.3069 - val_accuracy: 0.8948\n",
            "Epoch 30/30\n",
            "1719/1719 [==============================] - 7s 4ms/step - loss: 0.2205 - accuracy: 0.9213 - val_loss: 0.2901 - val_accuracy: 0.8934\n"
          ]
        },
        {
          "output_type": "display_data",
          "data": {
            "text/plain": [
              "<Figure size 576x360 with 1 Axes>"
            ],
            "image/png": "[encoded data removed]"
          },
          "metadata": {
            "needs_background": "light"
          }
        }
      ]
    },
    {
      "cell_type": "markdown",
      "source": [
        "## 5) Use Batch Normalisation"
      ],
      "metadata": {
        "id": "IS3AIzFWgwnI"
      }
    },
    {
      "cell_type": "code",
      "source": [
        "model = keras.models.Sequential([\n",
        "                                 \n",
        "    tf.keras.layers.BatchNormalization(\n",
        "      axis=-1,\n",
        "      momentum=0.99,\n",
        "      epsilon=0.001,\n",
        "      center=True,\n",
        "      scale=True,\n",
        "      beta_initializer=\"zeros\",\n",
        "      gamma_initializer=\"ones\",\n",
        "      moving_mean_initializer=\"zeros\",\n",
        "      moving_variance_initializer=\"ones\",\n",
        "      beta_regularizer=None,\n",
        "      gamma_regularizer=None,\n",
        "      beta_constraint=None,\n",
        "      gamma_constraint=None),\n",
        "\n",
        "    keras.layers.Flatten(input_shape=[28, 28]),\n",
        "    keras.layers.Dense(400, activation=\"relu\"),\n",
        "    keras.layers.Dense(100, activation=\"relu\"),\n",
        "    keras.layers.Dense(10, activation=\"softmax\")\n",
        "  ])\n",
        "model.compile(loss=\"sparse_categorical_crossentropy\",\n",
        "            optimizer=optimisers[i],\n",
        "            metrics=[\"accuracy\"])\n",
        "history = model.fit(X_train, y_train, batch_size=32, epochs=30,\n",
        "                validation_data=(X_valid, y_valid), verbose=0)\n",
        "pd.DataFrame(history.history).plot(figsize=(8, 5))\n",
        "plt.grid(True)\n",
        "plt.gca().set_ylim(0, 1)\n",
        "plt.show()"
      ],
      "metadata": {
        "colab": {
          "base_uri": "https://localhost:8080/",
          "height": 1000
        },
        "outputId": "496aee1d-730c-4c5c-c675-73c6dfd24428",
        "id": "GpGlzM5DgwnO"
      },
      "execution_count": 48,
      "outputs": [
        {
          "output_type": "stream",
          "name": "stdout",
          "text": [
            "Epoch 1/30\n",
            "1719/1719 [==============================] - 12s 7ms/step - loss: 0.4528 - accuracy: 0.8359 - val_loss: 0.3656 - val_accuracy: 0.8678\n",
            "Epoch 2/30\n",
            "1719/1719 [==============================] - 11s 7ms/step - loss: 0.3384 - accuracy: 0.8750 - val_loss: 0.3442 - val_accuracy: 0.8722\n",
            "Epoch 3/30\n",
            "1719/1719 [==============================] - 11s 6ms/step - loss: 0.2983 - accuracy: 0.8885 - val_loss: 0.3203 - val_accuracy: 0.8822\n",
            "Epoch 4/30\n",
            "1719/1719 [==============================] - 11s 7ms/step - loss: 0.2700 - accuracy: 0.8994 - val_loss: 0.3088 - val_accuracy: 0.8920\n",
            "Epoch 5/30\n",
            "1719/1719 [==============================] - 11s 6ms/step - loss: 0.2499 - accuracy: 0.9053 - val_loss: 0.3376 - val_accuracy: 0.8812\n",
            "Epoch 6/30\n",
            "1719/1719 [==============================] - 11s 6ms/step - loss: 0.2306 - accuracy: 0.9128 - val_loss: 0.3065 - val_accuracy: 0.8922\n",
            "Epoch 7/30\n",
            "1719/1719 [==============================] - 11s 7ms/step - loss: 0.2168 - accuracy: 0.9183 - val_loss: 0.3210 - val_accuracy: 0.8938\n",
            "Epoch 8/30\n",
            "1719/1719 [==============================] - 11s 6ms/step - loss: 0.1998 - accuracy: 0.9229 - val_loss: 0.3294 - val_accuracy: 0.8894\n",
            "Epoch 9/30\n",
            "1719/1719 [==============================] - 11s 7ms/step - loss: 0.1872 - accuracy: 0.9290 - val_loss: 0.3527 - val_accuracy: 0.8934\n",
            "Epoch 10/30\n",
            "1719/1719 [==============================] - 11s 7ms/step - loss: 0.1779 - accuracy: 0.9330 - val_loss: 0.3276 - val_accuracy: 0.8934\n",
            "Epoch 11/30\n",
            "1719/1719 [==============================] - 11s 6ms/step - loss: 0.1631 - accuracy: 0.9391 - val_loss: 0.3735 - val_accuracy: 0.8830\n",
            "Epoch 12/30\n",
            "1719/1719 [==============================] - 11s 6ms/step - loss: 0.1569 - accuracy: 0.9412 - val_loss: 0.3402 - val_accuracy: 0.8942\n",
            "Epoch 13/30\n",
            "1719/1719 [==============================] - 11s 6ms/step - loss: 0.1491 - accuracy: 0.9445 - val_loss: 0.3504 - val_accuracy: 0.8952\n",
            "Epoch 14/30\n",
            "1719/1719 [==============================] - 11s 6ms/step - loss: 0.1399 - accuracy: 0.9480 - val_loss: 0.3766 - val_accuracy: 0.8970\n",
            "Epoch 15/30\n",
            "1719/1719 [==============================] - 11s 6ms/step - loss: 0.1340 - accuracy: 0.9490 - val_loss: 0.3716 - val_accuracy: 0.8948\n",
            "Epoch 16/30\n",
            "1719/1719 [==============================] - 11s 7ms/step - loss: 0.1271 - accuracy: 0.9518 - val_loss: 0.3878 - val_accuracy: 0.8994\n",
            "Epoch 17/30\n",
            "1719/1719 [==============================] - 11s 6ms/step - loss: 0.1180 - accuracy: 0.9556 - val_loss: 0.4036 - val_accuracy: 0.9000\n",
            "Epoch 18/30\n",
            "1719/1719 [==============================] - 11s 6ms/step - loss: 0.1152 - accuracy: 0.9571 - val_loss: 0.4370 - val_accuracy: 0.8960\n",
            "Epoch 19/30\n",
            "1719/1719 [==============================] - 11s 6ms/step - loss: 0.1113 - accuracy: 0.9586 - val_loss: 0.4504 - val_accuracy: 0.8982\n",
            "Epoch 20/30\n",
            "1719/1719 [==============================] - 11s 6ms/step - loss: 0.1056 - accuracy: 0.9604 - val_loss: 0.4383 - val_accuracy: 0.8970\n",
            "Epoch 21/30\n",
            "1719/1719 [==============================] - 11s 6ms/step - loss: 0.1006 - accuracy: 0.9623 - val_loss: 0.4460 - val_accuracy: 0.8934\n",
            "Epoch 22/30\n",
            "1719/1719 [==============================] - 11s 6ms/step - loss: 0.0965 - accuracy: 0.9630 - val_loss: 0.4279 - val_accuracy: 0.8944\n",
            "Epoch 23/30\n",
            "1719/1719 [==============================] - 11s 6ms/step - loss: 0.0904 - accuracy: 0.9667 - val_loss: 0.4790 - val_accuracy: 0.8930\n",
            "Epoch 24/30\n",
            "1719/1719 [==============================] - 11s 7ms/step - loss: 0.0927 - accuracy: 0.9658 - val_loss: 0.4368 - val_accuracy: 0.8992\n",
            "Epoch 25/30\n",
            "1719/1719 [==============================] - 11s 7ms/step - loss: 0.0843 - accuracy: 0.9683 - val_loss: 0.5230 - val_accuracy: 0.8992\n",
            "Epoch 26/30\n",
            "1719/1719 [==============================] - 11s 6ms/step - loss: 0.0836 - accuracy: 0.9686 - val_loss: 0.4939 - val_accuracy: 0.8978\n",
            "Epoch 27/30\n",
            "1719/1719 [==============================] - 11s 6ms/step - loss: 0.0804 - accuracy: 0.9697 - val_loss: 0.4789 - val_accuracy: 0.8962\n",
            "Epoch 28/30\n",
            "1719/1719 [==============================] - 11s 6ms/step - loss: 0.0791 - accuracy: 0.9708 - val_loss: 0.5360 - val_accuracy: 0.9000\n",
            "Epoch 29/30\n",
            "1719/1719 [==============================] - 11s 6ms/step - loss: 0.0767 - accuracy: 0.9725 - val_loss: 0.5401 - val_accuracy: 0.8944\n",
            "Epoch 30/30\n",
            "1719/1719 [==============================] - 11s 6ms/step - loss: 0.0728 - accuracy: 0.9725 - val_loss: 0.5374 - val_accuracy: 0.8980\n"
          ]
        },
        {
          "output_type": "display_data",
          "data": {
            "text/plain": [
              "<Figure size 576x360 with 1 Axes>"
            ],
            "image/png": "[encoded data removed]"
          },
          "metadata": {
            "needs_background": "light"
          }
        }
      ]
    },
    {
      "cell_type": "markdown",
      "source": [
        "## 6) repeat with more layers"
      ],
      "metadata": {
        "id": "2cTlXfv2LqtC"
      }
    },
    {
      "cell_type": "code",
      "source": [
        "model = keras.models.Sequential([\n",
        "    keras.layers.Flatten(input_shape=[28, 28]),\n",
        "    keras.layers.Dense(400, activation=\"relu\"),\n",
        "    keras.layers.Dense(300, activation=\"relu\"),\n",
        "    keras.layers.Dense(200, activation=\"relu\"),\n",
        "    keras.layers.Dense(100, activation=\"relu\"),\n",
        "    keras.layers.Dense(10, activation=\"softmax\")\n",
        "  ])\n",
        "\n",
        "model.compile(loss=\"sparse_categorical_crossentropy\",\n",
        "              optimizer=\"sgd\",\n",
        "              metrics=[\"accuracy\"])\n",
        "history = model.fit(X_train, y_train, batch_size=32, epochs=30,\n",
        "                validation_data=(X_valid, y_valid), verbose=0)\n",
        "pd.DataFrame(history.history).plot(figsize=(8, 5))\n",
        "plt.grid(True)\n",
        "plt.gca().set_ylim(0, 1)\n",
        "plt.show()"
      ],
      "metadata": {
        "colab": {
          "base_uri": "https://localhost:8080/",
          "height": 328
        },
        "id": "K_r_bt8BLqtH",
        "outputId": "68094686-bcf2-448a-f3b5-f94e8f1148f6"
      },
      "execution_count": 59,
      "outputs": [
        {
          "output_type": "display_data",
          "data": {
            "text/plain": [
              "<Figure size 576x360 with 1 Axes>"
            ],
            "image/png": "[encoded data removed]"
          },
          "metadata": {
            "needs_background": "light"
          }
        }
      ]
    },
    {
      "cell_type": "markdown",
      "source": [
        "## 7) apply on different datasets"
      ],
      "metadata": {
        "id": "jKUZgphSGZ9G"
      }
    },
    {
      "cell_type": "code",
      "source": [
        "dataset = np.loadtxt(\"pima-indians-diabetes.data.csv\", delimiter=\",\")\n",
        "X = dataset[:,0:8]\n",
        "Y = dataset[:,8]\n",
        "\n",
        "model = keras.models.Sequential()\n",
        "model.add(keras.layers.Dense(12, input_dim=8, activation='relu'))\n",
        "model.add(keras.layers.Dense(8, activation='relu'))\n",
        "model.add(keras.layers.Dense(1, activation='sigmoid'))\n",
        "\n",
        "model.compile(loss='binary_crossentropy', optimizer='adam', metrics=['accuracy'])\n",
        "\n",
        "history = model.fit(X, Y, validation_split=0.33, epochs=100, batch_size=10, verbose=0)\n",
        "\n",
        "pd.DataFrame(history.history).plot(figsize=(8, 5))\n",
        "plt.grid(True)\n",
        "plt.gca().set_ylim(0, 1)\n",
        "plt.show()"
      ],
      "metadata": {
        "colab": {
          "base_uri": "https://localhost:8080/",
          "height": 328
        },
        "outputId": "6b7710f3-f6c8-427f-d2f0-277af02f2efb",
        "id": "qUKWysfxGZ9L"
      },
      "execution_count": 58,
      "outputs": [
        {
          "output_type": "display_data",
          "data": {
            "text/plain": [
              "<Figure size 576x360 with 1 Axes>"
            ],
            "image/png": "[encoded data removed]"
          },
          "metadata": {
            "needs_background": "light"
          }
        }
      ]
    },
    {
      "cell_type": "code",
      "source": [
        ""
      ],
      "metadata": {
        "id": "szakYH3QJbNy"
      },
      "execution_count": null,
      "outputs": []
    }
  ],
  "metadata": {
    "kernelspec": {
      "display_name": "Python 3",
      "language": "python",
      "name": "python3"
    },
    "language_info": {
      "codemirror_mode": {
        "name": "ipython",
        "version": 3
      },
      "file_extension": ".py",
      "mimetype": "text/x-python",
      "name": "python",
      "nbconvert_exporter": "python",
      "pygments_lexer": "ipython3",
      "version": "3.6.1"
    },
    "nav_menu": {
      "height": "264px",
      "width": "369px"
    },
    "toc": {
      "navigate_menu": true,
      "number_sections": true,
      "sideBar": true,
      "threshold": 6,
      "toc_cell": false,
      "toc_section_display": "block",
      "toc_window_display": false
    },
    "colab": {
      "name": "ANN_with_keras.ipynb",
      "provenance": [],
      "collapsed_sections": []
    }
  },
  "nbformat": 4,
  "nbformat_minor": 0
}